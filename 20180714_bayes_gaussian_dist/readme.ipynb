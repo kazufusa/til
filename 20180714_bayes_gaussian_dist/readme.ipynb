{
 "cells": [
  {
   "cell_type": "markdown",
   "metadata": {},
   "source": [
    "# 1変数ガウス分布(尤度関数)とNormal-gamma分布(事前分布)から事後分布と事後予測分布を求める\n",
    "\n",
    "## 1変数ガウス分布(尤度関数)とNormal-gamma分布(事前分布)から事後分布をvariational inferenceで解くという行為について\n",
    "\n",
    "前回の1変数正規分布モデルのvariational inferenceでは事後予測分布が導出できなかった. 途中で計算を間違えたのかもしれないし, 解析的に解けない問題だったのかもしれない.\n",
    "\n",
    "ところであの問題だが、１変数ガウス分布, Normal-gamma分布をパラメータの事前分布とした場合のパラメータの事後分布や事後予測分布は解析的に解けるのだそうである. 解けるところを試しにvariational inferenceしてみて結果を比較したりする, というのが例題の作為であったようだ. そういう基礎的な背景があったようだ. 知らなかった.\n",
    "\n",
    "というわけで, 普通に解いてみる."
   ]
  },
  {
   "cell_type": "markdown",
   "metadata": {},
   "source": [
    "## 事後分布\n",
    "\n",
    "こちらが尤度と事前分布になります.\n",
    "\n",
    "$$\n",
    "\\begin{eqnarray}\n",
    "p\\left(\\boldsymbol x \\mid \\mu, \\tau \\right) &=& \\prod_{i=1}^N \\mathcal N \\left( x_i \\mid \\mu, \\tau^{-1} \\right) \\\\\n",
    "p\\left(\\mu \\mid \\tau\\right) &=& \\mathcal N \\left( \\mu \\mid \\mu_0, (\\lambda_0\\tau)^{-1} \\right) \\\\\n",
    "p\\left(\\tau\\right) &=& {\\rm Gamma} \\left( \\tau \\mid \\alpha_0, \\beta_0 \\right)\n",
    "\\end{eqnarray}\n",
    "$$"
   ]
  },
  {
   "cell_type": "markdown",
   "metadata": {},
   "source": [
    "$\\mu$と$\\tau$の事後分布を解く. 例によって対数にして考える."
   ]
  },
  {
   "cell_type": "markdown",
   "metadata": {},
   "source": [
    "$$\n",
    "\\begin{eqnarray}\n",
    "p\\left(\\mu, \\tau \\mid \\boldsymbol x \\right) &\\propto& p\\left(\\boldsymbol x \\mid \\mu, \\tau \\right) p\\left(\\mu \\mid \\tau\\right) p\\left(\\tau\\right)\n",
    "\\end{eqnarray}\n",
    "$$"
   ]
  },
  {
   "cell_type": "markdown",
   "metadata": {},
   "source": [
    "$$\n",
    "\\begin{eqnarray}\n",
    "{\\rm ln} \\; p\\left(\\mu, \\tau \\mid \\boldsymbol x \\right) &=&\n",
    "    {\\rm ln}\\;p\\left(\\boldsymbol x \\mid \\mu, \\tau \\right)\n",
    "    + {\\rm ln}\\; p\\left(\\mu \\mid \\tau\\right)\n",
    "    + {\\rm ln}\\; p\\left(\\tau\\right)\n",
    "    + {\\rm const} \\\\\n",
    "&=&\n",
    "    {\\rm ln} \\left(\\prod_{i=1}^N \\mathcal N \\left( x_i \\mid \\mu, \\tau^{-1} \\right) \\right)\n",
    "    + {\\rm ln} \\left( \\mathcal N \\left( \\mu \\mid \\mu_0, (\\lambda_0\\tau)^{-1} \\right) \\right)\n",
    "    + {\\rm ln} \\left( {\\rm Gamma} \\left( \\tau \\mid \\alpha_0, \\beta_0 \\right) \\right)\n",
    "    + {\\rm const} \\\\\n",
    "&=&\n",
    "    \\sum_{i=1}^N \\left(\\frac {1} {2}{\\rm ln} \\; \\tau - \\frac {\\tau} {2} \\left(x_i - \\mu\\right)^2\\right)\n",
    "    + \\frac {1} {2}{\\rm ln} \\; \\tau - \\frac {\\lambda_0 \\tau} {2} \\left(\\mu - \\mu_0 \\right)^2\n",
    "    + \\left(\\alpha_0 - 1\\right){\\rm ln} \\;\\tau - \\beta_0\\tau\n",
    "    + {\\rm const} \\\\\n",
    "&=&\n",
    "    \\frac {N} {2}{\\rm ln} \\; \\tau\n",
    "        - \\frac {\\tau} {2} \\sum_{i=1}^N x_i^2\n",
    "        + \\tau\\left(\\sum_{i=1}^N x_i\\right)\\mu\n",
    "        - \\frac {N\\tau} {2} \\mu^2\n",
    "    + \\frac {1} {2}{\\rm ln} \\; \\tau\n",
    "    - \\frac {\\lambda_0 \\tau} {2} \\mu^2\n",
    "    + \\lambda_0 \\tau \\mu \\mu_0\n",
    "    - \\frac {\\lambda_0 \\tau} {2} \\mu_0^2\n",
    "    + \\left(\\alpha_0 - 1\\right){\\rm ln} \\;\\tau - \\beta_0\\tau\n",
    "    + {\\rm const} \\\\\n",
    "&=&\n",
    "    - \\frac {\\tau} {2} \\left(\\lambda_0 + N\\right) \\mu^2\n",
    "    + \\tau\\left(N \\bar x + \\lambda_0 \\mu_0 \\right)\\mu\n",
    "    + \\left(\\frac {N - 1} {2} + \\alpha_0 \\right){\\rm ln} \\; \\tau\n",
    "    - \\left(\n",
    "        \\frac {1} {2} N \\bar {x^2}\n",
    "        + \\frac {\\lambda_0} {2} \\mu_0^2\n",
    "        + \\beta_0\n",
    "    \\right)\\tau\n",
    "    + {\\rm const} \\\\\n",
    "&=&\n",
    "    \\frac {1} {2}{\\rm ln} \\left(\\tau\\left( \\lambda_0 + N \\right)\\right)\n",
    "    - \\frac {\\tau \\left(\\lambda_0 + N\\right)} {2} \\left(\n",
    "        \\mu - \\frac {N \\bar x + \\lambda_0 \\mu_0}{\\lambda_0 + N}\n",
    "        \\right)^2 \\\\\n",
    "    &&- \\frac {1} {2}{\\rm ln} \\left(\\tau\\left( \\lambda_0 + N \\right)\\right)\n",
    "    + \\frac {\\left(N \\bar x + \\lambda_0 \\mu_0\\right)^2}{2\\left(\\lambda_0 + N\\right)} \\tau\n",
    "    + \\left(\\frac {N - 1} {2} + \\alpha_0 \\right){\\rm ln} \\; \\tau\n",
    "    - \\left(\n",
    "        \\frac {1} {2} N \\bar {x^2}\n",
    "        + \\frac {\\lambda_0} {2} \\mu_0^2\n",
    "        + \\beta_0\n",
    "    \\right)\\tau\n",
    "    + {\\rm const} \\\\\n",
    "&=&\n",
    "    {\\rm ln} \\left( \\mathcal N\\left(\n",
    "        \\mu \\;\\middle|\\;\n",
    "        \\frac {N \\bar x + \\lambda_0 \\mu_0}{\\lambda_0 + N},\n",
    "        \\; \\left(\\left(\\lambda_0 + N\\right) \\tau\\right)^{-1}\n",
    "    \\right) \\right)\n",
    "    + \\left(\\frac {N} {2} + \\alpha_0 -1 \\right){\\rm ln} \\; \\tau\n",
    "    - \\left(\n",
    "        \\frac {1} {2} N \\bar {x^2}\n",
    "        + \\frac {\\lambda_0} {2} \\mu_0^2\n",
    "        - \\frac {\\left(N \\bar x + \\lambda_0 \\mu_0\\right)^2}{2\\left(\\lambda_0 + N\\right)}\n",
    "        + \\beta_0\n",
    "    \\right)\\tau\n",
    "    + {\\rm const} \\\\\n",
    "&=&\n",
    "    {\\rm ln} \\left( \\mathcal N\\left(\n",
    "        \\mu \\;\\middle|\\;\n",
    "        \\frac {N \\bar x + \\lambda_0 \\mu_0}{\\lambda_0 + N},\n",
    "        \\; \\left(\\left(\\lambda_0 + N\\right) \\tau\\right)^{-1}\n",
    "    \\right) \\right)\n",
    "    + \\left(\\frac {N} {2} + \\alpha_0 -1 \\right){\\rm ln} \\; \\tau\n",
    "    - \\left(\n",
    "        \\beta_0\n",
    "        + \\frac {1} {2} \\sum_{i=1}^N \\left(x_i - \\bar x\\right)^2\n",
    "        + \\frac {N\\lambda_0\\left(\\bar x - \\mu_0 \\right)^2} {2\\left(\\lambda_0 + N\\right)}\n",
    "    \\right)\\tau\n",
    "    + {\\rm const} \\\\\n",
    "&=&\n",
    "    {\\rm ln} \\left( \\mathcal N\\left(\n",
    "        \\mu \\;\\middle|\\;\n",
    "        \\frac {N \\bar x + \\lambda_0 \\mu_0}{\\lambda_0 + N},\n",
    "        \\; \\left(\\left(\\lambda_0 + N\\right) \\tau\\right)^{-1}\n",
    "    \\right) \\right)\n",
    "    + {\\rm ln} \\left( {\\rm Gamma}\\left(\n",
    "        \\tau \\;\\middle|\\;\n",
    "        \\frac {N} {2} + \\alpha_0 , \\;\n",
    "        \\beta_0\n",
    "        + \\frac {1} {2} \\sum_{i=1}^N \\left(x_i - \\bar x\\right)^2\n",
    "        + \\frac {N\\lambda_0\\left(\\bar x - \\mu_0 \\right)^2} {2\\left(\\lambda_0 + N\\right)}\n",
    "    \\right) \\right) \\\\\n",
    "\\end{eqnarray}\n",
    "$$"
   ]
  },
  {
   "cell_type": "markdown",
   "metadata": {},
   "source": [
    "$$\n",
    "p\\left( \\mu, \\tau \\mid \\boldsymbol x \\right)= \\mathcal N\\left(\n",
    "        \\mu \\;\\middle|\\;\n",
    "        \\frac {N \\bar x + \\lambda_0 \\mu_0}{\\lambda_0 + N},\n",
    "        \\; \\left(\\left(\\lambda_0 + N\\right) \\tau\\right)^{-1}\n",
    "    \\right)\n",
    "    {\\rm Gamma}\\left(\n",
    "        \\tau \\;\\middle|\\;\n",
    "        \\frac {N} {2} + \\alpha_0 , \\;\n",
    "        \\beta_0\n",
    "        + \\frac {1} {2} \\sum_{i=1}^N \\left(x_i - \\bar x\\right)^2\n",
    "        + \\frac {N\\lambda_0\\left(\\bar x - \\mu_0 \\right)^2} {2\\left(\\lambda_0 + N\\right)}\n",
    "    \\right)\n",
    "$$"
   ]
  },
  {
   "cell_type": "markdown",
   "metadata": {},
   "source": [
    "解けた.\n",
    "\n",
    "ちなみに上のような$\\mu$, $\\tau$の事前分布/事後分布の形を[Normal-gamma分布](https://en.wikipedia.org/wiki/Normal-gamma_distribution)という.\n",
    "\n",
    "## 事後予測分布を解く準備\n",
    "\n",
    "続いて事後予測分布を解くのだが, その前にMurphy, K. P. (2007). \"Conjugate Bayesian analysis of the Gaussian distribution.\"を参考に$p(\\boldsymbol x)$を解く. これを解いておくと事後予測分布を解くのが楽になる. また, ここでの$p(\\boldsymbol x)$の解き方は非常に参考になる."
   ]
  },
  {
   "cell_type": "markdown",
   "metadata": {},
   "source": [
    "まず, Normal-gamma分布とガウス分布について, 正規化項を除いた$\\mu$と$\\tau$に依存する部分を表す関数$NG'(\\mu, \\tau \\mid \\mu, \\lambda, \\alpha, \\beta)$と$N'(x \\mid \\mu, \\tau^{-1})$を導入する. また, Normal-gamma分布の正規化項として$Z_{NG(\\mu, \\lambda, \\alpha, \\beta)}$を導入する. ガウス分布の正規化項は$1/\\sqrt{2\\pi}$である."
   ]
  },
  {
   "cell_type": "markdown",
   "metadata": {},
   "source": [
    "$$\n",
    "\\begin{eqnarray}\n",
    "p\\left(\\mu, \\tau \\right) &=& \\frac {1} {Z_{0}} NG'\\left(\\mu, \\tau | \\mu_0, \\lambda_0, \\alpha_0, \\beta_0\\right) \\\\\n",
    "Z_{0} &=&\n",
    "    \\left(\\frac {2\\pi}{\\lambda_0}\\right)^{\\frac {1} {2}}\n",
    "    \\frac {\\Gamma\\left(\\alpha_0\\right)} {\\beta_0^{\\alpha_0}} \\\\\n",
    "p\\left(\\mu, \\tau \\mid \\boldsymbol x \\right) &=& \\frac {1} {Z_{N}} NG'\\left(\\mu, \\tau | \\mu_N, \\lambda_N, \\alpha_N, \\beta_N\\right) \\\\\n",
    "Z_{N} &=&\n",
    "    \\left(\\frac {2\\pi} {\\lambda_N}\\right)^{\\frac {1} {2}}\n",
    "    \\frac {\\Gamma\\left(\\alpha_N\\right)} {\\beta_N^{\\alpha_N}}\\\\\n",
    "p\\left(\\boldsymbol x \\mid \\mu, \\tau \\right) &=& \\left(\\frac {1} {2\\pi} \\right)^{\\frac{N} {2}} \\prod_{i=1}^N N'\\left(x_i \\mid \\mu, \\tau^{-1}\\right) \\\\\n",
    "\\mu_N &=& \\frac {N \\bar x + \\lambda_0 \\mu_0}{\\lambda_0 + N} \\\\\n",
    "\\lambda_N &=& \\lambda_0 + N\\\\\n",
    "\\alpha_N &=& \\frac {N} {2} + \\alpha_0 \\\\\n",
    "\\beta_N &=& \\beta_0\n",
    "        + \\frac {1} {2} \\sum_{i=1}^N \\left(x_i - \\bar x\\right)^2\n",
    "        + \\frac {N\\lambda_0\\left(\\bar x - \\mu_0 \\right)^2} {2\\left(\\lambda_0 + N\\right)}\n",
    "\\end{eqnarray}\n",
    "$$"
   ]
  },
  {
   "cell_type": "markdown",
   "metadata": {},
   "source": [
    "以下のように$p(\\boldsymbol x)$を導出する. このとき, $\\mu$や$\\tau$に依存する項は割って1にならなければならないところがミソである(3行目).\n",
    "\n",
    "$$\n",
    "\\begin{eqnarray}\n",
    "p\\left(\\boldsymbol x \\right) &=& \n",
    "    \\frac\n",
    "        {p\\left( \\mu, \\tau\\right) p\\left(\\boldsymbol x \\mid \\mu, \\tau\\right)}\n",
    "        {p\\left(\\mu, \\tau \\mid \\boldsymbol x \\right)} \\\\\n",
    "&=& \\frac\n",
    "    { \\frac {1} {Z_{0}} NG'\\left(\\mu, \\tau | \\mu_0, \\lambda_0, \\alpha_0, \\beta_0\\right)\n",
    "    \\left(\\frac {1} {2\\pi} \\right)^{\\frac{N} {2}} \\prod_{i=1}^N N'\\left(x_i \\mid \\mu, \\tau^{-1}\\right)}\n",
    "    {\\frac {1} {Z_{N}} NG'\\left(\\mu, \\tau | \\mu_N, \\lambda_N, \\alpha_N, \\beta_N\\right)} \\\\\n",
    "&=& \n",
    "    \\frac {Z_N} {Z_0}\n",
    "    \\left(\\frac {1} {2\\pi} \\right)^{\\frac{N} {2}} \n",
    "    \\frac{\n",
    "        NG'\\left(\\mu, \\tau | \\mu_0, \\lambda_0, \\alpha_0, \\beta_0\\right)\n",
    "        \\prod_{i=1}^N N'\\left(x_i \\mid \\mu, \\tau^{-1}\\right)}\n",
    "        {NG'\\left(\\mu, \\tau | \\mu_N, \\lambda_N, \\alpha_N, \\beta_N\\right)\n",
    "    } \\\\\n",
    "&=& \n",
    "    \\frac {Z_N} {Z_0}\n",
    "    \\left(\\frac {1} {2\\pi} \\right)^{\\frac{N} {2}} \\\\\n",
    "&=& \n",
    "    \\frac {\\Gamma\\left(\\alpha_N\\right)} {\\Gamma\\left(\\alpha_0\\right)}\n",
    "    \\frac {\\beta_0^{\\alpha_{0}}} {\\beta_N^{\\alpha_{N}}}\n",
    "    \\left(\\frac {\\lambda_0} {\\lambda_N} \\right)^{\\frac{1} {2}}\n",
    "    \\left(\\frac {1} {2\\pi} \\right)^{\\frac{N} {2}}\n",
    "\\end{eqnarray}\n",
    "$$\n",
    "\n",
    "ベイズ統計で尤度と事前分布の積の対数をとって, 定数項=正規化係数を無視して式形からパラメータの事後分布を求めるのは定番のテクニックだと思う. 初めて見たときは感動すら覚えた.\n",
    "\n",
    "これを逆に考えると, 正規化係数のみに着目すればベイズの定理の右辺の分母 $p(\\boldsymbol x)$ が簡単に導出できるのである. たしかに言われてみればその通りであるがすごい."
   ]
  },
  {
   "cell_type": "markdown",
   "metadata": {},
   "source": [
    "## 事後予測分布\n",
    "\n",
    "それではある一つのデータ$\\hat x$についての事後予測分布を解く."
   ]
  },
  {
   "cell_type": "markdown",
   "metadata": {},
   "source": [
    "$$\n",
    "\\begin{eqnarray}\n",
    "p\\left( \\hat x \\mid \\boldsymbol x \\right)\n",
    "&=& \\frac\n",
    "    {p\\left(\\hat x, \\boldsymbol x \\right)}\n",
    "    {p\\left(\\boldsymbol x \\right)} \\\\\n",
    "&=& \\frac\n",
    "    {\n",
    "        \\frac {\\Gamma\\left(\\alpha_{N+1}\\right)} {\\Gamma\\left(\\alpha_0\\right)}\n",
    "        \\frac {\\beta_0^{\\alpha_{0}}} {\\beta_{N+1}^{\\alpha_{{N+1}}}}\n",
    "        \\left(\\frac {\\lambda_0} {\\lambda_{N+1}} \\right)^{\\frac{1} {2}}\n",
    "        \\left(\\frac {1} {2\\pi} \\right)^{\\frac{{N+1}} {2}}\n",
    "    }\n",
    "    {\n",
    "        \\frac {\\Gamma\\left(\\alpha_N\\right)} {\\Gamma\\left(\\alpha_0\\right)}\n",
    "        \\frac {\\beta_0^{\\alpha_{0}}} {\\beta_N^{\\alpha_{N}}}\n",
    "        \\left(\\frac {\\lambda_0} {\\lambda_N} \\right)^{\\frac{1} {2}}\n",
    "        \\left(\\frac {1} {2\\pi} \\right)^{\\frac{N} {2}}\n",
    "    } \\\\\n",
    "&=&\n",
    "    \\frac {\\Gamma\\left(\\alpha_{N+1}\\right)} {\\Gamma\\left(\\alpha_N\\right)}\n",
    "    \\frac {\\beta_N^{\\alpha_{N}}} {\\beta_{N+1}^{\\alpha_{{N+1}}}}\n",
    "    \\left(\\frac {\\lambda_N} {\\lambda_{N+1}} \\right)^{\\frac{1} {2}}\n",
    "    (2\\pi)^{-\\frac {1} {2}}\n",
    "\\end{eqnarray}\n",
    "$$"
   ]
  },
  {
   "cell_type": "markdown",
   "metadata": {},
   "source": [
    "$\\lambda_{N+1}, \\alpha_{N+1}, \\beta_{N+1}$が出てきた. これらは$p(\\mu, \\tau \\mid \\hat x, \\boldsymbol x) \\propto p(\\hat x \\mid \\mu, \\tau) p(\\mu, \\tau \\mid \\boldsymbol x)$が簡単に示されるのでここから次のように得られる."
   ]
  },
  {
   "cell_type": "markdown",
   "metadata": {},
   "source": [
    "$$\n",
    "\\begin{eqnarray}\n",
    "\\lambda_{N+1} &=& \\lambda_N + 1 \\\\\n",
    "\\alpha_{N+1} &=& \\alpha_N + \\frac {1} {2}\\\\\n",
    "\\beta_{N+1} &=& \\beta_N\n",
    "    + \\frac {1} {2} \\sum_{i=1}^1 \\left(\\hat x_i - \\bar {\\hat x}\\right)^2\n",
    "    + \\frac {1\\lambda_N\\left(\\bar {\\hat x} - \\mu_N \\right)^2} {2\\left(\\lambda_N + 1\\right)} \\\\\n",
    "&=& \\beta_N\n",
    "    + \\frac {\\lambda_N\\left(\\hat x - \\mu_N \\right)^2} {2\\left(\\lambda_N + 1\\right)}\n",
    "\\end{eqnarray}\n",
    "$$"
   ]
  },
  {
   "cell_type": "markdown",
   "metadata": {},
   "source": [
    "つづき."
   ]
  },
  {
   "cell_type": "markdown",
   "metadata": {
    "collapsed": true
   },
   "source": [
    "$$\n",
    "\\begin{eqnarray}\n",
    "p\\left( \\hat x \\mid \\boldsymbol x \\right)\n",
    "&=&\n",
    "    \\frac {\\Gamma\\left(\\alpha_{N+1}\\right)} {\\Gamma\\left(\\alpha_N\\right)}\n",
    "    \\frac {\\beta_N^{\\alpha_{N}}} {\\beta_{N+1}^{\\alpha_{{N+1}}}}\n",
    "    \\left(\\frac {\\lambda_N} {\\lambda_{N+1}} \\right)^{\\frac{1} {2}}\n",
    "    \\frac {1} {2\\pi} \\\\\n",
    "&=&\n",
    "    \\frac {\\Gamma\\left(\\alpha_{N} + \\frac {1} {2}\\right)} {\\Gamma\\left(\\alpha_N\\right)}\n",
    "    \\frac {\\beta_N^{\\alpha_{N}}} {\\left(\\beta_{N} + \\frac {\\lambda_N\\left(\\hat x - \\mu_N\\right)^2} {2\\left(\\lambda_N + 1\\right)}\\right)^{\\alpha_{N} + \\frac {1} {2}}}\n",
    "    \\left(\\frac {\\lambda_N} {\\lambda_{N}+1} \\right)^{\\frac{1} {2}}\n",
    "    (2\\pi)^{-\\frac {1} {2}} \\\\\n",
    "&=&\n",
    "    \\frac {\\Gamma\\left(\\frac {2\\alpha_{N} + 1} {2}\\right)} {\\Gamma\\left(2\\alpha_N\\right)}\n",
    "    \\left(\n",
    "        \\frac {\\beta_N} {\\left(\\beta_{N} + \\frac {\\lambda_N\\left(\\hat x - \\mu_N\\right)^2} {2\\left(\\lambda_N + 1\\right)}\\right)}\n",
    "    \\right)^{\\alpha_{N} + \\frac {1} {2}}\n",
    "    \\beta_N^{-\\frac{1}{2}}\n",
    "    \\left(\\frac {\\lambda_N} {\\lambda_{N}+1} \\right)^{\\frac{1} {2}}\n",
    "    (2\\pi)^{-\\frac {1} {2}} \\\\\n",
    "&=&\n",
    "    \\pi^{-\\frac {1} {2}}\n",
    "    \\frac {\\Gamma\\left(\\frac {2\\alpha_{N} + 1} {2}\\right)} {\\Gamma\\left(\\frac {2\\alpha_N} {2} \\right)}\n",
    "    \\left(\n",
    "        1 + \\frac {\\lambda_N\\left(\\hat x - \\mu_N\\right)^2} {2\\beta_N\\left(\\lambda_N + 1\\right)}\n",
    "    \\right)^{-\\left(\\frac {2\\alpha_{N} + 1} {2}\\right)}\n",
    "    \\left(\\frac {\\alpha_N \\lambda_N} {2\\alpha_N\\beta_N \\left(\\lambda_{N}+1\\right)} \\right)^{\\frac{1} {2}} \\\\\n",
    "&=&\n",
    "    \\pi^{-\\frac {1} {2}}\n",
    "    \\frac {\\Gamma\\left(\\frac {2\\alpha_{N} + 1} {2}\\right)} {\\Gamma\\left(\\frac {2\\alpha_N} {2} \\right)}\n",
    "    \\left(\n",
    "        1 + \\frac {\\Lambda\\left(\\hat x - \\mu_N\\right)^2} {2\\alpha_N}\n",
    "    \\right)^{-\\left(\\frac {2\\alpha_{N} + 1} {2}\\right)}\n",
    "    \\left(\\frac {\\Lambda} {2\\alpha_N}\\right)^{\\frac{1} {2}} \\\\\n",
    "\\end{eqnarray}\n",
    "$$"
   ]
  },
  {
   "cell_type": "markdown",
   "metadata": {},
   "source": [
    "ただし, \n",
    "\n",
    "$$\n",
    "\\Lambda = \\frac {\\alpha_N \\lambda_N} {\\beta_n\\left(\\lambda_N + 1 \\right)}\n",
    "$$"
   ]
  },
  {
   "cell_type": "markdown",
   "metadata": {},
   "source": [
    "$p\\left( \\hat x \\mid \\boldsymbol x \\right)$が解けた. これがなにかというと, 自由度$2\\alpha_N$, 精度$\\Lambda$, 平均$\\mu_N$の[Studentのt分布](https://en.wikipedia.org/wiki/Student%27s_t-distribution#In_terms_of_inverse_scaling_parameter_%CE%BB)である.\n",
    "\n",
    "$$\n",
    "p(x|\\nu,\\mu,\\lambda) = \\frac{\\Gamma(\\frac{\\nu + 1}{2})}{\\Gamma(\\frac{\\nu}{2})} \\left(\\frac{\\lambda}{\\pi\\nu}\\right)^{\\frac{1}{2}} \\left(1+\\frac{\\lambda(x-\\mu)^2}{\\nu}\\right)^{-\\frac{\\nu+1}{2}}\n",
    "$$\n",
    "\n",
    "事後予測分布も解けた. すごい.\n",
    "\n",
    "何がすごいかというと, 面倒くさそうな積分 $p(\\hat x \\mid \\boldsymbol x) = \\int p(\\hat x \\mid \\mu, \\tau)p(\\mu, \\tau \\mid \\boldsymbol X) {\\rm d}\\mu{\\rm d}\\tau$を解くことなく事後予測分布が得られたことである."
   ]
  },
  {
   "cell_type": "markdown",
   "metadata": {},
   "source": [
    "## パラメータの事後分布の可視化\n",
    "\n",
    "可視化してみる, 前回のVariational inferenceの結果とも比較する."
   ]
  },
  {
   "cell_type": "code",
   "execution_count": 1,
   "metadata": {
    "collapsed": true
   },
   "outputs": [],
   "source": [
    "import numpy as np\n",
    "import scipy as sp\n",
    "from scipy import stats\n",
    "\n",
    "import pandas as pd\n",
    "pd.set_option('display.width', 200)\n",
    "import matplotlib.pyplot as plt\n",
    "plt.style.use('ggplot')\n",
    "\n",
    "import base64\n",
    "from itertools import chain\n",
    "import tempfile\n",
    "import os\n",
    "import subprocess\n",
    "import warnings\n",
    "warnings.filterwarnings('ignore')\n",
    "\n",
    "import sympy\n",
    "import sympy.stats\n",
    "%matplotlib inline"
   ]
  },
  {
   "cell_type": "code",
   "execution_count": 2,
   "metadata": {},
   "outputs": [
    {
     "name": "stdout",
     "output_type": "stream",
     "text": [
      "0.8500000000000001 4 2.5 1.5050000000000003\n"
     ]
    }
   ],
   "source": [
    "# test data\n",
    "X = pd.DataFrame([1.1, 1.0, 1.3])\n",
    "N = X.size\n",
    "meanX = X.mean()[0]\n",
    "\n",
    "# parameters of prior\n",
    "mu0 = 0\n",
    "lambda0 = 1\n",
    "a0 = 1\n",
    "b0 = 1\n",
    "\n",
    "# parameters of posterior\n",
    "muN = (N * meanX + lambda0 * mu0) / (lambda0 + N)\n",
    "lambdaN = lambda0 + N\n",
    "aN = N / 2. + a0\n",
    "bN = b0 + 1./2. * X.apply(lambda x: np.power(x - meanX, 2.)).sum()[0] \\\n",
    "    + N * lambda0 * np.power(meanX - mu0, 2.) / 2. / (lambda0 + N)\n",
    "print(muN, lambdaN, aN, bN)"
   ]
  },
  {
   "cell_type": "code",
   "execution_count": 3,
   "metadata": {},
   "outputs": [
    {
     "data": {
      "image/png": "[encoded data removed]",
      "text/plain": [
       "<matplotlib.figure.Figure at 0x10b330eb8>"
      ]
     },
     "metadata": {},
     "output_type": "display_data"
    }
   ],
   "source": [
    "# grid\n",
    "delta = 0.05\n",
    "x = np.arange(-1.0, 3.0, delta)\n",
    "y = np.arange(0.0, 6.0, delta)\n",
    "X, Y = np.meshgrid(x, y)\n",
    "\n",
    "# posterior distribution\n",
    "q_mu = lambda x, y: sp.stats.norm.pdf(x, muN, np.sqrt(1./(lambdaN*y)))\n",
    "q_tau = lambda y: sp.stats.gamma.pdf(y, a=aN, scale=1/bN)\n",
    "f = lambda x,y: q_mu(x, y) * q_tau(y)\n",
    "Z = f(X, Y)\n",
    "\n",
    "# posterior distribution with Variational inference\n",
    "muN_vi, lambdaN_vi, aN_vi, bN_vi = 0.8500000000000001, 6.644514934162626, 3.0, 1.8060009073502514\n",
    "q_mu_vi = lambda x: sp.stats.norm.pdf(x, muN_vi, np.sqrt(1/(lambdaN_vi)))\n",
    "q_tau_vi = lambda x: sp.stats.gamma.pdf(x, a=aN_vi, scale=1/bN_vi)\n",
    "f_vi = lambda x,y: q_mu_vi(x) * q_tau_vi(y)\n",
    "Z_vi = f_vi(X, Y)\n",
    "\n",
    "# plot\n",
    "cs = plt.contour(X, Y, Z)\n",
    "cs_vi = plt.contour(X, Y, Z_vi, colors='red', alpha=0.5)\n",
    "plt.clabel(cs, inline=1, fontsize=10)\n",
    "plt.xlabel(r'$\\mu$')\n",
    "plt.ylabel(r'$\\tau$')\n",
    "plt.title('posterior distribution')\n",
    "\n",
    "lines = [cs.collections[0], cs_vi.collections[0]]\n",
    "labels = ['Conjugate Bayesian analysis','Variational inference']\n",
    "plt.legend(lines, labels)\n",
    "plt.savefig(\"1.png\")"
   ]
  },
  {
   "cell_type": "markdown",
   "metadata": {},
   "source": [
    "## 事後予測分布の可視化\n",
    "\n",
    "解析的に得られた事後予測分布とサンプリングによる事後予測分布を比較する."
   ]
  },
  {
   "cell_type": "code",
   "execution_count": 4,
   "metadata": {},
   "outputs": [
    {
     "data": {
      "image/png": "[encoded data removed]",
      "text/plain": [
       "<matplotlib.figure.Figure at 0x10b943898>"
      ]
     },
     "metadata": {},
     "output_type": "display_data"
    }
   ],
   "source": [
    "precision = aN * lambdaN / bN / (lambdaN + 1.)\n",
    "\n",
    "# grid\n",
    "delta = 0.1\n",
    "df = pd.DataFrame()\n",
    "df['X'] = np.arange(-4.0, 6.0, delta)\n",
    "\n",
    "# posterior predicitive distribution\n",
    "df['calculated'] = sp.stats.t.pdf(df.X, df=2.*aN, loc=muN, scale=np.sqrt(1/precision))\n",
    "\n",
    "# sampled posterior predictive distribution\n",
    "tau = np.random.gamma(aN, 1/bN, 2000)\n",
    "mu = np.random.normal(muN, np.sqrt(1./lambdaN/tau))\n",
    "sampled = pd.DataFrame(np.random.normal(mu, np.sqrt(1/tau)), columns=['sampled'])\n",
    "\n",
    "# plot\n",
    "ax = df.plot(x='X', y='calculated')\n",
    "sampled.plot.kde(ax=ax)\n",
    "ax.set_xlim(-4, 6)\n",
    "ax.set_xlabel('x')\n",
    "ax.set_ylabel(r'Density')\n",
    "ax.set_title('posterior predictive distribution')\n",
    "plt.savefig(\"2.png\");"
   ]
  },
  {
   "cell_type": "markdown",
   "metadata": {},
   "source": [
    "だいたい一致. よさそう."
   ]
  }
 ],
 "metadata": {
  "kernelspec": {
   "display_name": "Python 3",
   "language": "python",
   "name": "python3"
  },
  "language_info": {
   "codemirror_mode": {
    "name": "ipython",
    "version": 3
   },
   "file_extension": ".py",
   "mimetype": "text/x-python",
   "name": "python",
   "nbconvert_exporter": "python",
   "pygments_lexer": "ipython3",
   "version": "3.6.1"
  }
 },
 "nbformat": 4,
 "nbformat_minor": 2
}
