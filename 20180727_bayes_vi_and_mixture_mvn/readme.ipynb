{
 "cells": [
  {
   "cell_type": "markdown",
   "metadata": {},
   "source": [
    "# 多変量混合ガウスモデルでvariational inference\n",
    "\n",
    "要するにPRMLの10.2. PRML持ってないけど."
   ]
  },
  {
   "cell_type": "markdown",
   "metadata": {},
   "source": [
    "$$\n",
    "p\\left(\\mathbf Z \\mid \\boldsymbol \\pi \\right) = \\prod_{n=1}^N\\prod_{k=1}^K\\left(\\pi_k\\right)^{ Z_{nk}} \\\\\n",
    "p\\left(\\mathbf x \\mid \\mathbf Z, \\boldsymbol \\mu, \\boldsymbol \\Lambda \\right)\n",
    "= \\prod_{n=1}^N\\prod_{k=1}^K \\left\\lbrace \\mathcal N \\left(\\mathbf x_n \\mid \\boldsymbol \\mu_k, \\boldsymbol \\Lambda_k^{-1} \\right) \\right\\rbrace^{Z_{nk}} \\\\\n",
    "p\\left(\\boldsymbol \\pi \\right)\n",
    "    = {\\rm Dir} \\left( \\boldsymbol \\pi \\mid \\boldsymbol \\alpha_0 \\right)\n",
    "    = \\frac {1} {{\\rm B}\\left(\\boldsymbol \\alpha_0 \\right)} \\prod_{k=1}^K \\left(\\pi_k\\right)^{\\alpha_0k-1}\n",
    "$$\n",
    "\n",
    "$\\boldsymbol \\alpha_0$ は要素数$K$ のベクトルで, $\\boldsymbol \\pi $の事前分布のパラメータである. 事前分布で特定のクラスタに優先順位をつけるのでなければ, 普通は全部同じ値にする.\n",
    "\n",
    "$$\n",
    "\\begin{eqnarray}\n",
    "p\\left(\\boldsymbol \\mu, \\boldsymbol \\Lambda\\right)\n",
    "&=&\n",
    "    p\\left(\\boldsymbol \\mu \\mid \\boldsymbol \\Lambda \\right)p\\left( \\boldsymbol \\Lambda \\right) \\\\\n",
    "&=&\n",
    "    \\prod_{k=1}^K\n",
    "    \\mathcal N\\left(\\boldsymbol \\mu \\mid \\textbf m_0, \\left(\\beta_0 \\Lambda_k \\right)^{-1}\\right)\n",
    "    \\mathcal W\\left(\\Lambda_k \\mid \\mathbf W_0, \\nu_0 \\right)\n",
    "\\end{eqnarray}\n",
    "$$"
   ]
  },
  {
   "cell_type": "code",
   "execution_count": 89,
   "metadata": {},
   "outputs": [],
   "source": [
    "import numpy as np\n",
    "import scipy as sp\n",
    "from scipy import stats\n",
    "from scipy import special\n",
    "\n",
    "import pandas as pd\n",
    "pd.set_option('display.width', 200)\n",
    "import matplotlib.pyplot as plt\n",
    "import matplotlib\n",
    "plt.style.use('ggplot')\n",
    "\n",
    "import os\n",
    "import subprocess\n",
    "import warnings\n",
    "warnings.filterwarnings('ignore')"
   ]
  },
  {
   "cell_type": "code",
   "execution_count": 102,
   "metadata": {},
   "outputs": [
    {
     "data": {
      "text/plain": [
       "6"
      ]
     },
     "execution_count": 102,
     "metadata": {},
     "output_type": "execute_result"
    }
   ],
   "source": [
    "# 尤度にZでべき乗してprodを取る計算例, numpyすごい\n",
    "np.power(np.array([2, 3, 4]), np.array([[1,0,0], [0, 1, 0]])).prod()"
   ]
  },
  {
   "cell_type": "markdown",
   "metadata": {},
   "source": [
    "## Dirichlet分布に関するおさらい\n",
    "\n",
    "出現数ベクトル$ \\alpha $ をもとに, 各インデックスの混合比をサンプリング"
   ]
  },
  {
   "cell_type": "code",
   "execution_count": 88,
   "metadata": {},
   "outputs": [
    {
     "name": "stdout",
     "output_type": "stream",
     "text": [
      "[1 1 1 1 1]\n"
     ]
    },
    {
     "data": {
      "text/plain": [
       "array([[0.47662899, 0.1146302 , 0.17714977, 0.05704416, 0.17454687]])"
      ]
     },
     "execution_count": 88,
     "metadata": {},
     "output_type": "execute_result"
    }
   ],
   "source": [
    "z = np.array([0, 1, 2, 3, 4])\n",
    "K = 2\n",
    "bincount = np.bincount(z, minlength=K)\n",
    "print(bincount)\n",
    "np.random.dirichlet(bincount)\n",
    "sp.stats.dirichlet.rvs(bincount)"
   ]
  }
 ],
 "metadata": {
  "kernelspec": {
   "display_name": "Python 3",
   "language": "python",
   "name": "python3"
  },
  "language_info": {
   "codemirror_mode": {
    "name": "ipython",
    "version": 3
   },
   "file_extension": ".py",
   "mimetype": "text/x-python",
   "name": "python",
   "nbconvert_exporter": "python",
   "pygments_lexer": "ipython3",
   "version": "3.6.0"
  }
 },
 "nbformat": 4,
 "nbformat_minor": 2
}
