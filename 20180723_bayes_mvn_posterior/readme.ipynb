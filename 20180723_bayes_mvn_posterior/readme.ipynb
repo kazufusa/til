{
 "cells": [
  {
   "cell_type": "markdown",
   "metadata": {},
   "source": [
    "# 多変量正規分布モデル+Normal-Wishart分布(事前分布)の事後分布\n",
    "\n",
    "## 導出\n",
    "\n",
    "まずは多変量正規分布である. Dはxの次元数.\n",
    "\n",
    "$$\n",
    "\\begin{eqnarray}\n",
    "\\mathcal N \\left(\\textbf x \\mid \\boldsymbol \\mu, \\boldsymbol \\Lambda^{-1} \\right)\n",
    "&=&\n",
    "    \\frac {\\left| \\boldsymbol \\Lambda \\right|^\\frac {1} {2}} {(2\\pi)^{\\frac{D}{2}}}\n",
    "    {\\rm exp }\\left(\n",
    "        - \\frac {1} {2}\n",
    "        \\left(\\textbf x - \\boldsymbol \\mu\\right)^{\\rm T}\n",
    "        \\Lambda\n",
    "        \\left(\\textbf x - \\boldsymbol \\mu\\right)\n",
    "    \\right)\n",
    "\\end{eqnarray}\n",
    "$$\n",
    "\n",
    "つづいてWishart分布である. $\\boldsymbol \\Lambda \\left(D\\times D\\right)$について\n",
    "\n",
    "$$\n",
    "\\begin{eqnarray}\n",
    "\\mathcal W \\left(\\boldsymbol \\Lambda \\mid \\textbf W, \\nu \\right)\n",
    "&=&\n",
    "{\\frac {\\left|\\boldsymbol \\Lambda  \\right|^{\\frac {\\nu-D-1}{2}}{\\rm exp} \\left(\n",
    "    \\frac\n",
    "    {-\\operatorname {tr} (\\mathbf {W} ^{-1}{\\boldsymbol \\Lambda })} {2}\\right)}\n",
    "    {2^{\\frac {\\nu D}{2}}\\left|{\\mathbf {W} }\\right|^{\\frac {\\nu} {2}}\\Gamma _{D}\\left({\\frac {\\nu}{2}}\\right)}}\n",
    "\\end{eqnarray}\n",
    "$$"
   ]
  },
  {
   "cell_type": "markdown",
   "metadata": {},
   "source": [
    "### モデル\n",
    "\n",
    "$$\n",
    "\\begin{eqnarray}\n",
    "p\\left(\\boldsymbol \\mu, \\boldsymbol \\Lambda \\mid \\textbf X \\right)\n",
    "&=&\n",
    "    \\prod_{i=1}^N \\mathcal N \\left(\\textbf x_i \\mid \\boldsymbol \\mu, \\boldsymbol \\Lambda^{-1} \\right)\n",
    "    \\mathcal N \\left(\\boldsymbol \\mu \\mid \\boldsymbol \\mu_0, \\left(\\lambda_0 \\boldsymbol \\Lambda\\right)^{-1} \\right)\n",
    "    \\mathcal W \\left(\\boldsymbol \\Lambda \\mid \\textbf W_0, \\nu_0 \\right)\n",
    "\\end{eqnarray}\n",
    "$$\n",
    "\n",
    "$\\mu_0, \\lambda_0, \\textbf W_0, \\nu_0$が事前分布のパラメータである."
   ]
  },
  {
   "cell_type": "markdown",
   "metadata": {},
   "source": [
    "### $\\boldsymbol \\mu$と$\\boldsymbol \\Lambda$の事後分布"
   ]
  },
  {
   "cell_type": "markdown",
   "metadata": {},
   "source": [
    "$$\n",
    "\\begin{eqnarray}\n",
    "\\operatorname {ln} p\\left(\\boldsymbol \\mu, \\boldsymbol \\Lambda \\mid \\textbf X \\right)\n",
    "&=& \n",
    "    \\frac {N} {2} \\operatorname {ln} \\left| \\boldsymbol \\Lambda \\right|\n",
    "    + \\left(- \\frac {1} {2}\\right)^N \\prod_{i=1}^N\\left(\n",
    "        \\left(\\textbf x_i - \\boldsymbol \\mu\\right)^{\\rm T}\n",
    "        \\boldsymbol \\Lambda\n",
    "        \\left(\\textbf x_i - \\boldsymbol \\mu\\right)\n",
    "    \\right)\n",
    "    + \\frac {1} {2} \\operatorname {ln} \\left|\\boldsymbol \\Lambda \\right|\n",
    "    - \\frac {\\lambda_0} {2} \\left(\\boldsymbol \\mu - \\boldsymbol \\mu_0\\right)^{\\rm T}\n",
    "    \\boldsymbol \\Lambda\n",
    "    \\left(\\boldsymbol \\mu - \\boldsymbol \\mu_0\\right) \\\\\n",
    "&& + \\frac {\\nu - D - 1} {2}\\operatorname {ln} \\left|\\boldsymbol \\Lambda \\right|\n",
    "    + \\frac {-\\operatorname {tr} (\\mathbf {W} ^{-1}\\mathbf {\\boldsymbol \\Lambda})} {2}\n",
    "    + {\\rm const}\n",
    "\\end{eqnarray}\n",
    "$$"
   ]
  },
  {
   "cell_type": "markdown",
   "metadata": {},
   "source": [
    "### $\\boldsymbol \\mu$の事後周辺分布"
   ]
  },
  {
   "cell_type": "markdown",
   "metadata": {},
   "source": [
    "### 事後予測分布"
   ]
  }
 ],
 "metadata": {
  "kernelspec": {
   "display_name": "Python 3",
   "language": "python",
   "name": "python3"
  },
  "language_info": {
   "codemirror_mode": {
    "name": "ipython",
    "version": 3
   },
   "file_extension": ".py",
   "mimetype": "text/x-python",
   "name": "python",
   "nbconvert_exporter": "python",
   "pygments_lexer": "ipython3",
   "version": "3.6.0"
  }
 },
 "nbformat": 4,
 "nbformat_minor": 2
}
