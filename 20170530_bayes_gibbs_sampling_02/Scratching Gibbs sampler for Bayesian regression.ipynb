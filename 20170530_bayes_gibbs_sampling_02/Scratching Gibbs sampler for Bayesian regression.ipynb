{
 "cells": [
  {
   "cell_type": "markdown",
   "metadata": {},
   "source": [
    "# Scratching Gibbs sampler for Bayesian regression"
   ]
  },
  {
   "cell_type": "markdown",
   "metadata": {},
   "source": [
    "## Data description\n",
    "\n",
    "\n",
    "```R\n",
    "N      <- 100\n",
    "a_true <- 0.4\n",
    "mean1  <- 0\n",
    "mean2  <- 3\n",
    "sd1    <- 1\n",
    "sd2    <- 1\n",
    "Y      <- c(rnorm((1-a_true)*N, mean1, sd1), rnorm(a_true*N, mean2, sd2))\n",
    "data   <- list(N=N, Y=Y)\n",
    "\n",
    "write.table(Y, file=\"points.csv\", sep=\",\", row.names=F, col.names=F)\n",
    "```\n",
    "\n"
   ]
  },
  {
   "cell_type": "markdown",
   "metadata": {},
   "source": [
    "\n",
    "## Model (double normal distribution)\n",
    "\n",
    "Here we wish to find the posterior distributions of the coefficients mu(the mean) and s(the standard deviation) of a single normal distribution. The model can be written as\n",
    "\n",
    "\n",
    "$$ z_i \\sim \\text {Bernoulli} (a) $$\n",
    "\n",
    "$$y_i \\mid z_i \\sim  \\mathcal{N}(\\mu_{z_i}, \\sigma_{z_i}^{2})$$\n",
    "\n",
    "\n",
    "The likelihood for this model may be written as the product over N iid observations\n",
    "\n",
    "$$p(y_1, \\ldots, y_N \\mid \\mu_1, z_1, \\ldots, z_N) = \\prod_{i = 1}^{N} \\mathcal{N}(y_i\\mid \\mu_{z_i}, \\sigma_{z_i}^{2})$$\n",
    "\n",
    "$ \\mu_0 = 0, \\sigma_0 = 1, \\sigma_1 = 1 $ are known. The prior of $ \\mu_1 $ $ a $ are\n",
    "\n",
    "$$\\mu_1 \\sim \\text{uniform}(-\\infty, \\infty) $$ \n",
    "\n",
    "$$a \\sim \\text{uniform}(0, 1) $$ \n"
   ]
  },
  {
   "cell_type": "markdown",
   "metadata": {},
   "source": [
    "## Pythonic setup"
   ]
  },
  {
   "cell_type": "code",
   "execution_count": 1,
   "metadata": {
    "collapsed": true
   },
   "outputs": [],
   "source": [
    "import numpy as np\n",
    "# np.random.seed(0)\n",
    "\n",
    "import scipy as sp\n",
    "\n",
    "import pandas as pd\n",
    "pd.set_option('display.width', 200)\n",
    "\n",
    "% matplotlib inline\n",
    "from seaborn import plt\n",
    "plt.rcParams['figure.figsize'] = (10, 5)"
   ]
  },
  {
   "cell_type": "markdown",
   "metadata": {},
   "source": [
    "## Deriving Gibbs sampler\n",
    "\n",
    "### Update for $mu_1$\n",
    "\n",
    "We are interested in finding\n",
    "\n",
    "$$\n",
    "\\begin{eqnarray}\n",
    "p(\\mu_1 \\mid a, z, y) &\\propto& p(y \\mid \\mu_1, z) \\\\\n",
    "&=& \\prod_{i = 1}^{N} \\mathcal{N}(y_i \\mid \\mu_{z_i}, \\sigma_{z_i}^{2}) \\\\\n",
    "&\\propto& \\prod \\mathcal{N}(y_i\\mid \\mu_{z_i}, \\sigma_{z_i}^{2})\\mid_{z_i=1} \\\\\n",
    "\\end{eqnarray}\n",
    "$$\n",
    "\n",
    "$$ \\mu_1 \\mid z_1, \\ldots, z_N, y \\sim \\mathcal{N}\\left( \\frac{1} {\\sum^{N}_{i=1} z_i} \\sum y_i\\mid_{z_i=1}, \\frac {1} {\\sum^{N}_{i=1} z_i} \\right)$$\n",
    "\n",
    "\n",
    "I turn into a python function:"
   ]
  },
  {
   "cell_type": "code",
   "execution_count": 2,
   "metadata": {
    "collapsed": true
   },
   "outputs": [],
   "source": [
    "def sample_mu_1(y, z):\n",
    "    N1 = np.sum(z)\n",
    "    mean = np.sum(y * z) / N1\n",
    "    variance = 1 / N1\n",
    "    return np.random.normal(mean, np.sqrt(variance))"
   ]
  },
  {
   "cell_type": "markdown",
   "metadata": {},
   "source": [
    "### Update for $ a $ \n",
    "\n",
    "\n",
    "$$\n",
    "\\begin{eqnarray}\n",
    "p(a \\mid \\mu_1, z, y) &\\propto& \\prod_{i=1}^{N} \\text{Bernoulli}(z_i \\mid a) \\\\\n",
    "&=& (1-a)^{N-\\sum_{i=1}^{N} z_i} a^{\\sum_{i=1}^{N} z_i}\n",
    "\\end{eqnarray}\n",
    "$$\n",
    "\n",
    "\n",
    "$$\n",
    "p(a\\mid \\mu_1, z, y) = \\text {Beta} \\left( \\sum_{i=1}^{N} z_i + 1, N - \\sum_{i=1}^{N} z_i + 1 \\right)\n",
    "$$\n"
   ]
  },
  {
   "cell_type": "code",
   "execution_count": 3,
   "metadata": {
    "collapsed": true
   },
   "outputs": [],
   "source": [
    "def sample_a(z, a):\n",
    "    alpha = np.sum(z) + 1\n",
    "    beta = len(z) - alpha + 2\n",
    "    return np.random.beta(alpha, beta)"
   ]
  },
  {
   "cell_type": "markdown",
   "metadata": {},
   "source": [
    "### Update for z\n",
    "\n",
    "$$\n",
    "\\begin{eqnarray}\n",
    "p(z_i \\mid \\mu_1, a, z_1, \\ldots,z_{i-1}, z_{i+1}, \\ldots, z_N, y) &\\propto& p(y \\mid \\mu_1, z_1, \\ldots, z_N) p(z_i\\mid a) \\\\\n",
    "&\\propto& \\mathcal{N}(y_i \\mid \\mu_{z_i}, \\sigma_{z_i}^{2}) \\times \\text{Bernoulli}(z_i \\mid a) \\\\\n",
    "\\end{eqnarray}\n",
    "$$\n",
    "\n",
    "\n",
    "I can now code this into python. np.random.gamma uses the shape and scale parameterisation of a Gamma distribution, where the shape $k = \\alpha$ but the scale $\\theta=1/\\beta $, hence we need to invert our expression for $\\beta$ before sampling:"
   ]
  },
  {
   "cell_type": "code",
   "execution_count": 4,
   "metadata": {},
   "outputs": [],
   "source": [
    "norm0 = sp.stats.norm(0, 1)\n",
    "\n",
    "def sample_and_update_z(y, mu_1, a, z):\n",
    "    norm1 = sp.stats.norm(mu_1, 1)\n",
    "\n",
    "    for i in range(len(y)):\n",
    "        d0 = (1-a) * norm0.pdf(y[i])\n",
    "        d1 = a * norm1.pdf(y[i])\n",
    "        z[i] = 0 if np.random.uniform() * (d0+d1) < d0 else 1"
   ]
  },
  {
   "cell_type": "markdown",
   "metadata": {
    "collapsed": true
   },
   "source": [
    "## Writing the Gibbs sampler\n",
    "\n",
    "Now we ready to write the Gibbs sampler. Apart from the data we need to supply initial parameter estimates."
   ]
  },
  {
   "cell_type": "code",
   "execution_count": 5,
   "metadata": {},
   "outputs": [
    {
     "name": "stdout",
     "output_type": "stream",
     "text": [
      "{'mu_1': -81.10793797436156, 'a': 0.38471185958020826, 'z': array([1, 1, 1, 0, 1, 0, 1, 1, 0, 0, 0, 0, 1, 1, 1, 0, 0, 0, 1, 0, 0, 1, 1,\n",
      "       1, 0, 0, 0, 1, 1, 0, 0, 0, 1, 1, 1, 1, 1, 1, 1, 0, 1, 0, 1, 1, 0, 0,\n",
      "       0, 1, 0, 1, 1, 1, 0, 0, 1, 0, 1, 1, 0, 0, 1, 1, 0, 1, 0, 0, 0, 0, 1,\n",
      "       1, 1, 0, 0, 1, 0, 0, 1, 1, 0, 1, 1, 0, 1, 0, 0, 0, 0, 1, 0, 0, 0, 0,\n",
      "       1, 1, 1, 0, 0, 0, 1, 0])}\n"
     ]
    }
   ],
   "source": [
    "init = {\"mu_1\": np.random.uniform(-100, 100), \"a\": np.random.rand(), \"z\": np.random.randint(0, 2, 100)}\n",
    "print(init)"
   ]
  },
  {
   "cell_type": "code",
   "execution_count": 6,
   "metadata": {
    "collapsed": true
   },
   "outputs": [],
   "source": [
    "def model2(y, iters, init):\n",
    "    mu_1 = init[\"mu_1\"]\n",
    "    a = init[\"a\"]\n",
    "    z = init[\"z\"]\n",
    "    N = len(y)\n",
    "    \n",
    "    trace = np.zeros((iters, 2))\n",
    "    log_likelihoods = np.zeros((iters, N))\n",
    "    \n",
    "    for i in range(iters):\n",
    "        mu_1 = sample_mu_1(y, z)\n",
    "        a = sample_a(z, a)\n",
    "        sample_and_update_z(y, mu_1, a, z)\n",
    "        trace[i, :] = np.array((mu_1, a))\n",
    "        \n",
    "        norm1 = sp.stats.norm(mu_1, 1)\n",
    "        log_likelihoods[i, :] = \\\n",
    "            np.array([np.log((1-a)*norm0.pdf(x) + a*norm1.pdf(x)) for x in y])\n",
    "    \n",
    "    trace = pd.DataFrame(trace)\n",
    "    trace.columns = ['mu_1', 'a']\n",
    "    \n",
    "    log_likelihoods = pd.DataFrame(log_likelihoods)\n",
    "    \n",
    "    return trace, log_likelihoods"
   ]
  },
  {
   "cell_type": "code",
   "execution_count": 7,
   "metadata": {},
   "outputs": [],
   "source": [
    "iters = 5000\n",
    "y = np.array([float(x) for x in open(\"points.csv\", \"r\").read().strip().split(\"\\n\")])\n",
    "trace, log_likelihoods = model2(y, iters, init)"
   ]
  },
  {
   "cell_type": "code",
   "execution_count": 8,
   "metadata": {},
   "outputs": [
    {
     "data": {
      "text/plain": [
       "<matplotlib.text.Text at 0x7f39201abc18>"
      ]
     },
     "execution_count": 8,
     "metadata": {},
     "output_type": "execute_result"
    },
    {
     "data": {
      "image/png": "[encoded data removed]",
      "text/plain": [
       "<matplotlib.figure.Figure at 0x7f39205b3898>"
      ]
     },
     "metadata": {},
     "output_type": "display_data"
    }
   ],
   "source": [
    "traceplot = trace.plot()\n",
    "traceplot.set_xlabel(\"Iteration\")\n",
    "traceplot.set_ylabel(\"Parameter value\")"
   ]
  },
  {
   "cell_type": "code",
   "execution_count": 9,
   "metadata": {},
   "outputs": [
    {
     "data": {
      "image/png": "[encoded data removed]",
      "text/plain": [
       "<matplotlib.figure.Figure at 0x7f391e078e10>"
      ]
     },
     "metadata": {},
     "output_type": "display_data"
    }
   ],
   "source": [
    "trace_burnt = trace[int(len(trace)/2):]\n",
    "hist_plot = trace_burnt.hist(bins = 30, layout = (1,2))"
   ]
  },
  {
   "cell_type": "markdown",
   "metadata": {},
   "source": [
    "I code the WAIC and WBIC functions."
   ]
  },
  {
   "cell_type": "code",
   "execution_count": 10,
   "metadata": {
    "collapsed": true
   },
   "outputs": [],
   "source": [
    "def waic(log_likelihoods):\n",
    "    training_error = -np.log(np.exp(log_likelihoods).mean(axis=0)).mean()\n",
    "    functional_variance_div_N = (np.power(log_likelihoods, 2).mean(axis=0) -\n",
    "                                 np.power(log_likelihoods.mean(axis=0),2)).mean()\n",
    "    return training_error + functional_variance_div_N\n",
    "\n",
    "def wbic(log_likelihoods):\n",
    "    return -log_likelihoods.sum(axis=1).mean()\n"
   ]
  },
  {
   "cell_type": "markdown",
   "metadata": {},
   "source": [
    "I can report the descriptive statistics of mu and s, and WAIC/WBIC of current model(single normal distribution)."
   ]
  },
  {
   "cell_type": "code",
   "execution_count": 11,
   "metadata": {},
   "outputs": [
    {
     "name": "stdout",
     "output_type": "stream",
     "text": [
      "       count      mean       std       min       25%       50%       75%       max\n",
      "mu_1  2500.0  3.087879  0.197851  2.328777  2.950856  3.084685  3.220114  3.828030\n",
      "a     2500.0  0.397003  0.055714  0.211999  0.358266  0.396206  0.434202  0.631361\n",
      "waic: 1.91442576613\n",
      "wbic: 190.363686428\n"
     ]
    }
   ],
   "source": [
    "print(trace_burnt.describe().T)\n",
    "print(\"waic:\", waic(log_likelihoods))\n",
    "print(\"wbic:\", wbic(log_likelihoods))"
   ]
  },
  {
   "cell_type": "markdown",
   "metadata": {},
   "source": [
    "## Compare to Rstan\n",
    "\n",
    "Finally we run the regression and WAIC/WBIC calculation with R and stan. The result and code are above. The result is similar to that of my scratched Gibbs sampling."
   ]
  },
  {
   "cell_type": "code",
   "execution_count": 12,
   "metadata": {},
   "outputs": [
    {
     "name": "stdout",
     "output_type": "stream",
     "text": [
      "# results of the single normal distribution model with Rstan\n",
      "        mean      se_mean         sd      2.5%       25%       50%       75%     97.5%    n_eff     Rhat\n",
      "mu 3.0930233 0.0011398696 0.19934557 2.7020393 2.9601138 3.0924020 3.2278038 3.4861748 30584.60 1.000080\n",
      "a  0.3963891 0.0003309912 0.05569274 0.2905625 0.3582446 0.3951649 0.4335651 0.5073475 28311.59 1.000046\n",
      "\n",
      "                              WAIC     WBIC\n",
      "single normal dist. model 1.913717 190.3411\n",
      "\n"
     ]
    }
   ],
   "source": [
    "from subprocess import check_output\n",
    "\n",
    "print(check_output([\"Rscript\", \"run.r\"]).decode(\"utf8\"))"
   ]
  },
  {
   "cell_type": "code",
   "execution_count": 13,
   "metadata": {},
   "outputs": [
    {
     "name": "stdout",
     "output_type": "stream",
     "text": [
      " 1 options(width=200)\n",
      " 2 set.seed(1)\n",
      " 3 \n",
      " 4 N      <- 100\n",
      " 5 a_true <- 0.4\n",
      " 6 mean1  <- 0\n",
      " 7 mean2  <- 3\n",
      " 8 sd1    <- 1\n",
      " 9 sd2    <- 1\n",
      "10 Y      <- c(rnorm((1-a_true)*N, mean1, sd1), rnorm(a_true*N, mean2, sd2))\n",
      "11 data   <- list(N=N, Y=Y)\n",
      "12 \n",
      "13 write.table(Y, file=\"points.csv\", sep=\",\", row.names=F, col.names=F)\n",
      "14 \n",
      "15 model2 <- \"\n",
      "16 data {\n",
      "17   int<lower=1> N;\n",
      "18   vector[N] Y;\n",
      "19 }\n",
      "20 \n",
      "21 parameters {\n",
      "22   real<lower=0, upper=1> a;\n",
      "23   real<lower=-50, upper=50> mu;\n",
      "24 }\n",
      "25 \n",
      "26 model {\n",
      "27   for(n in 1:N){\n",
      "28     target += log_sum_exp(\n",
      "29       log(1-a) + normal_lpdf(Y[n] | 0, 1),\n",
      "30       log(a) + normal_lpdf(Y[n] | mu, 1)\n",
      "31     );\n",
      "32   }\n",
      "33 }\n",
      "34 \n",
      "35 generated quantities {\n",
      "36   vector[N] log_likelihood;\n",
      "37   int index;\n",
      "38   real y_pred;\n",
      "39   for(n in 1:N)\n",
      "40     log_likelihood[n] = log_sum_exp(\n",
      "41       log(1-a) + normal_lpdf(Y[n] | 0, 1),\n",
      "42       log(a) + normal_lpdf(Y[n] | mu, 1)\n",
      "43     );\n",
      "44   index = bernoulli_rng(a);\n",
      "45   y_pred = normal_rng(index == 1 ? mu: 0, 1);\n",
      "46 }\n",
      "47 \"\n",
      "48 \n",
      "49 sink(file=\"/dev/null\")\n",
      "50 suppressMessages({\n",
      "51   library(rstan)\n",
      "52   fit2 <- stan(model_code=model2, data=data, iter=11000, warmup=1000, seed=123)\n",
      "53 })\n",
      "54 sink()\n",
      "55 cat(\"# results of the single normal distribution model with Rstan\\n\")\n",
      "56 print(summary(fit2)$summary[c(\"mu\", \"a\"), ])\n",
      "57 \n",
      "58 waic <- function(log_likelihood) {\n",
      "59   training_error <- - mean(log(colMeans(exp(log_likelihood))))\n",
      "60   functional_variance_div_N <- mean(colMeans(log_likelihood^2) - colMeans(log_likelihood)^2)\n",
      "61   waic <- training_error + functional_variance_div_N\n",
      "62   return(waic)\n",
      "63 }\n",
      "64 \n",
      "65 wbic <- function(log_likelihood){\n",
      "66   wbic <- - mean(rowSums(log_likelihood))\n",
      "67   return(wbic)\n",
      "68 }\n",
      "69 \n",
      "70 ret <- matrix(0, 1, 2)\n",
      "71 colnames(ret) <- c('WAIC', 'WBIC')\n",
      "72 rownames(ret) <- c('single normal dist. model')\n",
      "73 \n",
      "74 ret[1,1] <- waic(extract(fit2)$log_likelihood)\n",
      "75 ret[1,2] <- wbic(extract(fit2)$log_likelihood)\n",
      "76 cat(\"\\n\")\n",
      "77 ret\n"
     ]
    }
   ],
   "source": [
    "for n, i in enumerate(open(\"run.r\", \"r\"), 1):\n",
    "    print(\"{:2d} {}\".format(n, i), end=\"\")"
   ]
  },
  {
   "cell_type": "markdown",
   "metadata": {},
   "source": [
    "## references\n",
    "\n",
    "- http://kieranrcampbell.github.io/gibbs-sampling-bayesian-linear-regression/\n",
    "- http://statmodeling.hatenablog.com/entry/calc-waic-wbic"
   ]
  }
 ],
 "metadata": {
  "kernelspec": {
   "display_name": "Python 3",
   "language": "python",
   "name": "python3"
  },
  "language_info": {
   "codemirror_mode": {
    "name": "ipython",
    "version": 3
   },
   "file_extension": ".py",
   "mimetype": "text/x-python",
   "name": "python",
   "nbconvert_exporter": "python",
   "pygments_lexer": "ipython3",
   "version": "3.6.0"
  }
 },
 "nbformat": 4,
 "nbformat_minor": 2
}
