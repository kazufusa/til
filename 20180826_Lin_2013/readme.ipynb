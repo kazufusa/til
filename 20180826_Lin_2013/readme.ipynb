{
 "cells": [
  {
   "cell_type": "markdown",
   "metadata": {},
   "source": [
    "# Lin (2013)で学ぶSequential Variational Approximation でノンパラベイズ\n",
    "\n",
    "Variational inference でDirichlet process infinite mixture model をしたくなったので適当に論文を見つけて読んで実装する.\n",
    "\n"
   ]
  },
  {
   "cell_type": "markdown",
   "metadata": {},
   "source": [
    "## 1. Introduction"
   ]
  },
  {
   "cell_type": "markdown",
   "metadata": {},
   "source": [
    "## 2. Related Work"
   ]
  },
  {
   "cell_type": "markdown",
   "metadata": {},
   "source": [
    "## 3. Nonparametric Mixture Models\n",
    "\n",
    "$$\n",
    "D = \\sum_{k=1}^{\\infty}\\pi_k\\delta_{\\phi_k}, \\;\n",
    "\\operatorname{with} \\pi_k = v_k\\prod_{l=1}^{k-1}v_l, \\;\n",
    "v_k \\propto \\operatorname{Beta} \\left( 1, \\alpha_k\\right), \\;\n",
    "\\forall k = 1, 2, ... \\tag{1} \\\\\n",
    "$$\n",
    "\n",
    "$$\n",
    "D \\propto DP\\left( \\alpha \\mu\\right), \\;\n",
    "\\theta_i \\propto \\mu , \\;\n",
    "x_i \\propto F\\left( \\cdot \\mid \\theta_i \\right), \\;\n",
    "\\forall i = 1, 2, ..., n \\tag{2} \\\\\n",
    "$$"
   ]
  },
  {
   "cell_type": "markdown",
   "metadata": {},
   "source": [
    "$$\n",
    "\\begin{eqnarray}\n",
    "z_{1:n} &\\propto& \\operatorname{CRP} \\left( \\alpha \\right), \\; \\phi_k \\propto \\mu, \\; \\forall k = 1, 2, ... \\\\\n",
    "x_{1:n} &\\propto& F\\left(\\cdot \\mid \\phi_{z_i} \\right), \\; \\forall i = 1, 2, ..., n  \\tag{3}\n",
    "\\end{eqnarray}\n",
    "$$\n",
    "\n",
    "$$\n",
    "p_{\\operatorname {CRP}}\\left( z_{1:n} \\mid \\alpha\\right) =\n",
    "\\frac {\\Gamma(\\alpha) \\alpha^K} {\\Gamma(\\alpha + n)} \\prod_{k=1}^K \\Gamma\\left( | C_k| \\right) \\tag{4}\n",
    "$$"
   ]
  },
  {
   "cell_type": "markdown",
   "metadata": {},
   "source": [
    "## 4. Variational Approximation of Posterior\n",
    "\n",
    "予測分布は以下のようになる.\n",
    "\n",
    "$$\n",
    "p\\left( \\theta'  \\mid x_{1:n}\\right) = \\mathbb E_{D \\mid x_{1:n}} \\left\\lbrack p\\left( \\theta' \\mid D \\right) \\right\\rbrack \\tag {5}\n",
    "$$\n",
    "\n",
    "### 4.1. Posterior Analysis\n",
    "\n",
    "$ D $ の事後分布.\n",
    "\n",
    "$$\n",
    "\\begin{eqnarray}\n",
    "D \\mid \\theta_{1:n} &\\sim& \\operatorname {DP} \\left( \\tilde {\\alpha} \\tilde {\\mu}\\right) \\\\\n",
    "\\tilde{\\alpha} &=& \\alpha + n \\\\\n",
    "\\tilde{\\mu} &=& \\frac {\\alpha} {\\alpha+n} \\mu + \\sum_{k=1}^K \\frac {\\left| C_k \\right|} {\\alpha + n} \\delta_{\\phi_k} \\tag{6}\n",
    "\\end{eqnarray}\n",
    "$$"
   ]
  },
  {
   "cell_type": "markdown",
   "metadata": {},
   "source": [
    "$ p\\left( D \\mid z_{1:n}, x_{1:n} \\right) $ からのサンプリングは以下のサンプリングと同じ.\n",
    "\n",
    "$$\n",
    "\\begin{eqnarray}\n",
    "\\beta_0 D' + \\sum_{k=1}^K \\beta_k \\delta_{\\phi_k} , &&\\\\\n",
    "&& with  \\; D' \\sim \\operatorname {DP} \\left( \\alpha \\mu  \\right), \\;\n",
    "\\left( \\beta_0, \\beta_1, ..., \\beta_k \\right) \\sim \\operatorname{Dir} \\left( \\alpha, m_1, ..., m_K \\right), \\;\n",
    "\\phi_k \\sim \\mu \\mid _{C_k} \\tag{7}\n",
    "\\end{eqnarray}\n",
    "$$\n",
    "\n",
    "ここで, $m_k = |C_k|$, $\\mu \\mid _{C_k}$ は 事後分布 $ \\mu \\mid _{C_k}\\left( \\operatorname d \\theta \\right) \\propto \\mu\\left( \\operatorname d \\theta  \\right) \\prod_{i\\in C_k} F \\left( x_i \\mid \\theta \\right)$\n",
    "\n",
    "つまり$1:n$ までのデータが収まった中華料理店にもう１件データが追加された, という状態. $ \\beta_k $ で既存のテーブルkに座り, $\\beta_0$で新規テーブルが作られそこに座る. $\\beta$の総和は1."
   ]
  },
  {
   "cell_type": "markdown",
   "metadata": {},
   "source": [
    "データ $ x_{1:n} $ が得られたときの混合分布 $ D $ の事後確率.\n",
    "\n",
    "$$\n",
    "p\\left( D \\mid x_{1:n} \\right) = \\sum_{z_{1:n}} p\\left(z_{1:n} \\mid x_{1:n} \\right)p\\left( D \\mid x_{1:n}, z_{1:n}\\right) \\tag{8}\n",
    "$$\n",
    "\n"
   ]
  },
  {
   "cell_type": "markdown",
   "metadata": {},
   "source": [
    "$$\n",
    "p \\left( z_{1:n} \\mid x_{1:n} \\right)\n",
    "\\propto\n",
    "    p_{\\operatorname {CRP}} \\left( z_{1:n} \\mid \\alpha \\right)\n",
    "    \\prod_{k=1}^{K^{(z)}} \\int \\mu \\left( \\operatorname {d} \\phi_{k} \\right)\n",
    "    \\prod_{i \\in C_k^{(z)}} F\\left( x_i \\mid \\phi_k \\right) \\tag{9}\n",
    "$$"
   ]
  },
  {
   "cell_type": "markdown",
   "metadata": {},
   "source": [
    "## 4.2 Variational Approximation\n",
    "\n",
    "(8)について, $p\\left(z_{1:n} \\mid x_{1:n} \\right)$を因子分解可能とし, $ p\\left( D \\mid z_{1:n}, x_{1:n} \\right) $ を(11)の確率過程で近似する.\n",
    "\n",
    "$$\n",
    "q\\left(D \\mid \\rho, \\nu \\right) = \\sum_{z_{1:n}} \\prod_{i=1}^n \\rho_i\\left(z_i \\right)q_{\\nu}^{(z)}\\left( D \\mid z_{1:n}\\right) \\tag{10}\n",
    "$$"
   ]
  },
  {
   "cell_type": "markdown",
   "metadata": {},
   "source": [
    "$$\n",
    "\\begin{eqnarray}\n",
    "q_{\\nu}^{(z)} \\left( D \\mid z_{1:n}\\right) \\overset{d} {\\sim} && \\beta_0 D' + \\sum_{k=1}^K\\beta_k\\delta{\\phi_k} \\\\\n",
    "&&with \\; D' \\sim \\operatorname {DP} \\left( \\alpha \\mu \\right), \\;\n",
    "\\left( \\beta_0, \\beta_1, ..., \\beta_k \\right) \\sim \\operatorname{Dir} \\left( \\alpha, m_1^{(z)}, ..., m_K^{(z)} \\right), \\;\n",
    "\\phi_k \\sim \\nu_k\\tag{11}\n",
    "\\end{eqnarray}\n",
    "$$"
   ]
  },
  {
   "cell_type": "markdown",
   "metadata": {},
   "source": [
    "(10), (11)と(8), (9)はよく似ている. 違いは, \n",
    "\n",
    "1.  $p\\left(z_{1:n} \\mid x_{1:n} \\right)$を因子分解可能とし, $ \\prod_{i=1}^n \\rho_i\\left(z_i \\right)$ で近似したこと\n",
    "2.  $\\mu |_{C_k}$ を $\\nu_k$ で近似したこと "
   ]
  },
  {
   "cell_type": "markdown",
   "metadata": {},
   "source": [
    "$$\n",
    "\\mathbb E_{q\\left( D \\mid \\rho, \\nu  \\right)}\\left\\lbrack p\\left(\\theta'  \\mid D \\right) \\right\\rbrack\n",
    "=\n",
    "    \\frac {\\alpha} {\\alpha + n} \\mu\\left( \\theta ' \\right)\n",
    "    + \\sum_{k=1}^K \\frac {\\sum_{i=1}^n \\rho_i\\left( k \\right)} {\\alpha + n} \\nu_k\\left( \\theta'\\right) \\tag{12}\n",
    "$$"
   ]
  },
  {
   "cell_type": "markdown",
   "metadata": {},
   "source": [
    "### 4.3 Sequential Approximation"
   ]
  },
  {
   "cell_type": "markdown",
   "metadata": {},
   "source": [
    "$$\n",
    "\\tag{15}\n",
    "\\rho_{i+1} \\propto \\left\\{ \\begin{array}{ll}\n",
    "    w_k^{(i)} \\int_\\theta F\\left( x_{i+1} \\mid \\theta \\right) \\nu_k^{(i)} \\left( d \\theta \\right) & (k \\le K), \\\\\n",
    "    \\alpha \\int_\\theta F\\left( x_{i+1} \\mid \\theta \\right) \\mu \\left( d \\theta \\right) & (k = K+1), \\\\\n",
    "  \\end{array} \\right.\n",
    "$$"
   ]
  },
  {
   "cell_type": "markdown",
   "metadata": {},
   "source": [
    "with $ w_i^{(i)} = \\sum_{j=1}^i \\rho_j\\left(k \\right)$, and \n",
    "\n",
    "$$\n",
    "\\tag{16}\n",
    "\\nu_{k}^{(i+1)}\\left( d\\theta \\right) \\propto \\left\\{ \\begin{array}{ll}\n",
    "    \\mu\\left( d\\theta \\right) \\prod_{j=1}^{i+1} F\\left( x_j \\mid \\theta \\right)^{\\rho_j(k)}\n",
    "    & (k \\le K), \\\\\n",
    "    \\mu\\left( d\\theta \\right) F\\left( x_{i+1} \\mid \\theta \\right)^{\\;\\rho_{i+1}(k)}\n",
    "    & (k = K+1), \\\\\n",
    "  \\end{array} \\right.\n",
    "$$"
   ]
  },
  {
   "cell_type": "markdown",
   "metadata": {},
   "source": [
    "$\\rho_1 = 1, K = 1$ から開始する, $i$を増やすたびに, $\\rho_{i+1}$の計算, $w_k$ の更新, Kの更新, $\\nu$の更新(, と$\\rho$の更新も?)を繰り返す. Kをインクリメントするかどうかは, $\\rho_{i+1}\\left( K+1 \\right) $ がしきい値以上であるか否かで判定する. Kをインクリメントしない場合は, $\\rho_{i+1}\\left( K+1 \\right) $は不要なので削除, $\\rho_{i+1}\\left( 1,..., K \\right) $の総和が1になるように標準化する."
   ]
  },
  {
   "cell_type": "markdown",
   "metadata": {},
   "source": [
    "## Normal-Wishart分布を基底分布にしてinfinite mixture multivariate normal modelを実装してみる."
   ]
  },
  {
   "cell_type": "markdown",
   "metadata": {},
   "source": [
    "多変量正規分布のInfinite mixture モデルを考える. 分布のパラメータとして, 平均と精度行列を推定する. Dirichlet Processの基底分布はNormal-Wishart分布.\n",
    "\n",
    "$$\n",
    "\\begin{eqnarray}\n",
    "\\nu_k &=& \\left(\\boldsymbol \\mu_k, \\boldsymbol \\Lambda_k \\right) \\sim\n",
    "    \\mathcal N \\left(\\boldsymbol \\mu_{k} \\mid \\mathbf m_{0}, \\left(\\beta_{0} \\boldsymbol \\Lambda_{k} \\right)^{-1}\\right)\n",
    "    \\mathcal W\\left(\\boldsymbol \\Lambda_{k} \\mid \\mathbf W_{0}, \\nu_{0}\\right)\n",
    "\\end{eqnarray}\n",
    "$$"
   ]
  },
  {
   "cell_type": "markdown",
   "metadata": {},
   "source": [
    "(16)の上の式を考える.\n",
    "\n",
    "$$\n",
    "\\begin{eqnarray}\n",
    "\\mu\\left( d\\theta \\right) \\prod_{j=1}^{i+1} F\\left( x_j \\mid \\theta \\right)^{\\rho_j(k)}\n",
    "&=&\n",
    "    \\prod_{j=1}^{i+1}\\mathcal N \\left( x_{j} \\mid \\boldsymbol \\mu_k, \\boldsymbol \\Lambda_k^{-1} \\right)^{\\;\\rho_j(k)}\n",
    "    \\mathcal N \\left(\\boldsymbol \\mu_{k} \\mid \\mathbf m_{0}, \\left(\\beta_{0} \\boldsymbol \\Lambda_{k} \\right)^{-1}\\right)\n",
    "    \\mathcal W\\left(\\boldsymbol \\Lambda_{k} \\mid \\mathbf W_{0}, \\nu_{0}\\right)\n",
    "\\end{eqnarray}\n",
    "$$"
   ]
  },
  {
   "cell_type": "markdown",
   "metadata": {},
   "source": [
    "多変量正規分布+事前分布(Normal-Wishart分布)の形だが, データの尤度の肩に$\\rho$が乗っている点が[以前解いたもの](http://kazufusa1484.hatenablog.com/entry/2018/07/27/121549)と異なっているが, \n",
    "$ \\sum_{j=1}^{i+1}\\rho_j\\left(k\\right) = r(k)と重み付け平均\\overline {\\mathbf x_k} = \\sum_{j=1}^{i+1} \\rho_j(k) \\textbf x_j  / r(k) $ を導入して, 以前の導出の$N$を$r(k)$に置き換えるとよい.\n",
    "\n",
    "$$\n",
    "\\begin{eqnarray}\n",
    "q^{\\ast}\\left(\\boldsymbol \\mu_{k}, \\boldsymbol \\Lambda_{k} \\right)\n",
    "&=&\n",
    "    \\mathcal N\\left(\n",
    "        \\boldsymbol \\mu_{k} \\mid \\mathbf m_k, \\left(\\beta_{k} \\boldsymbol \\Lambda_{k} \\right)^{-1}\\right)\n",
    "    \\mathcal W\\left(\\boldsymbol \\Lambda_{k} \\mid \\textbf W_{k}^{-1}, \\nu_{k} \\right) \\\\\n",
    "\\mathbf m_k &=& \\frac {r(k)\\overline {\\textbf x_{k}} + \\beta_0 \\mathbf m_0} {r(k) + \\beta_0} \\\\\n",
    "\\beta_k &=& r(k)+\\beta_0 \\\\\n",
    "\\textbf W_k^{-1} &=&\n",
    "    \\textbf W_0^{-1}\n",
    "    + \\frac {r(k) \\beta_0}{r(k)+\\beta_0}\n",
    "        \\left(\\overline {\\textbf x_{k}} - \\mathbf m_0\\right)\n",
    "        \\left(\\overline {\\textbf x_{k}} - \\mathbf m_0\\right)^{\\rm T}\n",
    "    + \\sum_{j=1}^{i+1} \\rho_j(k)\n",
    "        \\left(\\mathbf x_{j} - \\overline{ \\mathbf x_k}\\right)\n",
    "        \\left(\\mathbf x_{j} - \\overline{ \\mathbf x_k}\\right)^{\\rm T} \\\\\n",
    "\\nu_k &=& r(k) + \\nu_0\n",
    "\\end{eqnarray}\n",
    "$$\n",
    "\n",
    "クラスタのパラメータの事後分布が得られた."
   ]
  },
  {
   "cell_type": "markdown",
   "metadata": {},
   "source": [
    "また, (16)の下の式は以下となる.\n",
    "\n",
    "$$\n",
    "\\begin{eqnarray}\n",
    "q^{\\ast}\\left(\\boldsymbol \\mu_{k}, \\boldsymbol \\Lambda_{k} \\right)\n",
    "&=&\n",
    "    \\mathcal N\\left(\n",
    "        \\boldsymbol \\mu_{k} \\mid \\mathbf m_k, \\left(\\beta_{k} \\boldsymbol \\Lambda_{k} \\right)^{-1}\\right)\n",
    "    \\mathcal W\\left(\\boldsymbol \\Lambda_{k} \\mid \\textbf W_{k}^{-1}, \\nu_{k} \\right) \\\\\n",
    "\\mathbf m_k &=& \\frac {\\rho_{i+1}(k) \\textbf x_{i+1} + \\beta_0 \\mathbf m_0} {\\rho_{i+1}(k) + \\beta_0} \\\\\n",
    "\\beta_k &=& \\rho_{i+1}(k)+\\beta_0 \\\\\n",
    "\\textbf W_k^{-1} &=&\n",
    "    \\textbf W_0^{-1}\n",
    "    + \\frac {\\rho_{i+1}(k) \\beta_0}{\\rho_{i+1}(k)+\\beta_0}\n",
    "        \\left({\\textbf x_{i+1}} - \\mathbf m_0\\right)\n",
    "        \\left({\\textbf x_{i+1}} - \\mathbf m_0\\right)^{\\rm T}\\\\\n",
    "\\nu_k &=& \\rho_{i+1}(k) + \\nu_0\n",
    "\\end{eqnarray}\n",
    "$$"
   ]
  },
  {
   "cell_type": "markdown",
   "metadata": {},
   "source": [
    "(15)の$k \\le K$ の場合.\n",
    "\n",
    "\n",
    "$$\n",
    "\\begin{eqnarray}\n",
    "w_k^{(i)} \\int_\\theta F\\left( x_{i+1} \\mid \\theta \\right) \\nu_k^{(i)} \\left( d \\theta \\right)\n",
    "&=&\n",
    "    w_k^{(i)} \\int\n",
    "        p\\left( \\mathbf x_{i+1} \\mid \\boldsymbol \\mu_k, \\boldsymbol \\Lambda_k \\right)\n",
    "        p\\left( \\boldsymbol \\mu_k, \\boldsymbol \\Lambda_k \\right)\n",
    "    \\operatorname d \\boldsymbol \\mu_k \\operatorname d \\boldsymbol \\Lambda_k \\\\\n",
    "&=&\n",
    "    w_k^{(i)}\n",
    "    \\operatorname {St} \\left(\n",
    "        \\mathbf x_{i+1}\n",
    "        \\; \\middle| \\;\n",
    "        \\boldsymbol \\mu_k, \n",
    "        \\frac {\\beta_k\\left(\\nu_k + 1 - D\\right)}{1+\\beta_k}\\textbf W_k,\n",
    "        \\nu_k + 1 - D\n",
    "    \\right)\n",
    "\\end{eqnarray}\n",
    "$$"
   ]
  },
  {
   "cell_type": "markdown",
   "metadata": {},
   "source": [
    "(15)の$k = K+1$の場合.\n",
    "\n",
    "まず$\\mathbf x_{i+1}$ が得られたときのパラメータの事後分布を求める.\n",
    "\n",
    "$$\n",
    "\\begin{eqnarray}\n",
    "p\\left(\\boldsymbol \\mu, \\boldsymbol \\Lambda \\mid \\mathbf x_{i+1} \\right)\n",
    "&=&\n",
    "    \\mathcal N\\left(\n",
    "        \\boldsymbol \\mu \\mid \\mathbf m_1, \\left(\\beta_1 \\boldsymbol \\Lambda_1 \\right)^{-1}\\right)\n",
    "    \\mathcal W\\left(\\boldsymbol \\Lambda_{1} \\mid \\textbf W_{1}^{-1}, \\nu_1 \\right) \\\\\n",
    "\\mathbf m_1 &=& \\frac {\\textbf x_{i+1} + \\beta_0 \\mathbf m_0} {1 + \\beta_0} \\\\\n",
    "\\beta_1 &=& 1+\\beta_0 \\\\\n",
    "\\textbf W_1^{-1} &=&\n",
    "    \\textbf W_0^{-1}\n",
    "    + \\frac {\\beta_0}{1+\\beta_0}\n",
    "        \\left({\\textbf x_{i+1}} - \\mathbf m_0\\right)\n",
    "        \\left({\\textbf x_{i+1}} - \\mathbf m_0\\right)^{\\rm T}\\\\\n",
    "\\nu_1 &=& 1 + \\nu_0\n",
    "\\end{eqnarray}\n",
    "$$\n",
    "\n",
    "これをもとに(15)の下の式を変形する.\n",
    "\n",
    "$$\n",
    "\\begin{eqnarray}\n",
    "\\alpha \\int_\\theta F\\left( x_{i+1} \\mid \\theta \\right) \\mu \\left( d \\theta \\right)\n",
    "&=&\n",
    "    \\alpha \\int\n",
    "        p\\left( \\mathbf x_{i+1} \\mid \\boldsymbol \\mu, \\boldsymbol \\Lambda \\right)\n",
    "        p\\left( \\boldsymbol \\mu, \\boldsymbol \\Lambda \\right)\n",
    "    \\operatorname d \\boldsymbol \\mu \\operatorname d \\boldsymbol \\Lambda \\\\\n",
    "&=&\n",
    "    \\alpha \\int\n",
    "        p\\left( \\mathbf x_{i+1} \\right)\n",
    "    \\operatorname d \\boldsymbol \\mu \\operatorname d \\boldsymbol \\Lambda \\\\\n",
    "&=&\n",
    "    \\alpha \\times p\\left( \\mathbf x_{i+1} \\right) \\\\\n",
    "&=&\n",
    "    \\alpha \\frac {1} {\\pi^{\\frac {D} {2}}}\n",
    "    \\frac {\\Gamma _{D}\\left({\\frac {\\nu_1}{2}}\\right)} {\\Gamma _{D}\\left({\\frac {\\nu_0}{2}}\\right)}\n",
    "    \\frac {\\left|{\\mathbf {W}_1 }\\right|^{\\frac {\\nu_1} {2}}} {\\left|{\\mathbf {W}_0 }\\right|^{\\frac {\\nu_0} {2}}}\n",
    "    \\left(\\frac {\\beta_0} {\\beta_1}\\right)^{\\frac {D} {2}}\n",
    "\\end{eqnarray}\n",
    "$$\n",
    "\n",
    "ここで, \n",
    "\n",
    "$$\n",
    "{\\displaystyle \\Gamma _{D}\\left({\\frac {n}{2}}\\right)=\\pi ^{D(D-1)/4}\\prod _{j=1}^{D}\\Gamma \\left({\\frac {n-j+1}{2}}\\right).}\n",
    "$$\n",
    "\n",
    "なので,"
   ]
  },
  {
   "cell_type": "markdown",
   "metadata": {},
   "source": [
    "$$\n",
    "\\begin{eqnarray}\n",
    "\\frac\n",
    "    {\\Gamma_D\\left( \\frac {\\nu_1} {2} \\right)}\n",
    "    {\\Gamma_D\\left( \\frac {\\nu_0} {2} \\right)}\n",
    "&=&\n",
    "    \\frac\n",
    "    {\\prod^D_{j=1}\\Gamma \\left( \\frac {\\nu_1 - j + 1} {2}\\right)}\n",
    "    {\\prod^D_{j=1}\\Gamma \\left( \\frac {\\nu_0 - j + 1} {2}\\right)} \\\\\n",
    "&=&\n",
    "    \\frac\n",
    "    {\\prod^D_{j=1}\\Gamma \\left( \\frac {\\nu_0 - j + 2} {2}\\right)}\n",
    "    {\\prod^D_{j=1}\\Gamma \\left( \\frac {\\nu_0 - j + 1} {2}\\right)} \\\\\n",
    "&=&\n",
    "    \\frac\n",
    "    {\\Gamma \\left( \\frac {\\nu_0 +1} {2}\\right)}\n",
    "    {\\Gamma \\left( \\frac {\\nu_0 -D + 1} {2}\\right)} \\\\\n",
    "\\end{eqnarray}\n",
    "$$"
   ]
  },
  {
   "cell_type": "markdown",
   "metadata": {},
   "source": [
    "よって,\n",
    "\n",
    "$$\n",
    "\\begin{eqnarray}\n",
    "\\alpha \\int_\\theta F\\left( x_{i+1} \\mid \\theta \\right) \\mu \\left( d \\theta \\right)\n",
    "&=&\n",
    "    \\alpha \\frac {1} {\\pi^{\\frac {D} {2}}}\n",
    "    \\frac\n",
    "        {\\Gamma \\left( \\frac {\\nu_0 +1} {2}\\right)}\n",
    "        {\\Gamma \\left( \\frac {\\nu_0 -D + 1} {2}\\right)} \n",
    "    \\frac {\\left|{\\mathbf {W}_1 }\\right|^{\\frac {\\nu_1} {2}}} {\\left|{\\mathbf {W}_0 }\\right|^{\\frac {\\nu_0} {2}}}\n",
    "    \\left(\\frac {\\beta_0} {\\beta_1}\\right)^{\\frac {D} {2}}\n",
    "\\end{eqnarray}\n",
    "$$"
   ]
  },
  {
   "cell_type": "markdown",
   "metadata": {},
   "source": [
    "以上、全部導出できた."
   ]
  },
  {
   "cell_type": "code",
   "execution_count": 1,
   "metadata": {},
   "outputs": [
    {
     "name": "stderr",
     "output_type": "stream",
     "text": [
      "/Users/kazufusa/.anyenv/envs/pyenv/versions/3.6.4/lib/python3.6/importlib/_bootstrap.py:219: RuntimeWarning: numpy.dtype size changed, may indicate binary incompatibility. Expected 96, got 88\n",
      "  return f(*args, **kwds)\n",
      "/Users/kazufusa/.anyenv/envs/pyenv/versions/3.6.4/lib/python3.6/importlib/_bootstrap.py:219: RuntimeWarning: numpy.dtype size changed, may indicate binary incompatibility. Expected 96, got 88\n",
      "  return f(*args, **kwds)\n"
     ]
    }
   ],
   "source": [
    "import numpy as np\n",
    "import scipy as sp\n",
    "from scipy import stats\n",
    "from scipy import special\n",
    "\n",
    "import pandas as pd\n",
    "pd.set_option('display.width', 200)\n",
    "import matplotlib.pyplot as plt\n",
    "import matplotlib\n",
    "plt.style.use('ggplot')\n",
    "colors = plt.rcParams['axes.prop_cycle'].by_key()['color']\n",
    "\n",
    "import os\n",
    "import subprocess\n",
    "import warnings\n",
    "warnings.filterwarnings('ignore')"
   ]
  },
  {
   "cell_type": "code",
   "execution_count": 2,
   "metadata": {},
   "outputs": [
    {
     "data": {
      "image/png": "[encoded data removed]",
      "text/plain": [
       "<Figure size 432x288 with 1 Axes>"
      ]
     },
     "metadata": {},
     "output_type": "display_data"
    }
   ],
   "source": [
    "np.random.seed(0)\n",
    "mean0 = np.array([0, 0])\n",
    "cov0 = np.array([[5,2],[2,1]])\n",
    "mean1 = np.array([5, 7])\n",
    "cov1 = np.array([[8,0],[0,7]])\n",
    "N = 100\n",
    "a = 0.7\n",
    "X = pd.DataFrame(\n",
    "    np.r_[\n",
    "        sp.random.multivariate_normal(mean0, cov0, int(N*(1-a))),\n",
    "        sp.random.multivariate_normal(mean1, cov1, int(N*a))\n",
    "    ],\n",
    "    columns=['x', 'y']\n",
    ")\n",
    "X.plot(kind='scatter', x='x', y='y').set_aspect('equal')\n",
    "plt.savefig('1.png', bbox_inches='tight', pad_inches=0)"
   ]
  },
  {
   "cell_type": "code",
   "execution_count": 26,
   "metadata": {},
   "outputs": [],
   "source": [
    "x = X.sample(frac=1).values.T\n",
    "D = 2\n",
    "\n",
    "# Dirichlet process base distribution\n",
    "beta_0 = 1\n",
    "m_0 = np.zeros((D, 1))\n",
    "# m_0 = x[:, 0].reshape(D, 1)\n",
    "W_0 = np.diag([0.01, 0.01])\n",
    "nu_0 = 1.1\n",
    "\n",
    "# Dirichlet process scaling parameter\n",
    "alpha = 1"
   ]
  },
  {
   "cell_type": "code",
   "execution_count": 4,
   "metadata": {},
   "outputs": [],
   "source": [
    "def init():\n",
    "    global mu_k, W_k, nu_k, beta_k, rho, K\n",
    "    maxK = 100\n",
    "    mu_k = np.zeros((maxK, D, 1))\n",
    "    W_k = np.zeros((maxK, D, D))\n",
    "    nu_k = np.zeros(maxK)\n",
    "    beta_k = np.zeros(maxK)\n",
    "    rho = np.zeros((N, maxK))\n",
    "\n",
    "    K = 1\n",
    "    rho[0, 0] = 1\n",
    "\n",
    "init()"
   ]
  },
  {
   "cell_type": "code",
   "execution_count": 55,
   "metadata": {},
   "outputs": [],
   "source": [
    "def multivariate_t_distribution(x,mu,Sigma,df,d):\n",
    "    import math\n",
    "    '''\n",
    "    Multivariate t-student density:\n",
    "    output:\n",
    "        the density of the given element\n",
    "    input:\n",
    "        x = parameter (d dimensional numpy array or scalar)\n",
    "        mu = mean (d dimensional numpy array or scalar)\n",
    "        Sigma = scale matrix (dxd numpy array)\n",
    "        df = degrees of freedom\n",
    "        d: dimension\n",
    "    '''\n",
    "    x = x.reshape(d)\n",
    "    mu = mu.reshape(d)\n",
    "    Num = math.gamma(1. * (d+df)/2)\n",
    "    Denom = ( math.gamma(1.*df/2) * pow(df*np.pi,1.*d/2) * pow(np.linalg.det(Sigma),1./2)\\\n",
    "             * pow(1 + (1./df)*np.dot(np.dot((x - mu),np.linalg.inv(Sigma)), (x - mu)),1.* (d+df)/2))\n",
    "    d = 1. * Num / Denom \n",
    "    return d\n",
    "\n",
    "# PDF of student's t distribution\n",
    "def t_pdf(x, m, Lambda, df):\n",
    "    D = len(m)\n",
    "#     print(multivariate_t_distribution(x, m, np.linalg.inv(Lambda), df, D))\n",
    "#     print(np.diag(\n",
    "#         sp.special.gamma(D/2. + df/2.) /\n",
    "#         sp.special.gamma(df/2.) *\n",
    "#         np.power(np.linalg.det(Lambda), 1/2.) / \n",
    "#         np.power(np.pi * df, D/2.) *\n",
    "#         np.power(1 + (x-m).T@Lambda@(x-m)/df, -(D+df)/2.)\n",
    "#     ))\n",
    "    D = len(m)\n",
    "    if len(x) != D:\n",
    "        m = m.reshape(D, 1)\n",
    "        x = x.T\n",
    "\n",
    "    return np.diag(\n",
    "        sp.special.gamma(D/2. + df/2.) /\n",
    "        sp.special.gamma(df/2.) *\n",
    "        np.power(np.linalg.det(Lambda), 1/2.) / \n",
    "        np.power(np.pi * df, D/2.) *\n",
    "        np.power(1 + (x-m).T@Lambda@(x-m)/df, -(D+df)/2.)\n",
    "    )"
   ]
  },
  {
   "cell_type": "code",
   "execution_count": 7,
   "metadata": {},
   "outputs": [],
   "source": [
    "# eq15( k le K)\n",
    "def eq15_1(w, D, x, mu_k, beta_k, nu_k, W_k):\n",
    "    return w * t_pdf(\n",
    "        x,\n",
    "        mu_k,\n",
    "        beta_k * (nu_k + 1 - D) * W_k / (1 + beta_k),\n",
    "        (nu_k + 1 - D)\n",
    "    )\n",
    "\n",
    "# eq15(k = K + 1)\n",
    "def eq15_2(alpha, D, x, m_0, beta_0, nu_0, W_0):\n",
    "    m_1 = (x + beta_0 * m_0) / (1 + beta_0)\n",
    "    beta_1 = 1 + beta_0\n",
    "    W_1_inv = np.linalg.inv(W_0) + beta_0 * (1 + beta_0) * (x - m_0)@(x-m_0).T\n",
    "    W_1 = np.linalg.inv(W_1_inv)\n",
    "    nu_1 = 1 + nu_0\n",
    "    \n",
    "    return alpha / np.power(np.pi, D/2.) \\\n",
    "        * sp.special.gamma((nu_0+1.)/2.) \\\n",
    "        / sp.special.gamma((nu_0+1.-D)/2.) \\\n",
    "        * np.power(np.linalg.det(W_1), nu_1/2.) \\\n",
    "        / np.power(np.linalg.det(W_0), nu_0/2.) \\\n",
    "        * np.power(beta_0/beta_1, D/2.)"
   ]
  },
  {
   "cell_type": "code",
   "execution_count": 6,
   "metadata": {},
   "outputs": [],
   "source": [
    "# eq.16(k .le. K)\n",
    "def eq16_1(x, rho, i, k, m_0, beta_0, nu_0, W_0):\n",
    "    r_k = rho[0:i+1, k].sum()\n",
    "\n",
    "    x_bar = x@rho[0:i+1, k:k+1] / r_k\n",
    "    S_k = np.sum([rho[i, k] * (x[:,i:i+1] - x_bar)@(x[:,i:i+1] - x_bar).T for n in range(N)])\n",
    "    \n",
    "    m_k = (r_k * x_bar + beta_0 * m_0) / (r_k + beta_0)\n",
    "    beta_k = r_k + beta_0\n",
    "    W_k_inv = np.linalg.inv(W_0) \\\n",
    "        + r_k * beta_0 / (r_k + beta_0) * (x_bar - m_0)@(x_bar - m_0).T \\\n",
    "        + S_k\n",
    "    W_k = np.linalg.inv(W_k_inv)\n",
    "    nu_k = r_k + nu_0\n",
    "    \n",
    "    return m_k, beta_k, W_k, nu_k\n",
    "\n",
    "# eq.16(k = K + 1)\n",
    "def eq16_2(x, rho, i, k, m_0, beta_0, nu_0, W_0):\n",
    "    m_k = (rho[i, k] * x + beta_0 * m_0) / (rho[i, k] + beta_0)\n",
    "    beta_k = rho[i, k] + beta_0\n",
    "    W_k_inv = np.linalg.inv(W_0) \\\n",
    "        + rho[i, k] * beta_0 / (rho[i, k] + beta_0) * (x - m_0)@(x - m_0).T\n",
    "    W_k = np.linalg.inv(W_k_inv)\n",
    "    nu_k = rho[i, k] + nu_0\n",
    "    \n",
    "    return m_k, beta_k, W_k, nu_k"
   ]
  },
  {
   "cell_type": "code",
   "execution_count": 79,
   "metadata": {},
   "outputs": [
    {
     "data": {
      "image/png": "[encoded data removed]",
      "text/plain": [
       "<Figure size 648x504 with 2 Axes>"
      ]
     },
     "metadata": {},
     "output_type": "display_data"
    }
   ],
   "source": [
    "init()\n",
    "i=0\n",
    "k=0\n",
    "_mu_k, _beta_k, _W_k, _nu_k = eq16_2(x[:,i:i+1], rho, i, k, m_0, beta_0, nu_0, W_0)\n",
    "\n",
    "fig, ax = plt.subplots(ncols=1, figsize=(9, 7))\n",
    "\n",
    "ax.set_aspect('equal')\n",
    "ax.set_title('posterior predictive distribution')\n",
    "ax.set_xlabel('x')\n",
    "ax.set_ylabel('y')\n",
    "ax.set_aspect('equal')\n",
    "\n",
    "delta = 1\n",
    "xrange = np.array([-10, 15])\n",
    "yrange = np.array([-10, 15])\n",
    "gx = np.arange(*(xrange + delta/2), delta)\n",
    "gy = np.arange(*(yrange + delta/2), delta)\n",
    "gxx, gyy = np.meshgrid(gx, gy)\n",
    "gxgy = np.c_[gxx.ravel(), gyy.ravel()]\n",
    "\n",
    "# parameters of posterior predictive distribution\n",
    "zz = t_pdf(\n",
    "    gxgy,\n",
    "    m_0,\n",
    "    beta_0 * (nu_0 + 1 - D) * W_0 / (1 + beta_0),\n",
    "    (nu_0 + 1 - D)\n",
    ")\n",
    "# zz = t_pdf(\n",
    "#     gxgy,\n",
    "#     _mu_k,\n",
    "#     _beta_k * (_nu_k + 1 - D) * _W_k / (1 + _beta_k),t\n",
    "#     (_nu_k + 1 - D)\n",
    "# )\n",
    "\n",
    "im = ax.imshow(\n",
    "    zz.reshape(len(gx), len(gy)), \n",
    "    interpolation='none', \n",
    "    origin='lower',\n",
    "    extent=list(xrange) + list(yrange),\n",
    "    cmap=matplotlib.cm.rainbow\n",
    ")\n",
    "fig.colorbar(im, ax=ax).set_label('probability')\n",
    "pd.DataFrame(x[:, 0].reshape(1, D), columns=['x', 'y']) \\\n",
    "    .plot(kind='scatter', x='x', y='y', c='black', ax=ax, label='data', alpha=0.5);"
   ]
  },
  {
   "cell_type": "code",
   "execution_count": 56,
   "metadata": {
    "scrolled": false
   },
   "outputs": [
    {
     "name": "stdout",
     "output_type": "stream",
     "text": [
      "13\n"
     ]
    },
    {
     "data": {
      "image/png": "[encoded data removed]",
      "text/plain": [
       "<Figure size 432x288 with 1 Axes>"
      ]
     },
     "metadata": {},
     "output_type": "display_data"
    }
   ],
   "source": [
    "init()\n",
    "i=0\n",
    "k=0\n",
    "_mu_k, _beta_k, _W_k, _nu_k = eq16_2(x[:,i:i+1], rho, i, k, m_0, beta_0, nu_0, W_0)\n",
    "\n",
    "mu_k[k] = _mu_k\n",
    "beta_k[k] = _beta_k\n",
    "W_k[k] = _W_k\n",
    "nu_k[k] = _nu_k\n",
    "\n",
    "for i in np.arange(1, N):\n",
    "    for k in np.arange(K):\n",
    "        w = rho[0:i, k].sum()\n",
    "        rho[i, k] = eq15_1(w, D, x[:,i:i+1], mu_k[k], beta_k[k], nu_k[k], W_k[k])\n",
    "    rho[i, K] = eq15_2(alpha, D, x[:,i:i+1], m_0, beta_0, nu_0, W_0)\n",
    "    rho[i, 0:K+1] = rho[i, 0:K+1] / rho[i, 0:K+1].sum()\n",
    "    \n",
    "    if rho[i, K] > 0.01:\n",
    "        for k in np.arange(K):\n",
    "            _mu_k, _beta_k, _W_k, _nu_k = eq16_1(x[:,0:i+1], rho, i, k, m_0, beta_0, nu_0, W_0)\n",
    "            mu_k[k] = _mu_k\n",
    "            beta_k[k] = _beta_k\n",
    "            W_k[k] = _W_k\n",
    "            nu_k[k] = _nu_k\n",
    "        \n",
    "        _mu_k, _beta_k, _W_k, _nu_k = eq16_2(x[:,i:i+1], rho, i, K, m_0, beta_0, nu_0, W_0)\n",
    "        mu_k[K] = _mu_k\n",
    "        beta_k[K] = _beta_k\n",
    "        W_k[K] = _W_k\n",
    "        nu_k[K] = _nu_k\n",
    "        \n",
    "        K = K + 1\n",
    "    else:\n",
    "        rho[i, K] = 0\n",
    "        rho[i, 0:K] = rho[i, 0:K] / rho[i, 0:K].sum()\n",
    "        for k in np.arange(K):\n",
    "            _mu_k, _beta_k, _W_k, _nu_k = eq16_1(x[:,0:i+1], rho, i, k, m_0, beta_0, nu_0, W_0)\n",
    "            mu_k[k] = _mu_k\n",
    "            beta_k[k] = _beta_k\n",
    "            W_k[k] = _W_k\n",
    "            nu_k[k] = _nu_k\n",
    "\n",
    "print(K)\n",
    "ax = pd.DataFrame(mu_k.reshape(100, 2), columns=['x','y']).plot(kind='scatter', x='x', y='y')\n",
    "X.plot(kind='scatter', x='x', y='y', ax=ax, color='red', alpha=0.5).set_aspect('equal')"
   ]
  }
 ],
 "metadata": {
  "kernelspec": {
   "display_name": "Python 3",
   "language": "python",
   "name": "python3"
  },
  "language_info": {
   "codemirror_mode": {
    "name": "ipython",
    "version": 3
   },
   "file_extension": ".py",
   "mimetype": "text/x-python",
   "name": "python",
   "nbconvert_exporter": "python",
   "pygments_lexer": "ipython3",
   "version": "3.6.4"
  }
 },
 "nbformat": 4,
 "nbformat_minor": 2
}
