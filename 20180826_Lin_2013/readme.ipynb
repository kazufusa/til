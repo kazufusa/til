{
 "cells": [
  {
   "cell_type": "markdown",
   "metadata": {},
   "source": [
    "# Lin (2013)で学ぶSequential Variational Approximation でノンパラベイズ\n",
    "\n",
    "Variational inference でDirichlet process infinite mixture model をしたくなったので適当に論文を見つけて読んで実装する.\n",
    "\n"
   ]
  },
  {
   "cell_type": "markdown",
   "metadata": {},
   "source": [
    "## 1. Introduction"
   ]
  },
  {
   "cell_type": "markdown",
   "metadata": {},
   "source": [
    "## 2. Related Work"
   ]
  },
  {
   "cell_type": "markdown",
   "metadata": {},
   "source": [
    "## 3. Nonparametric Mixture Models\n",
    "\n",
    "$$\n",
    "D = \\sum_{k=1}^{\\infty}\\pi_k\\delta_{\\phi_k}, \\;\n",
    "\\operatorname{with} \\pi_k = v_k\\prod_{l=1}^{k-1}v_l, \\;\n",
    "v_k \\propto \\operatorname{Beta} \\left( 1, \\alpha_k\\right), \\;\n",
    "\\forall k = 1, 2, ... \\tag{1} \\\\\n",
    "$$\n",
    "\n",
    "$$\n",
    "D \\propto DP\\left( \\alpha \\mu\\right), \\;\n",
    "\\theta_i \\propto \\mu , \\;\n",
    "x_i \\propto F\\left( \\cdot \\mid \\theta_i \\right), \\;\n",
    "\\forall i = 1, 2, ..., n \\tag{2} \\\\\n",
    "$$"
   ]
  },
  {
   "cell_type": "markdown",
   "metadata": {},
   "source": [
    "$$\n",
    "\\begin{eqnarray}\n",
    "z_{1:n} &\\propto& \\operatorname{CRP} \\left( \\alpha \\right), \\; \\phi_k \\propto \\mu, \\; \\forall k = 1, 2, ... \\\\\n",
    "x_{1:n} &\\propto& F\\left(\\cdot \\mid \\phi_{z_i} \\right), \\; \\forall i = 1, 2, ..., n  \\tag{3}\n",
    "\\end{eqnarray}\n",
    "$$\n",
    "\n",
    "$$\n",
    "p_{\\operatorname {CRP}}\\left( z_{1:n} \\mid \\alpha\\right) =\n",
    "\\frac {\\Gamma(\\alpha) \\alpha^K} {\\Gamma(\\alpha + n)} \\prod_{k=1}^K \\Gamma\\left( | C_k| \\right) \\tag{4}\n",
    "$$"
   ]
  },
  {
   "cell_type": "markdown",
   "metadata": {},
   "source": [
    "## 4. Variational Approximation of Posterior\n",
    "\n",
    "予測分布は以下のようになる.\n",
    "\n",
    "$$\n",
    "p\\left( \\theta'  \\mid x_{1:n}\\right) = \\mathbb E_{D \\mid x_{1:n}} \\left\\lbrack p\\left( \\theta' \\mid D \\right) \\right\\rbrack \\tag {5}\n",
    "$$\n",
    "\n",
    "### 4.1. Posterior Analysis\n",
    "\n",
    "$ D $ の事後分布.\n",
    "\n",
    "$$\n",
    "\\begin{eqnarray}\n",
    "D \\mid \\theta_{1:n} &\\sim& \\operatorname {DP} \\left( \\tilde {\\alpha} \\tilde {\\mu}\\right) \\\\\n",
    "\\tilde{\\alpha} &=& \\alpha + n \\\\\n",
    "\\tilde{\\mu} &=& \\frac {\\alpha} {\\alpha+n} \\mu + \\sum_{k=1}^K \\frac {\\left| C_k \\right|} {\\alpha + n} \\delta_{\\phi_k} \\tag{6}\n",
    "\\end{eqnarray}\n",
    "$$"
   ]
  },
  {
   "cell_type": "markdown",
   "metadata": {},
   "source": [
    "$ p\\left( D \\mid z_{1:n}, x_{1:n} \\right) $ からのサンプリングは以下のサンプリングと同じ.\n",
    "\n",
    "$$\n",
    "\\begin{eqnarray}\n",
    "\\beta_0 D' + \\sum_{k=1}^K \\beta_k \\delta_{\\phi_k} , &&\\\\\n",
    "&& with  \\; D' \\sim \\operatorname {DP} \\left( \\alpha \\mu  \\right), \\;\n",
    "\\left( \\beta_0, \\beta_1, ..., \\beta_k \\right) \\sim \\operatorname{Dir} \\left( \\alpha, m_1, ..., m_K \\right), \\;\n",
    "\\phi_k \\sim \\mu \\mid _{C_k} \\tag{7}\n",
    "\\end{eqnarray}\n",
    "$$\n",
    "\n",
    "ここで, $m_k = |C_k|$, $\\mu \\mid _{C_k}$ は 事後分布 $ \\mu \\mid _{C_k}\\left( \\operatorname d \\theta \\right) \\propto \\mu\\left( \\operatorname d \\theta  \\right) \\prod_{i\\in C_k} F \\left( x_i \\mid \\theta \\right)$\n",
    "\n",
    "つまり$1:n$ までのデータが収まった中華料理店にもう１件データが追加された, という状態. $ \\beta_k $ で既存のテーブルkに座り, $\\beta_0$で新規テーブルが作られそこに座る. $\\beta$の総和は1."
   ]
  },
  {
   "cell_type": "markdown",
   "metadata": {},
   "source": [
    "データ $ x_{1:n} $ が得られたときの混合分布 $ D $ の事後確率.\n",
    "\n",
    "$$\n",
    "p\\left( D \\mid x_{1:n} \\right) = \\sum_{z_{1:n}} p\\left(z_{1:n} \\mid x_{1:n} \\right)p\\left( D \\mid x_{1:n}, z_{1:n}\\right) \\tag{8}\n",
    "$$\n",
    "\n"
   ]
  },
  {
   "cell_type": "markdown",
   "metadata": {},
   "source": [
    "$$\n",
    "p \\left( z_{1:n} \\mid x_{1:n} \\right)\n",
    "\\propto\n",
    "    p_{\\operatorname {CRP}} \\left( z_{1:n} \\mid \\alpha \\right)\n",
    "    \\prod_{k=1}^{K^{(z)}} \\int \\mu \\left( \\operatorname {d} \\phi_{k} \\right)\n",
    "    \\prod_{i \\in C_k^{(z)}} F\\left( x_i \\mid \\phi_k \\right) \\tag{9}\n",
    "$$"
   ]
  },
  {
   "cell_type": "markdown",
   "metadata": {},
   "source": [
    "## 4.2 Variational Approximation\n",
    "\n",
    "(8)について, $p\\left(z_{1:n} \\mid x_{1:n} \\right)$を因子分解可能とし, $ p\\left( D \\mid z_{1:n}, x_{1:n} \\right) $ を(11)の確率過程で近似する.\n",
    "\n",
    "$$\n",
    "q\\left(D \\mid \\rho, \\nu \\right) = \\sum_{z_{1:n}} \\prod_{i=1}^n \\rho_i\\left(z_i \\right)q_{\\nu}^{(z)}\\left( D \\mid z_{1:n}\\right) \\tag{10}\n",
    "$$"
   ]
  },
  {
   "cell_type": "markdown",
   "metadata": {},
   "source": [
    "$$\n",
    "\\begin{eqnarray}\n",
    "q_{\\nu}^{(z)} \\left( D \\mid z_{1:n}\\right) \\overset{d} {\\sim} && \\beta_0 D' + \\sum_{k=1}^K\\beta_k\\delta{\\phi_k} \\\\\n",
    "&&with \\; D' \\sim \\operatorname {DP} \\left( \\alpha \\mu \\right), \\;\n",
    "\\left( \\beta_0, \\beta_1, ..., \\beta_k \\right) \\sim \\operatorname{Dir} \\left( \\alpha, m_1^{(z)}, ..., m_K^{(z)} \\right), \\;\n",
    "\\phi_k \\sim \\nu_k\\tag{11}\n",
    "\\end{eqnarray}\n",
    "$$"
   ]
  },
  {
   "cell_type": "markdown",
   "metadata": {},
   "source": [
    "(10), (11)と(8), (9)はよく似ている. 違いは, \n",
    "\n",
    "1.  $p\\left(z_{1:n} \\mid x_{1:n} \\right)$を因子分解可能とし, $ \\prod_{i=1}^n \\rho_i\\left(z_i \\right)$ で近似したこと\n",
    "2.  $\\mu |_{C_k}$ を $\\nu_k$ で近似したこと "
   ]
  },
  {
   "cell_type": "markdown",
   "metadata": {},
   "source": [
    "$$\n",
    "\\mathbb E_{q\\left( D \\mid \\rho, \\nu  \\right)}\\left\\lbrack p\\left(\\theta'  \\mid D \\right) \\right\\rbrack\n",
    "=\n",
    "    \\frac {\\alpha} {\\alpha + n} \\mu\\left( \\theta ' \\right)\n",
    "    + \\sum_{k=1}^K \\frac {\\sum_{i=1}^n \\rho_i\\left( k \\right)} {\\alpha + n} \\nu_k\\left( \\theta'\\right) \\tag{12}\n",
    "$$"
   ]
  },
  {
   "cell_type": "markdown",
   "metadata": {},
   "source": [
    "### 4.3 Sequential Approximation"
   ]
  },
  {
   "cell_type": "markdown",
   "metadata": {},
   "source": [
    "$$\n",
    "\\tag{15}\n",
    "\\rho_{i+1} \\propto \\left\\{ \\begin{array}{ll}\n",
    "    w_k^{(i)} \\int_\\theta F\\left( x_{i+1} \\mid \\theta \\right) \\nu_k^{(i)} \\left( d \\theta \\right) & (k \\le K), \\\\\n",
    "    \\alpha \\int_\\theta F\\left( x_{i+1} \\mid \\theta \\right) \\mu \\left( d \\theta \\right) & (k = K+1), \\\\\n",
    "  \\end{array} \\right.\n",
    "$$"
   ]
  },
  {
   "cell_type": "markdown",
   "metadata": {},
   "source": [
    "with $ w_i^{(i)} = \\sum_{j=1}^i \\rho_j\\left(k \\right)$, and \n",
    "\n",
    "$$\n",
    "\\tag{16}\n",
    "\\nu_{k}^{(i+1)}\\left( d\\theta \\right) \\propto \\left\\{ \\begin{array}{ll}\n",
    "    \\mu\\left( d\\theta \\right) \\prod_{j=1}^{i+1} F\\left( x_j \\mid \\theta \\right)^{\\rho_j(k)}\n",
    "    & (k \\le K), \\\\\n",
    "    \\mu\\left( d\\theta \\right) F\\left( x_{i+1} \\mid \\theta \\right)^{\\;\\rho_{i+1}(k)}\n",
    "    & (k = K+1), \\\\\n",
    "  \\end{array} \\right.\n",
    "$$"
   ]
  },
  {
   "cell_type": "markdown",
   "metadata": {},
   "source": [
    "$\\rho_1 = 1, K = 1$ から開始する, $i$を増やすたびに, $\\rho_{i+1}$の計算, $w_k$ の更新, Kの更新, $\\nu$の更新(, と$\\rho$の更新も?)を繰り返す. Kをインクリメントするかどうかは, $\\rho_{i+1}\\left( K+1 \\right) $ がしきい値以上であるか否かで判定する. Kをインクリメントしない場合は, $\\rho_{i+1}\\left( K+1 \\right) $は不要なので削除, $\\rho_{i+1}\\left( 1,..., K \\right) $の総和が1になるように標準化する."
   ]
  },
  {
   "cell_type": "markdown",
   "metadata": {},
   "source": [
    "## Normal-Wishart分布を基底分布にしてinfinite mixture multivariate normal modelを実装してみる."
   ]
  },
  {
   "cell_type": "markdown",
   "metadata": {},
   "source": [
    "多変量正規分布のInfinite mixture モデルを考える. 分布のパラメータとして, 平均と精度行列を推定する.\n",
    "\n",
    "$$\n",
    "\\begin{eqnarray}\n",
    "\\nu_k &=& \\left(\\boldsymbol \\mu_k, \\boldsymbol \\Lambda_k \\right) \\sim\n",
    "    \\mathcal N \\left(\\boldsymbol \\mu_{k} \\mid \\mathbf m_{0}, \\left(\\beta_{0} \\boldsymbol \\Lambda_{k} \\right)^{-1}\\right)\n",
    "    \\mathcal W\\left(\\boldsymbol \\Lambda_{k} \\mid \\mathbf W_{0}, \\nu_{0}\\right)\n",
    "\\end{eqnarray}\n",
    "$$"
   ]
  },
  {
   "cell_type": "markdown",
   "metadata": {},
   "source": [
    "(15)を書き下す. まず$k \\le K$の場合を考える.\n",
    "\n",
    "$$\n",
    "\\begin{eqnarray}\n",
    "w_k^{(i)} \\int_\\theta F\\left( x_{i+1} \\mid \\theta \\right) \\nu_k^{(i)} \\left( d \\theta \\right)\n",
    "&=&\n",
    "    w_k^{(i)} \\int\n",
    "    \\mathcal N \\left( x_{i+1} \\mid \\boldsymbol \\mu_k, \\boldsymbol \\Lambda_k^{-1} \\right)\n",
    "    \\mathcal N \\left(\\boldsymbol \\mu_{k} \\mid \\mathbf m_{0}, \\left(\\beta_{0} \\boldsymbol \\Lambda_{k} \\right)^{-1}\\right)\n",
    "    \\mathcal W\\left(\\boldsymbol \\Lambda_{k} \\mid \\mathbf W_{0}, \\nu_{0}\\right)\n",
    "    \\operatorname d \\boldsymbol \\mu \\operatorname d \\boldsymbol \\Lambda \n",
    "\\end{eqnarray}\n",
    "$$"
   ]
  },
  {
   "cell_type": "markdown",
   "metadata": {},
   "source": [
    "(16)の上の式を考える. (16)の下の式は上の式の変形なので, 上の式さえ解ければ良い.\n",
    "\n",
    "$$\n",
    "\\begin{eqnarray}\n",
    "\\mu\\left( d\\theta \\right) \\prod_{j=1}^{i+1} F\\left( x_j \\mid \\theta \\right)^{\\rho_j(k)}\n",
    "&=&\n",
    "    \\prod_{j=1}^{i+1}\\mathcal N \\left( x_{j} \\mid \\boldsymbol \\mu_k, \\boldsymbol \\Lambda_k^{-1} \\right)^{\\;\\rho_j(k)}\n",
    "    \\mathcal N \\left(\\boldsymbol \\mu_{k} \\mid \\mathbf m_{0}, \\left(\\beta_{0} \\boldsymbol \\Lambda_{k} \\right)^{-1}\\right)\n",
    "    \\mathcal W\\left(\\boldsymbol \\Lambda_{k} \\mid \\mathbf W_{0}, \\nu_{0}\\right)\n",
    "\\end{eqnarray}\n",
    "$$"
   ]
  },
  {
   "cell_type": "markdown",
   "metadata": {},
   "source": [
    "多変量正規分布+事前分布(Normal-Wishart分布)の形だが, データの尤度の肩に$\\rho$が乗っているのが[以前解いたもの](http://kazufusa1484.hatenablog.com/entry/2018/07/27/121549)と異なっている. \n",
    "\n",
    "$ \\sum_{j=1}^{i+1}\\rho_j\\left(k\\right) = r_{i+1, k}と重み付け平均\\overline {\\mathbf x} = \\sum_{j=1}^{i+1} \\rho_j(k) \\textbf x_j  / r_{i+1, k} $ を導入する.　以前のものの$N$を$r_{i+1, k}$に置き換えるだけで解決する."
   ]
  }
 ],
 "metadata": {
  "kernelspec": {
   "display_name": "Python 3",
   "language": "python",
   "name": "python3"
  },
  "language_info": {
   "codemirror_mode": {
    "name": "ipython",
    "version": 3
   },
   "file_extension": ".py",
   "mimetype": "text/x-python",
   "name": "python",
   "nbconvert_exporter": "python",
   "pygments_lexer": "ipython3",
   "version": "3.6.6"
  }
 },
 "nbformat": 4,
 "nbformat_minor": 2
}
