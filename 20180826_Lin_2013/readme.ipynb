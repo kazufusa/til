{
 "cells": [
  {
   "cell_type": "markdown",
   "metadata": {},
   "source": [
    "# Infinite mixture model を Variational inferenceで\n",
    "\n",
    "Variational inference でDirichlet process infinite mixture model をしたくなったので適当に[Lin 2013](http://papers.nips.cc/paper/4968-online-learning-of-nonparametric-mixture-models-via-sequential-variational)を見つけて読んで実装する.\n",
    "\n"
   ]
  },
  {
   "cell_type": "markdown",
   "metadata": {},
   "source": [
    "## 1. Introduction"
   ]
  },
  {
   "cell_type": "markdown",
   "metadata": {},
   "source": [
    "## 2. Related Work"
   ]
  },
  {
   "cell_type": "markdown",
   "metadata": {},
   "source": [
    "## 3. Nonparametric Mixture Models\n",
    "\n",
    "$$\n",
    "D = \\sum_{k=1}^{\\infty}\\pi_k\\delta_{\\phi_k}, \\;\n",
    "\\operatorname{with} \\pi_k = v_k\\prod_{l=1}^{k-1}v_l, \\;\n",
    "v_k \\propto \\operatorname{Beta} \\left( 1, \\alpha_k\\right), \\;\n",
    "\\forall k = 1, 2, ... \\tag{1} \\\\\n",
    "$$\n",
    "\n",
    "$$\n",
    "D \\propto DP\\left( \\alpha \\mu\\right), \\;\n",
    "\\theta_i \\propto \\mu , \\;\n",
    "x_i \\propto F\\left( \\cdot \\mid \\theta_i \\right), \\;\n",
    "\\forall i = 1, 2, ..., n \\tag{2} \\\\\n",
    "$$"
   ]
  },
  {
   "cell_type": "markdown",
   "metadata": {},
   "source": [
    "$$\n",
    "\\begin{eqnarray}\n",
    "z_{1:n} &\\propto& \\operatorname{CRP} \\left( \\alpha \\right), \\; \\phi_k \\propto \\mu, \\; \\forall k = 1, 2, ... \\\\\n",
    "x_{1:n} &\\propto& F\\left(\\cdot \\mid \\phi_{z_i} \\right), \\; \\forall i = 1, 2, ..., n  \\tag{3}\n",
    "\\end{eqnarray}\n",
    "$$\n",
    "\n",
    "$$\n",
    "p_{\\operatorname {CRP}}\\left( z_{1:n} \\mid \\alpha\\right) =\n",
    "\\frac {\\Gamma(\\alpha) \\alpha^K} {\\Gamma(\\alpha + n)} \\prod_{k=1}^K \\Gamma\\left( | C_k| \\right) \\tag{4}\n",
    "$$"
   ]
  },
  {
   "cell_type": "markdown",
   "metadata": {},
   "source": [
    "## 4. Variational Approximation of Posterior\n",
    "\n",
    "予測分布は以下のようになる.\n",
    "\n",
    "$$\n",
    "p\\left( \\theta'  \\mid x_{1:n}\\right) = \\mathbb E_{D \\mid x_{1:n}} \\left\\lbrack p\\left( \\theta' \\mid D \\right) \\right\\rbrack \\tag {5}\n",
    "$$\n",
    "\n",
    "### 4.1. Posterior Analysis\n",
    "\n",
    "$ D $ の事後分布.\n",
    "\n",
    "$$\n",
    "\\begin{eqnarray}\n",
    "D \\mid \\theta_{1:n} &\\sim& \\operatorname {DP} \\left( \\tilde {\\alpha} \\tilde {\\mu}\\right) \\\\\n",
    "\\tilde{\\alpha} &=& \\alpha + n \\\\\n",
    "\\tilde{\\mu} &=& \\frac {\\alpha} {\\alpha+n} \\mu + \\sum_{k=1}^K \\frac {\\left| C_k \\right|} {\\alpha + n} \\delta_{\\phi_k} \\tag{6}\n",
    "\\end{eqnarray}\n",
    "$$"
   ]
  },
  {
   "cell_type": "markdown",
   "metadata": {},
   "source": [
    "$ p\\left( D \\mid z_{1:n}, x_{1:n} \\right) $ からのサンプリングは以下のサンプリングと同じ.\n",
    "\n",
    "$$\n",
    "\\begin{eqnarray}\n",
    "\\beta_0 D' + \\sum_{k=1}^K \\beta_k \\delta_{\\phi_k} , &&\\\\\n",
    "&& with  \\; D' \\sim \\operatorname {DP} \\left( \\alpha \\mu  \\right), \\;\n",
    "\\left( \\beta_0, \\beta_1, ..., \\beta_k \\right) \\sim \\operatorname{Dir} \\left( \\alpha, m_1, ..., m_K \\right), \\;\n",
    "\\phi_k \\sim \\mu \\mid _{C_k} \\tag{7}\n",
    "\\end{eqnarray}\n",
    "$$\n",
    "\n",
    "ここで, $m_k = |C_k|$, $\\mu \\mid _{C_k}$ は 事後分布 $ \\mu \\mid _{C_k}\\left( \\operatorname d \\theta \\right) \\propto \\mu\\left( \\operatorname d \\theta  \\right) \\prod_{i\\in C_k} F \\left( x_i \\mid \\theta \\right)$\n",
    "\n",
    "つまり$1:n$ までのデータが収まった中華料理店にもう１件データが追加された, という状態. $ \\beta_k $ で既存のテーブルkに座り, $\\beta_0$で新規テーブルが作られそこに座る. $\\beta$の総和は1."
   ]
  },
  {
   "cell_type": "markdown",
   "metadata": {},
   "source": [
    "データ $ x_{1:n} $ が得られたときの混合分布 $ D $ の事後確率.\n",
    "\n",
    "$$\n",
    "p\\left( D \\mid x_{1:n} \\right) = \\sum_{z_{1:n}} p\\left(z_{1:n} \\mid x_{1:n} \\right)p\\left( D \\mid x_{1:n}, z_{1:n}\\right) \\tag{8}\n",
    "$$\n",
    "\n"
   ]
  },
  {
   "cell_type": "markdown",
   "metadata": {},
   "source": [
    "$$\n",
    "p \\left( z_{1:n} \\mid x_{1:n} \\right)\n",
    "\\propto\n",
    "    p_{\\operatorname {CRP}} \\left( z_{1:n} \\mid \\alpha \\right)\n",
    "    \\prod_{k=1}^{K^{(z)}} \\int \\mu \\left( \\operatorname {d} \\phi_{k} \\right)\n",
    "    \\prod_{i \\in C_k^{(z)}} F\\left( x_i \\mid \\phi_k \\right) \\tag{9}\n",
    "$$"
   ]
  },
  {
   "cell_type": "markdown",
   "metadata": {},
   "source": [
    "## 4.2 Variational Approximation\n",
    "\n",
    "(8)について, $p\\left(z_{1:n} \\mid x_{1:n} \\right)$を因子分解可能とし, $ p\\left( D \\mid z_{1:n}, x_{1:n} \\right) $ を(11)の確率過程で近似する.\n",
    "\n",
    "$$\n",
    "q\\left(D \\mid \\rho, \\nu \\right) = \\sum_{z_{1:n}} \\prod_{i=1}^n \\rho_i\\left(z_i \\right)q_{\\nu}^{(z)}\\left( D \\mid z_{1:n}\\right) \\tag{10}\n",
    "$$"
   ]
  },
  {
   "cell_type": "markdown",
   "metadata": {},
   "source": [
    "$$\n",
    "\\begin{eqnarray}\n",
    "q_{\\nu}^{(z)} \\left( D \\mid z_{1:n}\\right) \\overset{d} {\\sim} && \\beta_0 D' + \\sum_{k=1}^K\\beta_k\\delta{\\phi_k} \\\\\n",
    "&&with \\; D' \\sim \\operatorname {DP} \\left( \\alpha \\mu \\right), \\;\n",
    "\\left( \\beta_0, \\beta_1, ..., \\beta_k \\right) \\sim \\operatorname{Dir} \\left( \\alpha, m_1^{(z)}, ..., m_K^{(z)} \\right), \\;\n",
    "\\phi_k \\sim \\nu_k\\tag{11}\n",
    "\\end{eqnarray}\n",
    "$$"
   ]
  },
  {
   "cell_type": "markdown",
   "metadata": {},
   "source": [
    "(10), (11)と(8), (9)はよく似ている. 違いは, \n",
    "\n",
    "1.  $p\\left(z_{1:n} \\mid x_{1:n} \\right)$を因子分解可能とし, $ \\prod_{i=1}^n \\rho_i\\left(z_i \\right)$ で近似したこと\n",
    "2.  $\\mu |_{C_k}$ を $\\nu_k$ で近似したこと "
   ]
  },
  {
   "cell_type": "markdown",
   "metadata": {},
   "source": [
    "$$\n",
    "\\mathbb E_{q\\left( D \\mid \\rho, \\nu  \\right)}\\left\\lbrack p\\left(\\theta'  \\mid D \\right) \\right\\rbrack\n",
    "=\n",
    "    \\frac {\\alpha} {\\alpha + n} \\mu\\left( \\theta ' \\right)\n",
    "    + \\sum_{k=1}^K \\frac {\\sum_{i=1}^n \\rho_i\\left( k \\right)} {\\alpha + n} \\nu_k\\left( \\theta'\\right) \\tag{12}\n",
    "$$"
   ]
  },
  {
   "cell_type": "markdown",
   "metadata": {},
   "source": [
    "### 4.3 Sequential Approximation"
   ]
  },
  {
   "cell_type": "markdown",
   "metadata": {},
   "source": [
    "$$\n",
    "\\tag{15}\n",
    "\\rho_{i+1} \\propto \\left\\{ \\begin{array}{ll}\n",
    "    w_k^{(i)} \\int_\\theta F\\left( x_{i+1} \\mid \\theta \\right) \\nu_k^{(i)} \\left( d \\theta \\right) & (k \\le K), \\\\\n",
    "    \\alpha \\int_\\theta F\\left( x_{i+1} \\mid \\theta \\right) \\mu \\left( d \\theta \\right) & (k = K+1), \\\\\n",
    "  \\end{array} \\right.\n",
    "$$"
   ]
  },
  {
   "cell_type": "markdown",
   "metadata": {},
   "source": [
    "with $ w_i^{(i)} = \\sum_{j=1}^i \\rho_j\\left(k \\right)$, and \n",
    "\n",
    "$$\n",
    "\\tag{16}\n",
    "\\nu_{k}^{(i+1)}\\left( d\\theta \\right) \\propto \\left\\{ \\begin{array}{ll}\n",
    "    \\mu\\left( d\\theta \\right) \\prod_{j=1}^{i+1} F\\left( x_j \\mid \\theta \\right)^{\\rho_j(k)}\n",
    "    & (k \\le K), \\\\\n",
    "    \\mu\\left( d\\theta \\right) F\\left( x_{i+1} \\mid \\theta \\right)^{\\;\\rho_{i+1}(k)}\n",
    "    & (k = K+1), \\\\\n",
    "  \\end{array} \\right.\n",
    "$$"
   ]
  },
  {
   "cell_type": "markdown",
   "metadata": {},
   "source": [
    "$\\rho_1 = 1, K = 1$ から開始する, $i$を増やすたびに, $\\rho_{i+1}$の計算, $w_k$ の更新, Kの更新, $\\nu$の更新(, と$\\rho$の更新も?)を繰り返す. Kをインクリメントするかどうかは, $\\rho_{i+1}\\left( K+1 \\right) $ がしきい値以上であるか否かで判定する. Kをインクリメントしない場合は, $\\rho_{i+1}\\left( K+1 \\right) $は不要なので削除, $\\rho_{i+1}\\left( 1,..., K \\right) $の総和が1になるように標準化する."
   ]
  },
  {
   "cell_type": "markdown",
   "metadata": {},
   "source": [
    "## Normal-Wishart分布を基底分布にしてinfinite mixture multivariate normal modelを実装してみる."
   ]
  },
  {
   "cell_type": "markdown",
   "metadata": {},
   "source": [
    "多変量正規分布のInfinite mixture モデルを考える. 分布のパラメータとして, 平均と精度行列を推定する. Dirichlet Processの基底分布はNormal-Wishart分布.\n",
    "\n",
    "$$\n",
    "\\begin{eqnarray}\n",
    "\\nu_k &=& \\left(\\boldsymbol \\mu_k, \\boldsymbol \\Lambda_k \\right) \\sim\n",
    "    \\mathcal N \\left(\\boldsymbol \\mu_{k} \\mid \\mathbf m_{0}, \\left(\\beta_{0} \\boldsymbol \\Lambda_{k} \\right)^{-1}\\right)\n",
    "    \\mathcal W\\left(\\boldsymbol \\Lambda_{k} \\mid \\mathbf W_{0}, \\nu_{0}\\right)\n",
    "\\end{eqnarray}\n",
    "$$"
   ]
  },
  {
   "cell_type": "markdown",
   "metadata": {},
   "source": [
    "(16)の上の式を考える.\n",
    "\n",
    "$$\n",
    "\\begin{eqnarray}\n",
    "\\mu\\left( d\\theta \\right) \\prod_{j=1}^{i+1} F\\left( x_j \\mid \\theta \\right)^{\\rho_j(k)}\n",
    "&=&\n",
    "    \\prod_{j=1}^{i+1}\\mathcal N \\left( x_{j} \\mid \\boldsymbol \\mu_k, \\boldsymbol \\Lambda_k^{-1} \\right)^{\\;\\rho_j(k)}\n",
    "    \\mathcal N \\left(\\boldsymbol \\mu_{k} \\mid \\mathbf m_{0}, \\left(\\beta_{0} \\boldsymbol \\Lambda_{k} \\right)^{-1}\\right)\n",
    "    \\mathcal W\\left(\\boldsymbol \\Lambda_{k} \\mid \\mathbf W_{0}, \\nu_{0}\\right)\n",
    "\\end{eqnarray}\n",
    "$$"
   ]
  },
  {
   "cell_type": "markdown",
   "metadata": {},
   "source": [
    "多変量正規分布+事前分布(Normal-Wishart分布)の形だが, データの尤度の肩に$\\rho$が乗っている点が[以前解いたもの](http://kazufusa1484.hatenablog.com/entry/2018/07/27/121549)と異なっているが, \n",
    "$ \\sum_{j=1}^{i+1}\\rho_j\\left(k\\right) = r(k)と重み付け平均\\overline {\\mathbf x_k} = \\sum_{j=1}^{i+1} \\rho_j(k) \\textbf x_j  / r(k) $ を導入して, 以前の導出の$N$を$r(k)$に置き換えるとよい.\n",
    "\n",
    "$$\n",
    "\\begin{eqnarray}\n",
    "q^{\\ast}\\left(\\boldsymbol \\mu_{k}, \\boldsymbol \\Lambda_{k} \\right)\n",
    "&=&\n",
    "    \\mathcal N\\left(\n",
    "        \\boldsymbol \\mu_{k} \\mid \\mathbf m_k, \\left(\\beta_{k} \\boldsymbol \\Lambda_{k} \\right)^{-1}\\right)\n",
    "    \\mathcal W\\left(\\boldsymbol \\Lambda_{k} \\mid \\textbf W_{k}^{-1}, \\nu_{k} \\right) \\\\\n",
    "\\mathbf m_k &=& \\frac {r(k)\\overline {\\textbf x_{k}} + \\beta_0 \\mathbf m_0} {r(k) + \\beta_0} \\\\\n",
    "\\beta_k &=& r(k)+\\beta_0 \\\\\n",
    "\\textbf W_k^{-1} &=&\n",
    "    \\textbf W_0^{-1}\n",
    "    + \\frac {r(k) \\beta_0}{r(k)+\\beta_0}\n",
    "        \\left(\\overline {\\textbf x_{k}} - \\mathbf m_0\\right)\n",
    "        \\left(\\overline {\\textbf x_{k}} - \\mathbf m_0\\right)^{\\rm T}\n",
    "    + \\sum_{j=1}^{i+1} \\rho_j(k)\n",
    "        \\left(\\mathbf x_{j} - \\overline{ \\mathbf x_k}\\right)\n",
    "        \\left(\\mathbf x_{j} - \\overline{ \\mathbf x_k}\\right)^{\\rm T} \\\\\n",
    "\\nu_k &=& r(k) + \\nu_0\n",
    "\\end{eqnarray}\n",
    "$$\n",
    "\n",
    "クラスタのパラメータの事後分布が得られた."
   ]
  },
  {
   "cell_type": "markdown",
   "metadata": {},
   "source": [
    "また, (16)の下の式は以下となる.\n",
    "\n",
    "$$\n",
    "\\begin{eqnarray}\n",
    "q^{\\ast}\\left(\\boldsymbol \\mu_{k}, \\boldsymbol \\Lambda_{k} \\right)\n",
    "&=&\n",
    "    \\mathcal N\\left(\n",
    "        \\boldsymbol \\mu_{k} \\mid \\mathbf m_k, \\left(\\beta_{k} \\boldsymbol \\Lambda_{k} \\right)^{-1}\\right)\n",
    "    \\mathcal W\\left(\\boldsymbol \\Lambda_{k} \\mid \\textbf W_{k}^{-1}, \\nu_{k} \\right) \\\\\n",
    "\\mathbf m_k &=& \\frac {\\rho_{i+1}(k) \\textbf x_{i+1} + \\beta_0 \\mathbf m_0} {\\rho_{i+1}(k) + \\beta_0} \\\\\n",
    "\\beta_k &=& \\rho_{i+1}(k)+\\beta_0 \\\\\n",
    "\\textbf W_k^{-1} &=&\n",
    "    \\textbf W_0^{-1}\n",
    "    + \\frac {\\rho_{i+1}(k) \\beta_0}{\\rho_{i+1}(k)+\\beta_0}\n",
    "        \\left({\\textbf x_{i+1}} - \\mathbf m_0\\right)\n",
    "        \\left({\\textbf x_{i+1}} - \\mathbf m_0\\right)^{\\rm T}\\\\\n",
    "\\nu_k &=& \\rho_{i+1}(k) + \\nu_0\n",
    "\\end{eqnarray}\n",
    "$$"
   ]
  },
  {
   "cell_type": "markdown",
   "metadata": {},
   "source": [
    "(15)の$k \\le K$ の場合.\n",
    "\n",
    "\n",
    "$$\n",
    "\\begin{eqnarray}\n",
    "w_k^{(i)} \\int_\\theta F\\left( x_{i+1} \\mid \\theta \\right) \\nu_k^{(i)} \\left( d \\theta \\right)\n",
    "&=&\n",
    "    w_k^{(i)} \\int\n",
    "        p\\left( \\mathbf x_{i+1} \\mid \\boldsymbol \\mu_k, \\boldsymbol \\Lambda_k \\right)\n",
    "        p\\left( \\boldsymbol \\mu_k, \\boldsymbol \\Lambda_k \\right)\n",
    "    \\operatorname d \\boldsymbol \\mu_k \\operatorname d \\boldsymbol \\Lambda_k \\\\\n",
    "&=&\n",
    "    w_k^{(i)}\n",
    "    \\operatorname {St} \\left(\n",
    "        \\mathbf x_{i+1}\n",
    "        \\; \\middle| \\;\n",
    "        \\boldsymbol \\mu_k, \n",
    "        \\frac {\\beta_k\\left(\\nu_k + 1 - D\\right)}{1+\\beta_k}\\textbf W_k,\n",
    "        \\nu_k + 1 - D\n",
    "    \\right)\n",
    "\\end{eqnarray}\n",
    "$$"
   ]
  },
  {
   "cell_type": "markdown",
   "metadata": {},
   "source": [
    "(15)の$k = K+1$の場合.\n",
    "\n",
    "まず$\\mathbf x_{i+1}$ が得られたときのパラメータの事後分布を求める.\n",
    "\n",
    "$$\n",
    "\\begin{eqnarray}\n",
    "p\\left(\\boldsymbol \\mu, \\boldsymbol \\Lambda \\mid \\mathbf x_{i+1} \\right)\n",
    "&=&\n",
    "    \\mathcal N\\left(\n",
    "        \\boldsymbol \\mu \\mid \\mathbf m_1, \\left(\\beta_1 \\boldsymbol \\Lambda_1 \\right)^{-1}\\right)\n",
    "    \\mathcal W\\left(\\boldsymbol \\Lambda_{1} \\mid \\textbf W_{1}^{-1}, \\nu_1 \\right) \\\\\n",
    "\\mathbf m_1 &=& \\frac {\\textbf x_{i+1} + \\beta_0 \\mathbf m_0} {1 + \\beta_0} \\\\\n",
    "\\beta_1 &=& 1+\\beta_0 \\\\\n",
    "\\textbf W_1^{-1} &=&\n",
    "    \\textbf W_0^{-1}\n",
    "    + \\frac {\\beta_0}{1+\\beta_0}\n",
    "        \\left({\\textbf x_{i+1}} - \\mathbf m_0\\right)\n",
    "        \\left({\\textbf x_{i+1}} - \\mathbf m_0\\right)^{\\rm T}\\\\\n",
    "\\nu_1 &=& 1 + \\nu_0\n",
    "\\end{eqnarray}\n",
    "$$\n",
    "\n",
    "これをもとに(15)の下の式を変形する.\n",
    "\n",
    "$$\n",
    "\\begin{eqnarray}\n",
    "\\alpha \\int_\\theta F\\left( x_{i+1} \\mid \\theta \\right) \\mu \\left( d \\theta \\right)\n",
    "&=&\n",
    "    \\alpha \\int\n",
    "        p\\left( \\mathbf x_{i+1} \\mid \\boldsymbol \\mu, \\boldsymbol \\Lambda \\right)\n",
    "        p\\left( \\boldsymbol \\mu, \\boldsymbol \\Lambda \\right)\n",
    "    \\operatorname d \\boldsymbol \\mu \\operatorname d \\boldsymbol \\Lambda \\\\\n",
    "&=&\n",
    "    \\alpha \\int\n",
    "        p\\left( \\mathbf x_{i+1} \\right)\n",
    "    \\operatorname d \\boldsymbol \\mu \\operatorname d \\boldsymbol \\Lambda \\\\\n",
    "&=&\n",
    "    \\alpha \\times p\\left( \\mathbf x_{i+1} \\right) \\\\\n",
    "&=&\n",
    "    \\alpha \\frac {1} {\\pi^{\\frac {D} {2}}}\n",
    "    \\frac {\\Gamma _{D}\\left({\\frac {\\nu_1}{2}}\\right)} {\\Gamma _{D}\\left({\\frac {\\nu_0}{2}}\\right)}\n",
    "    \\frac {\\left|{\\mathbf {W}_1 }\\right|^{\\frac {\\nu_1} {2}}} {\\left|{\\mathbf {W}_0 }\\right|^{\\frac {\\nu_0} {2}}}\n",
    "    \\left(\\frac {\\beta_0} {\\beta_1}\\right)^{\\frac {D} {2}}\n",
    "\\end{eqnarray}\n",
    "$$\n",
    "\n",
    "ここで, \n",
    "\n",
    "$$\n",
    "{\\displaystyle \\Gamma _{D}\\left({\\frac {n}{2}}\\right)=\\pi ^{D(D-1)/4}\\prod _{j=1}^{D}\\Gamma \\left({\\frac {n-j+1}{2}}\\right).}\n",
    "$$\n",
    "\n",
    "なので,"
   ]
  },
  {
   "cell_type": "markdown",
   "metadata": {},
   "source": [
    "$$\n",
    "\\begin{eqnarray}\n",
    "\\frac\n",
    "    {\\Gamma_D\\left( \\frac {\\nu_1} {2} \\right)}\n",
    "    {\\Gamma_D\\left( \\frac {\\nu_0} {2} \\right)}\n",
    "&=&\n",
    "    \\frac\n",
    "    {\\prod^D_{j=1}\\Gamma \\left( \\frac {\\nu_1 - j + 1} {2}\\right)}\n",
    "    {\\prod^D_{j=1}\\Gamma \\left( \\frac {\\nu_0 - j + 1} {2}\\right)} \\\\\n",
    "&=&\n",
    "    \\frac\n",
    "    {\\prod^D_{j=1}\\Gamma \\left( \\frac {\\nu_0 - j + 2} {2}\\right)}\n",
    "    {\\prod^D_{j=1}\\Gamma \\left( \\frac {\\nu_0 - j + 1} {2}\\right)} \\\\\n",
    "&=&\n",
    "    \\frac\n",
    "    {\\Gamma \\left( \\frac {\\nu_0 +1} {2}\\right)}\n",
    "    {\\Gamma \\left( \\frac {\\nu_0 -D + 1} {2}\\right)} \\\\\n",
    "\\end{eqnarray}\n",
    "$$"
   ]
  },
  {
   "cell_type": "markdown",
   "metadata": {},
   "source": [
    "よって,\n",
    "\n",
    "$$\n",
    "\\begin{eqnarray}\n",
    "\\alpha \\int_\\theta F\\left( x_{i+1} \\mid \\theta \\right) \\mu \\left( d \\theta \\right)\n",
    "&=&\n",
    "    \\alpha \\frac {1} {\\pi^{\\frac {D} {2}}}\n",
    "    \\frac\n",
    "        {\\Gamma \\left( \\frac {\\nu_0 +1} {2}\\right)}\n",
    "        {\\Gamma \\left( \\frac {\\nu_0 -D + 1} {2}\\right)} \n",
    "    \\frac {\\left|{\\mathbf {W}_1 }\\right|^{\\frac {\\nu_1} {2}}} {\\left|{\\mathbf {W}_0 }\\right|^{\\frac {\\nu_0} {2}}}\n",
    "    \\left(\\frac {\\beta_0} {\\beta_1}\\right)^{\\frac {D} {2}}\n",
    "\\end{eqnarray}\n",
    "$$"
   ]
  },
  {
   "cell_type": "markdown",
   "metadata": {},
   "source": [
    "以上、全部導出できた."
   ]
  },
  {
   "cell_type": "code",
   "execution_count": 1,
   "metadata": {},
   "outputs": [
    {
     "name": "stderr",
     "output_type": "stream",
     "text": [
      "/Users/kazufusa/.anyenv/envs/pyenv/versions/3.6.4/lib/python3.6/importlib/_bootstrap.py:219: RuntimeWarning: numpy.dtype size changed, may indicate binary incompatibility. Expected 96, got 88\n",
      "  return f(*args, **kwds)\n",
      "/Users/kazufusa/.anyenv/envs/pyenv/versions/3.6.4/lib/python3.6/importlib/_bootstrap.py:219: RuntimeWarning: numpy.dtype size changed, may indicate binary incompatibility. Expected 96, got 88\n",
      "  return f(*args, **kwds)\n"
     ]
    }
   ],
   "source": [
    "import numpy as np\n",
    "import scipy as sp\n",
    "from scipy import stats\n",
    "from scipy import special\n",
    "\n",
    "import pandas as pd\n",
    "pd.set_option('display.width', 200)\n",
    "import matplotlib.pyplot as plt\n",
    "import matplotlib\n",
    "plt.style.use('ggplot')\n",
    "colors = plt.rcParams['axes.prop_cycle'].by_key()['color']\n",
    "\n",
    "import os\n",
    "import subprocess\n",
    "import warnings\n",
    "warnings.filterwarnings('ignore')"
   ]
  },
  {
   "cell_type": "code",
   "execution_count": 19,
   "metadata": {},
   "outputs": [
    {
     "data": {
      "image/png": "[encoded data removed]",
      "text/plain": [
       "<Figure size 432x288 with 1 Axes>"
      ]
     },
     "metadata": {},
     "output_type": "display_data"
    }
   ],
   "source": [
    "np.random.seed(0)\n",
    "mean0 = np.array([0, 0])\n",
    "cov0 = np.array([[1,0],[0,1]])\n",
    "mean1 = np.array([10, 10])\n",
    "cov1 = np.array([[1,0],[0,1]])\n",
    "N = 100\n",
    "a = 0.5\n",
    "X = pd.DataFrame(\n",
    "    np.r_[\n",
    "        sp.random.multivariate_normal(mean0, cov0, int(N*(1-a))),\n",
    "        sp.random.multivariate_normal(mean1, cov1, int(N*a))\n",
    "    ],\n",
    "    columns=['x', 'y']\n",
    ")\n",
    "X.plot(kind='scatter', x='x', y='y').set_aspect('equal')\n",
    "plt.savefig('1.png', bbox_inches='tight', pad_inches=0)"
   ]
  },
  {
   "cell_type": "code",
   "execution_count": 4,
   "metadata": {},
   "outputs": [],
   "source": [
    "np.random.seed(0)\n",
    "x = X.sample(frac=1).values.T\n",
    "D = 2\n",
    "\n",
    "# Dirichlet process base distribution\n",
    "beta_0 = 1\n",
    "m_0 = np.zeros((D, 1))\n",
    "# m_0 = x[:, 0].reshape(D, 1)\n",
    "W_0 = np.diag([1, 1])\n",
    "nu_0 = 1.1\n",
    "\n",
    "# Dirichlet process scaling parameter\n",
    "alpha = 1"
   ]
  },
  {
   "cell_type": "code",
   "execution_count": 5,
   "metadata": {},
   "outputs": [],
   "source": [
    "def init():\n",
    "    global mu_k, W_k, nu_k, beta_k, rho, K\n",
    "    maxK = 100\n",
    "    mu_k = np.zeros((maxK, D, 1))\n",
    "    W_k = np.zeros((maxK, D, D))\n",
    "    nu_k = np.zeros(maxK)\n",
    "    beta_k = np.zeros(maxK)\n",
    "    rho = np.zeros((N, maxK))\n",
    "\n",
    "    K = 1\n",
    "    rho[0, 0] = 1\n",
    "\n",
    "init()"
   ]
  },
  {
   "cell_type": "code",
   "execution_count": 6,
   "metadata": {},
   "outputs": [],
   "source": [
    "# PDF of student's t distribution\n",
    "def t_pdf(x, m, Lambda, df):\n",
    "    D = len(m)\n",
    "    if len(x) != D:\n",
    "        m = m.reshape(D, 1)\n",
    "        x = x.T\n",
    "\n",
    "    return np.diag(\n",
    "        sp.special.gamma(D/2. + df/2.) /\n",
    "        sp.special.gamma(df/2.) *\n",
    "        np.power(np.linalg.det(Lambda), 1/2.) / \n",
    "        np.power(np.pi * df, D/2.) *\n",
    "        np.power(1 + (x-m).T@Lambda@(x-m)/df, -(D+df)/2.)\n",
    "    )"
   ]
  },
  {
   "cell_type": "code",
   "execution_count": 7,
   "metadata": {},
   "outputs": [],
   "source": [
    "# eq15( k le K)\n",
    "def eq15_1(w, D, x, mu_k, beta_k, nu_k, W_k):\n",
    "    return w * t_pdf(\n",
    "        x,\n",
    "        mu_k,\n",
    "        beta_k * (nu_k + 1 - D) * W_k / (1 + beta_k),\n",
    "        (nu_k + 1 - D)\n",
    "    )\n",
    "\n",
    "# eq15(k = K + 1)\n",
    "def eq15_2(alpha, D, x, m_0, beta_0, nu_0, W_0):\n",
    "    m_1 = (x + beta_0 * m_0) / (1 + beta_0)\n",
    "    beta_1 = 1 + beta_0\n",
    "    W_1_inv = np.linalg.inv(W_0) + beta_0 / (1 + beta_0) * (x - m_0)@(x-m_0).T\n",
    "    W_1 = np.linalg.inv(W_1_inv)\n",
    "    nu_1 = 1 + nu_0\n",
    "    \n",
    "    return alpha / np.power(np.pi, D/2.) \\\n",
    "        * sp.special.gamma((nu_0+1.)/2.) \\\n",
    "        / sp.special.gamma((nu_0+1.-D)/2.) \\\n",
    "        * np.power(np.linalg.det(W_1), nu_1/2.) \\\n",
    "        / np.power(np.linalg.det(W_0), nu_0/2.) \\\n",
    "        * np.power(beta_0/beta_1, D/2.)"
   ]
  },
  {
   "cell_type": "code",
   "execution_count": 20,
   "metadata": {},
   "outputs": [],
   "source": [
    "# eq.16(k .le. K)\n",
    "def eq16_1(x, rho, i, k, m_0, beta_0, nu_0, W_0):\n",
    "    r_k = rho[0:i+1, k].sum()\n",
    "\n",
    "    x_bar = x@rho[0:i+1, k:k+1] / r_k\n",
    "    S_k = np.sum([rho[j, k] * (x[:,j:j+1] - x_bar)@(x[:,j:j+1] - x_bar).T for j in range(i+1)], axis=0)\n",
    "    \n",
    "    m_k = (r_k * x_bar + beta_0 * m_0) / (r_k + beta_0)\n",
    "    beta_k = r_k + beta_0\n",
    "    W_k_inv = np.linalg.inv(W_0) \\\n",
    "        + r_k * beta_0 / (r_k + beta_0) * (x_bar - m_0)@(x_bar - m_0).T \\\n",
    "        + S_k\n",
    "    W_k = np.linalg.inv(W_k_inv)\n",
    "    nu_k = r_k + nu_0\n",
    "    \n",
    "    return m_k, beta_k, W_k, nu_k\n",
    "\n",
    "# eq.16(k = K + 1)\n",
    "def eq16_2(x, rho, i, k, m_0, beta_0, nu_0, W_0):\n",
    "    m_k = (rho[i, k] * x + beta_0 * m_0) / (rho[i, k] + beta_0)\n",
    "    beta_k = rho[i, k] + beta_0\n",
    "    W_k_inv = np.linalg.inv(W_0) \\\n",
    "        + rho[i, k] * beta_0 / (rho[i, k] + beta_0) * (x - m_0)@(x - m_0).T\n",
    "    W_k = np.linalg.inv(W_k_inv)\n",
    "    nu_k = rho[i, k] + nu_0\n",
    "    \n",
    "    return m_k, beta_k, W_k, nu_k"
   ]
  },
  {
   "cell_type": "code",
   "execution_count": 26,
   "metadata": {},
   "outputs": [
    {
     "data": {
      "image/png": "[encoded data removed]",
      "text/plain": [
       "<Figure size 648x504 with 2 Axes>"
      ]
     },
     "metadata": {},
     "output_type": "display_data"
    }
   ],
   "source": [
    "init()\n",
    "i=0\n",
    "k=0\n",
    "_mu_k, _beta_k, _W_k, _nu_k = eq16_2(x[:,i:i+1], rho, i, k, m_0, beta_0, nu_0, W_0)\n",
    "\n",
    "fig, ax = plt.subplots(ncols=1, figsize=(9, 7))\n",
    "\n",
    "ax.set_aspect('equal')\n",
    "ax.set_title('posterior predictive distribution')\n",
    "ax.set_xlabel('x')\n",
    "ax.set_ylabel('y')\n",
    "ax.set_aspect('equal')\n",
    "\n",
    "delta = 1\n",
    "xrange = np.array([-10, 15])\n",
    "yrange = np.array([-10, 15])\n",
    "gx = np.arange(*(xrange + delta/2), delta)\n",
    "gy = np.arange(*(yrange + delta/2), delta)\n",
    "gxx, gyy = np.meshgrid(gx, gy)\n",
    "gxgy = np.c_[gxx.ravel(), gyy.ravel()]\n",
    "\n",
    "# parameters of posterior predictive distribution\n",
    "zz = t_pdf(\n",
    "    gxgy,\n",
    "    m_0,\n",
    "    beta_0 * (nu_0 + 1 - D) * W_0 / (1 + beta_0),\n",
    "    (nu_0 + 1 - D)\n",
    ")\n",
    "zz = t_pdf(\n",
    "    gxgy,\n",
    "    _mu_k,\n",
    "    _beta_k * (_nu_k + 1 - D) * _W_k / (1 + _beta_k),\n",
    "    (_nu_k + 1 - D)\n",
    ")\n",
    "\n",
    "im = ax.imshow(\n",
    "    zz.reshape(len(gx), len(gy)), \n",
    "    interpolation='none', \n",
    "    origin='lower',\n",
    "    extent=list(xrange) + list(yrange),\n",
    "    cmap=matplotlib.cm.rainbow\n",
    ")\n",
    "fig.colorbar(im, ax=ax).set_label('probability')\n",
    "pd.DataFrame(x[:, 0].reshape(1, D), columns=['x', 'y']) \\\n",
    "    .plot(kind='scatter', x='x', y='y', c='black', ax=ax, label='data', alpha=0.5);"
   ]
  },
  {
   "cell_type": "code",
   "execution_count": 27,
   "metadata": {},
   "outputs": [],
   "source": [
    "## fig, ax = plt.subplots(ncols=1, figsize=(9, 7))\n",
    "\n",
    "def plot(x=pd.DataFrame()):\n",
    "    delta = 0.5\n",
    "    xrange = np.array([-10, 15])\n",
    "    yrange = np.array([-10, 15])\n",
    "    gx = np.arange(*(xrange + delta/2), delta)\n",
    "    gy = np.arange(*(yrange + delta/2), delta)\n",
    "    gxx, gyy = np.meshgrid(gx, gy)\n",
    "    gxgy = np.c_[gxx.ravel(), gyy.ravel()]\n",
    "\n",
    "    fig, ax = plt.subplots(ncols=1, figsize=(5, 5))\n",
    "    for k in range(K):\n",
    "        zz = t_pdf(\n",
    "            gxgy,\n",
    "            mu_k[k],\n",
    "            beta_k[k] * (nu_k[k] + 1 - D) * W_k[k] / (1 + beta_k[k]),\n",
    "            (nu_k[k] + 1 - D)\n",
    "        )\n",
    "\n",
    "        cs = ax.contour(gxx, gyy, zz.reshape(len(gx), len(gy)))\n",
    "        plt.clabel(cs, inline=1, fontsize=10)\n",
    "    if not x.empty:\n",
    "        x.plot(kind='scatter', x='x', y='y', ax=ax, color='red', alpha=0.5).set_aspect('equal')"
   ]
  },
  {
   "cell_type": "code",
   "execution_count": 51,
   "metadata": {
    "scrolled": false
   },
   "outputs": [
    {
     "name": "stdout",
     "output_type": "stream",
     "text": [
      "39\n"
     ]
    },
    {
     "data": {
      "image/png": "[encoded data removed]",
      "text/plain": [
       "<Figure size 432x288 with 1 Axes>"
      ]
     },
     "metadata": {},
     "output_type": "display_data"
    }
   ],
   "source": [
    "init()\n",
    "i=0\n",
    "k=0\n",
    "alpha = 10\n",
    "_mu_k, _beta_k, _W_k, _nu_k = eq16_2(x[:,i:i+1], rho, i, k, m_0, beta_0, nu_0, W_0)\n",
    "\n",
    "mu_k[k] = _mu_k\n",
    "beta_k[k] = _beta_k\n",
    "W_k[k] = _W_k\n",
    "nu_k[k] = _nu_k\n",
    "\n",
    "for i in np.arange(1, N):\n",
    "    for k in np.arange(K):\n",
    "        w = rho[0:i, k].sum()\n",
    "        rho[i, k] = eq15_1(w, D, x[:,i:i+1], mu_k[k], beta_k[k], nu_k[k], W_k[k])\n",
    "    rho[i, K] = eq15_2(alpha, D, x[:,i:i+1], m_0, beta_0, nu_0, W_0)\n",
    "    rho[i, 0:K+1] = rho[i, 0:K+1] / rho[i, 0:K+1].sum()\n",
    "    \n",
    "    if rho[i, K] > 0.01:\n",
    "        for k in np.arange(K):\n",
    "            _mu_k, _beta_k, _W_k, _nu_k = eq16_1(x[:,0:i+1], rho, i, k, m_0, beta_0, nu_0, W_0)\n",
    "            mu_k[k] = _mu_k\n",
    "            beta_k[k] = _beta_k\n",
    "            W_k[k] = _W_k\n",
    "            nu_k[k] = _nu_k\n",
    "        \n",
    "        _mu_k, _beta_k, _W_k, _nu_k = eq16_2(x[:,i:i+1], rho, i, K, m_0, beta_0, nu_0, W_0)\n",
    "        mu_k[K] = _mu_k\n",
    "        beta_k[K] = _beta_k\n",
    "        W_k[K] = _W_k\n",
    "        nu_k[K] = _nu_k\n",
    "        \n",
    "        K = K + 1\n",
    "    else:\n",
    "        rho[i, K] = 0\n",
    "        rho[i, 0:K] = rho[i, 0:K] / rho[i, 0:K].sum()\n",
    "        for k in np.arange(K):\n",
    "            _mu_k, _beta_k, _W_k, _nu_k = eq16_1(x[:,0:i+1], rho, i, k, m_0, beta_0, nu_0, W_0)\n",
    "            mu_k[k] = _mu_k\n",
    "            beta_k[k] = _beta_k\n",
    "            W_k[k] = _W_k\n",
    "            nu_k[k] = _nu_k\n",
    "    # plot(pd.DataFrame(x[:,:i+1].T, columns=['x', 'y']))\n",
    "\n",
    "print(K)\n",
    "ax = pd.DataFrame(mu_k.reshape(100, 2)[0:K], columns=['x','y']).plot(kind='scatter', x='x', y='y')\n",
    "X.plot(kind='scatter', x='x', y='y', ax=ax, color='red', alpha=0.5).set_aspect('equal')"
   ]
  },
  {
   "cell_type": "code",
   "execution_count": 31,
   "metadata": {},
   "outputs": [
    {
     "data": {
      "image/png": "[encoded data removed]",
      "text/plain": [
       "<Figure size 360x360 with 1 Axes>"
      ]
     },
     "metadata": {},
     "output_type": "display_data"
    }
   ],
   "source": [
    "plot(pd.DataFrame(x[:, 0:i].T, columns=['x', 'y']))"
   ]
  },
  {
   "cell_type": "code",
   "execution_count": 61,
   "metadata": {},
   "outputs": [
    {
     "data": {
      "text/plain": [
       "array([[5.68710349],\n",
       "       [6.03833985]])"
      ]
     },
     "execution_count": 61,
     "metadata": {},
     "output_type": "execute_result"
    }
   ],
   "source": [
    "mu_k[0]"
   ]
  },
  {
   "cell_type": "code",
   "execution_count": 57,
   "metadata": {},
   "outputs": [
    {
     "name": "stdout",
     "output_type": "stream",
     "text": [
      "[1.85830060e-01 5.93704223e-01 3.22521181e-02 1.46815935e-03\n",
      " 2.20101435e-03 4.42842704e-04 1.51944844e-02 3.38781874e-04\n",
      " 1.43938846e-04 1.46902018e-04 2.42316101e-04 1.37462918e-04\n",
      " 9.38929287e-02 1.97274489e-02 1.14193946e-02 7.59675752e-03\n",
      " 4.35225570e-03 3.59718772e-03 2.83240423e-03 3.35112326e-03\n",
      " 1.21708324e-03 1.15227571e-03 2.11210226e-03 1.50335949e-03\n",
      " 1.41183034e-03 1.11268222e-03 8.79015507e-04 8.25987429e-04\n",
      " 1.16581840e-03 1.43025241e-03 1.92577932e-03 4.23127210e-04\n",
      " 7.03669239e-04 6.03896107e-04 6.43929649e-04 4.85664791e-04\n",
      " 1.76500762e-03 1.21462015e-03 5.52094101e-04]\n"
     ]
    }
   ],
   "source": [
    "print(rho.sum(axis=0)[0:K]/100)"
   ]
  },
  {
   "cell_type": "code",
   "execution_count": 56,
   "metadata": {},
   "outputs": [
    {
     "name": "stdout",
     "output_type": "stream",
     "text": [
      "{'edgeitems': 3, 'threshold': 1000, 'floatmode': 'maxprec', 'precision': 8, 'suppress': False, 'linewidth': 200, 'nanstr': 'nan', 'infstr': 'inf', 'sign': '-', 'formatter': None, 'legacy': False}\n"
     ]
    },
    {
     "data": {
      "text/plain": [
       "array([[1.00000000e+00, 0.00000000e+00, 0.00000000e+00],\n",
       "       [1.10489854e-01, 8.89510146e-01, 0.00000000e+00],\n",
       "       [1.79264995e-01, 4.29401836e-02, 7.77794821e-01],\n",
       "       [1.64599676e-01, 7.42206898e-01, 5.38430254e-03],\n",
       "       [3.47551631e-01, 4.96385143e-01, 1.65763250e-02],\n",
       "       [3.54949885e-01, 5.95395157e-01, 1.09405333e-02],\n",
       "       [3.31520960e-01, 1.44620507e-01, 1.41249698e-01],\n",
       "       [4.13216124e-01, 5.39433392e-01, 1.22741759e-02],\n",
       "       [2.00370091e-01, 7.78406285e-01, 6.24035048e-03],\n",
       "       [3.61302861e-01, 6.15096524e-01, 8.04475288e-03],\n",
       "       [2.23775083e-01, 7.67544701e-01, 5.79349643e-03],\n",
       "       [1.45398670e-01, 8.14978186e-01, 1.55632676e-02],\n",
       "       [1.16032395e-01, 8.60093682e-01, 1.00475699e-02],\n",
       "       [2.54094127e-01, 1.14481114e-01, 8.15679291e-02],\n",
       "       [2.58463194e-01, 1.31286772e-01, 8.05883054e-02],\n",
       "       [2.47301944e-01, 7.45040297e-01, 4.83329769e-03],\n",
       "       [2.43611327e-01, 1.00168985e-01, 7.40352173e-02],\n",
       "       [1.94301026e-01, 1.19980613e-01, 7.71803260e-02],\n",
       "       [3.42743287e-01, 6.38574695e-01, 1.01976643e-02],\n",
       "       [2.52525788e-01, 1.38003320e-01, 1.31387573e-01],\n",
       "       [1.28366225e-01, 8.62250440e-01, 5.48272045e-03],\n",
       "       [2.48746881e-01, 7.43827247e-01, 4.32900010e-03],\n",
       "       [2.53790408e-01, 1.06141545e-01, 1.03812259e-01],\n",
       "       [2.30612998e-01, 7.63407995e-01, 3.39258063e-03],\n",
       "       [2.92399415e-01, 6.98720548e-01, 4.88392374e-03],\n",
       "       [2.90148938e-01, 7.01807336e-01, 4.38519602e-03],\n",
       "       [2.63643929e-01, 8.91028442e-02, 8.62399629e-02],\n",
       "       [1.23445093e-01, 8.71007331e-01, 3.09931903e-03],\n",
       "       [2.86480045e-01, 7.02731755e-01, 5.99204831e-03],\n",
       "       [1.95360218e-01, 7.98863137e-01, 3.53566498e-03],\n",
       "       [1.08658451e-01, 8.82599849e-01, 5.34418950e-03],\n",
       "       [2.80400306e-01, 7.08859950e-01, 5.86485446e-03],\n",
       "       [1.29456397e-01, 8.63388673e-01, 4.49446426e-03],\n",
       "       [1.17076561e-01, 8.78152107e-01, 2.91767908e-03],\n",
       "       [2.50592129e-01, 7.40019338e-01, 5.35061044e-03],\n",
       "       [2.24870891e-01, 4.47933386e-02, 6.03581529e-02],\n",
       "       [3.81576641e-01, 1.07599362e-01, 8.87109375e-02],\n",
       "       [2.60013559e-01, 7.27685925e-01, 6.59913923e-03],\n",
       "       [2.43382845e-01, 7.49586489e-01, 3.88447970e-03],\n",
       "       [2.15957517e-01, 7.78941971e-01, 3.10689369e-03],\n",
       "       [3.97623528e-01, 1.44232569e-01, 8.52884209e-02],\n",
       "       [1.99831699e-01, 7.96530960e-01, 2.06448496e-03],\n",
       "       [1.60159089e-01, 8.36733057e-01, 1.73452847e-03],\n",
       "       [7.57896727e-02, 9.12076697e-01, 7.16151087e-03],\n",
       "       [2.20234953e-01, 2.57432700e-02, 5.53009185e-02],\n",
       "       [2.05647355e-01, 2.36350571e-02, 5.17847006e-02],\n",
       "       [1.70191490e-01, 1.66678027e-02, 4.41441625e-02],\n",
       "       [2.27874046e-01, 7.65742004e-01, 3.56835534e-03],\n",
       "       [1.77617396e-01, 8.18132394e-01, 2.58690251e-03],\n",
       "       [2.19303813e-01, 3.66046155e-02, 5.45758859e-02],\n",
       "       [9.60670926e-02, 8.93511307e-01, 6.42494498e-03],\n",
       "       [1.48946935e-01, 8.48104904e-01, 1.69582361e-03],\n",
       "       [2.93459714e-01, 5.21349637e-02, 1.11835391e-01],\n",
       "       [1.92444801e-01, 8.03695807e-01, 2.28047118e-03],\n",
       "       [1.46103299e-01, 1.06030898e-02, 3.80940337e-02],\n",
       "       [4.02722368e-02, 9.27898603e-01, 1.68486350e-02],\n",
       "       [2.00108911e-01, 1.48538285e-02, 9.25471072e-02],\n",
       "       [1.02040998e-01, 8.94240635e-01, 2.18516037e-03],\n",
       "       [1.15920507e-01, 9.53002508e-03, 4.88781362e-02],\n",
       "       [2.09494575e-01, 7.78365019e-01, 6.07355747e-03],\n",
       "       [6.98466976e-02, 5.61046134e-03, 6.68355011e-02],\n",
       "       [1.15533688e-01, 8.78174415e-01, 3.90077069e-03],\n",
       "       [1.67646407e-01, 8.28900169e-01, 2.02344764e-03],\n",
       "       [1.70332919e-01, 8.26581200e-01, 1.74607637e-03],\n",
       "       [1.71463795e-01, 8.24822063e-01, 2.22411994e-03],\n",
       "       [9.21097624e-02, 9.04845540e-01, 1.75758269e-03],\n",
       "       [9.71571172e-02, 8.99559767e-01, 1.96324306e-03],\n",
       "       [7.75807500e-02, 9.19335327e-01, 1.77468610e-03],\n",
       "       [3.95035837e-01, 3.29934727e-02, 8.79777353e-02],\n",
       "       [1.40112383e-01, 8.57127982e-01, 1.62870297e-03],\n",
       "       [1.54088554e-01, 2.38748743e-03, 4.42386859e-02],\n",
       "       [1.44156295e-01, 1.93706151e-03, 4.16318929e-02],\n",
       "       [1.23999668e-01, 8.73625460e-01, 1.36689468e-03],\n",
       "       [8.29157204e-02, 9.14229856e-01, 1.66586156e-03],\n",
       "       [1.06253331e-01, 8.91668355e-01, 1.17421248e-03],\n",
       "       [6.07302763e-02, 9.34653463e-01, 2.73176154e-03],\n",
       "       [3.03934251e-01, 1.18462601e-03, 9.26379757e-02],\n",
       "       [1.75664427e-01, 8.19533379e-01, 2.49408198e-03],\n",
       "       [5.24598196e-02, 9.43955323e-01, 1.91124894e-03],\n",
       "       [8.63874876e-02, 9.10801603e-01, 1.68590039e-03],\n",
       "       [8.85502343e-02, 8.28762380e-04, 2.86624193e-02],\n",
       "       [6.40952123e-02, 9.32782027e-01, 1.84320964e-03],\n",
       "       [6.43491033e-02, 9.33281054e-01, 1.36154255e-03],\n",
       "       [1.21705784e-01, 8.76350559e-01, 1.08971601e-03],\n",
       "       [1.10080908e-01, 8.87847195e-01, 1.21695187e-03],\n",
       "       [1.39987332e-01, 8.57420584e-01, 1.46795503e-03],\n",
       "       [5.47000302e-02, 9.42812932e-01, 1.43991774e-03],\n",
       "       [8.50412049e-02, 2.01270226e-03, 1.74968415e-01],\n",
       "       [1.05222779e-01, 8.92541088e-01, 1.34645520e-03],\n",
       "       [1.55273617e-01, 8.40856428e-01, 2.13785912e-03],\n",
       "       [1.41814897e-01, 8.55337681e-01, 1.57424790e-03],\n",
       "       [3.49717574e-02, 9.58191043e-01, 3.83536308e-03],\n",
       "       [3.87686541e-02, 4.26265644e-04, 5.49438218e-02],\n",
       "       [9.14347441e-02, 9.05618822e-01, 1.83383332e-03],\n",
       "       [1.53778636e-01, 3.57186958e-04, 6.15598951e-02],\n",
       "       [5.91620523e-02, 9.38164549e-01, 1.60866264e-03],\n",
       "       [1.23430098e-01, 8.74566316e-01, 1.11763324e-03],\n",
       "       [7.03570482e-02, 9.28252318e-01, 7.90061328e-04],\n",
       "       [8.76252421e-02, 9.11068663e-01, 7.35489681e-04],\n",
       "       [1.39622991e-01, 8.57108775e-01, 1.75116623e-03]])"
      ]
     },
     "execution_count": 56,
     "metadata": {},
     "output_type": "execute_result"
    }
   ],
   "source": [
    "# print(np.get_printoptions())\n",
    "# np.set_printoptions(precision=8, linewidth=70)\n",
    "rho[:,0:3]"
   ]
  }
 ],
 "metadata": {
  "kernelspec": {
   "display_name": "Python 3",
   "language": "python",
   "name": "python3"
  },
  "language_info": {
   "codemirror_mode": {
    "name": "ipython",
    "version": 3
   },
   "file_extension": ".py",
   "mimetype": "text/x-python",
   "name": "python",
   "nbconvert_exporter": "python",
   "pygments_lexer": "ipython3",
   "version": "3.6.4"
  }
 },
 "nbformat": 4,
 "nbformat_minor": 2
}
