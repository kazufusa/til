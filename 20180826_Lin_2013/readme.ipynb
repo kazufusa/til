{
 "cells": [
  {
   "cell_type": "markdown",
   "metadata": {},
   "source": [
    "# Dirichlet process infinite mixture model を Variational inference で推定する\n",
    "\n",
    "[Lin 2013](http://papers.nips.cc/paper/4968-online-learning-of-nonparametric-mixture-models-via-sequential-variational)という論文を見つけたので読んで実装する. この論文の提案手法は, Variational inference, コンポーネント数Kを動的に更新する, sequential dataに適用できる, online machine learningできる, MCMCを含めた他の手法と比較して高速かつ高性能, というところでしょうか. online machine learning と聞いて心躍ります.\n",
    "\n",
    "## Sequential Approximation\n",
    "\n",
    "以下のようなことをやっているようです. $ \\mu $ はDirichlet process の基底分布, $ C_k $ はk番目のコンポーネントのデータ数. 隠れ変数$ z_{ik} $ を $ \\rho_i(k) $ にした感じ.\n",
    "\n",
    "1. $p\\left(z_{1:n} \\mid x_{1:n} \\right)$を因子分解可能とし, $ \\prod_{i=1}^n \\rho_i\\left(z_i \\right)$ で近似\n",
    "2. コンポーネントkのパラメータの事後分布 $\\mu |_{C_k}$ を $\\nu_k$ で近似\n",
    "\n",
    "## 処理の流れ\n",
    "\n",
    "$ x_i, i=1,2,3,... $ に対して推定する.\n",
    "\n",
    "### 1. i == 1のとき\n",
    "\n",
    "コンポーネント数 $ K=1 $, $\\rho_1(1) = 1$ ( $x_1$ のコンポーネント1へのresponsibilityが1) とする. コンポーネント1のi=1の時点でのパラメータ$\\nu_{k=1}^{(i=1)}$ は以下とする. $F$はデータが従う分布.\n",
    "\n",
    "$$\n",
    "\\nu_1^{(1)} \\propto \\mu(d\\theta) F(x_1 \\mid \\theta)\n",
    "$$\n",
    "\n",
    "\n",
    "### 2. i > 1のとき\n",
    "\n",
    "キモは(15)式と(16)式. (15) は要するに　$x_{i+1} $の事後予測分布の各コンポーネントごとでの尤度比を $\\rho$にしている."
   ]
  },
  {
   "cell_type": "markdown",
   "metadata": {},
   "source": [
    "$$\n",
    "\\tag{15}\n",
    "\\rho_{i+1} \\propto \\left\\{ \\begin{array}{ll}\n",
    "    w_k^{(i)} \\int_\\theta F\\left( x_{i+1} \\mid \\theta \\right) \\nu_k^{(i)} \\left( d \\theta \\right) & (k \\le K), \\\\\n",
    "    \\alpha \\int_\\theta F\\left( x_{i+1} \\mid \\theta \\right) \\mu \\left( d \\theta \\right) & (k = K+1), \\\\\n",
    "  \\end{array} \\right.\n",
    "$$"
   ]
  },
  {
   "cell_type": "markdown",
   "metadata": {},
   "source": [
    "with $ w_i^{(i)} = \\sum_{j=1}^i \\rho_j\\left(k \\right)$, and \n",
    "\n",
    "$$\n",
    "\\tag{16}\n",
    "\\nu_{k}^{(i+1)}\\left( d\\theta \\right) \\propto \\left\\{ \\begin{array}{ll}\n",
    "    \\mu\\left( d\\theta \\right) \\prod_{j=1}^{i+1} F\\left( x_j \\mid \\theta \\right)^{\\rho_j(k)}\n",
    "    & (k \\le K), \\\\\n",
    "    \\mu\\left( d\\theta \\right) F\\left( x_{i+1} \\mid \\theta \\right)^{\\;\\rho_{i+1}(k)}\n",
    "    & (k = K+1), \\\\\n",
    "  \\end{array} \\right.\n",
    "$$"
   ]
  },
  {
   "cell_type": "markdown",
   "metadata": {},
   "source": [
    "手順としては, $i$を増やすたびに, $\\rho_{i+1}$の計算, $w_k$ の更新, Kの更新と$\\nu$の更新を繰り返す. Kをインクリメントするかどうかは, $\\rho_{i+1}\\left( K+1 \\right) $ がしきい値以上であるか否かで判定する. Kをインクリメントしない場合は, $\\rho_{i+1}\\left( K+1 \\right) $は不要なので削除, $\\rho_{i+1}\\left( 1,..., K \\right) $の総和が1になるように標準化する.\n",
    "\n",
    "他に, 各i のイテレーションでコンポーネントのprune and mergeをすると推定結果がよりよくなると書かれている. pruneは $w_k$の低いコンポーネントkを削除する. mergeはコンポーネントk1とコンポーネントk2について$ i^{-1} \\times \\sum_{j=1}^{i} \\mid \\rho_j(k1) - \\rho_j(k2) \\mid$ がしきい値より低い場合に, $ \\rho_j(k1) = \\rho_j(k1) + \\rho_j(k2) $, $\\rho_j(k2) = 0$ する. つまりコンポーネントk2へのresponsibility をコンポーネントk1　へのresponsibility に合算し, コンポーネントk2を削除する."
   ]
  },
  {
   "cell_type": "markdown",
   "metadata": {},
   "source": [
    "気になる点として, 一度割り当てたresponsibilityは基本的に更新されないので, 推定結果がデータの並び順に強く依存しそうな点がある. prune and mergeすれば大丈夫なのだろうか."
   ]
  },
  {
   "cell_type": "markdown",
   "metadata": {},
   "source": [
    "## Normal-Wishart分布を基底分布にしてMultivariate normal distribution のmixture modelを推定する"
   ]
  },
  {
   "cell_type": "markdown",
   "metadata": {},
   "source": [
    "多変量正規分布のInfinite mixture モデルを考える. 分布のパラメータとして, 平均と精度行列を推定する. Dirichlet Processの基底分布をNormal-Wishart分布とする.\n",
    "\n",
    "$$\n",
    "\\begin{eqnarray}\n",
    "\\nu_k &=& \\left(\\boldsymbol \\mu_k, \\boldsymbol \\Lambda_k \\right) \\sim\n",
    "    \\mathcal N \\left(\\boldsymbol \\mu_{k} \\mid \\mathbf m_{0}, \\left(\\beta_{0} \\boldsymbol \\Lambda_{k} \\right)^{-1}\\right)\n",
    "    \\mathcal W\\left(\\boldsymbol \\Lambda_{k} \\mid \\mathbf W_{0}, \\nu_{0}\\right)\n",
    "\\end{eqnarray}\n",
    "$$\n",
    "\n",
    "上の条件で式(15), (16)を解く. 論文ではExponential familyの表現で擬似コードを書いているが, 意味がわからないので諦める.\n",
    "\n",
    "[以前解いたもの](http://kazufusa1484.hatenablog.com/entry/2018/07/27/121549)を流用すれば導出自体は簡単."
   ]
  },
  {
   "cell_type": "markdown",
   "metadata": {},
   "source": [
    "(15)の$k \\le K$ の場合.\n",
    "\n",
    "\n",
    "$$\n",
    "\\begin{eqnarray}\n",
    "w_k^{(i)} \\int_\\theta F\\left( x_{i+1} \\mid \\theta \\right) \\nu_k^{(i)} \\left( d \\theta \\right)\n",
    "&=&\n",
    "    w_k^{(i)} \\int\n",
    "        p\\left( \\mathbf x_{i+1} \\mid \\boldsymbol \\mu_k, \\boldsymbol \\Lambda_k \\right)\n",
    "        p\\left( \\boldsymbol \\mu_k, \\boldsymbol \\Lambda_k \\right)\n",
    "    \\operatorname d \\boldsymbol \\mu_k \\operatorname d \\boldsymbol \\Lambda_k \\\\\n",
    "&=&\n",
    "    w_k^{(i)}\n",
    "    \\operatorname {St} \\left(\n",
    "        \\mathbf x_{i+1}\n",
    "        \\; \\middle| \\;\n",
    "        \\boldsymbol \\mu_k, \n",
    "        \\frac {\\beta_k\\left(\\nu_k + 1 - D\\right)}{1+\\beta_k}\\textbf W_k,\n",
    "        \\nu_k + 1 - D\n",
    "    \\right)\n",
    "\\end{eqnarray}\n",
    "$$"
   ]
  },
  {
   "cell_type": "markdown",
   "metadata": {},
   "source": [
    "(15)の$k = K+1$の場合.\n",
    "\n",
    "まず$\\mathbf x_{i+1}$ が得られたときのパラメータの事後分布を求める.\n",
    "\n",
    "$$\n",
    "\\begin{eqnarray}\n",
    "p\\left(\\boldsymbol \\mu, \\boldsymbol \\Lambda \\mid \\mathbf x_{i+1} \\right)\n",
    "&=&\n",
    "    \\mathcal N\\left(\n",
    "        \\boldsymbol \\mu \\mid \\mathbf m_1, \\left(\\beta_1 \\boldsymbol \\Lambda_1 \\right)^{-1}\\right)\n",
    "    \\mathcal W\\left(\\boldsymbol \\Lambda_{1} \\mid \\textbf W_{1}^{-1}, \\nu_1 \\right) \\\\\n",
    "\\mathbf m_1 &=& \\frac {\\textbf x_{i+1} + \\beta_0 \\mathbf m_0} {1 + \\beta_0} \\\\\n",
    "\\beta_1 &=& 1+\\beta_0 \\\\\n",
    "\\textbf W_1^{-1} &=&\n",
    "    \\textbf W_0^{-1}\n",
    "    + \\frac {\\beta_0}{1+\\beta_0}\n",
    "        \\left({\\textbf x_{i+1}} - \\mathbf m_0\\right)\n",
    "        \\left({\\textbf x_{i+1}} - \\mathbf m_0\\right)^{\\rm T}\\\\\n",
    "\\nu_1 &=& 1 + \\nu_0\n",
    "\\end{eqnarray}\n",
    "$$\n",
    "\n",
    "これをもとに(15)の下の式を変形する.\n",
    "\n",
    "$$\n",
    "\\begin{eqnarray}\n",
    "\\alpha \\int_\\theta F\\left( x_{i+1} \\mid \\theta \\right) \\mu \\left( d \\theta \\right)\n",
    "&=&\n",
    "    \\alpha \\int\n",
    "        p\\left( \\mathbf x_{i+1} \\mid \\boldsymbol \\mu, \\boldsymbol \\Lambda \\right)\n",
    "        p\\left( \\boldsymbol \\mu, \\boldsymbol \\Lambda \\right)\n",
    "    \\operatorname d \\boldsymbol \\mu \\operatorname d \\boldsymbol \\Lambda \\\\\n",
    "&=&\n",
    "    \\alpha \\int\n",
    "        p\\left( \\mathbf x_{i+1} \\right)\n",
    "    \\operatorname d \\boldsymbol \\mu \\operatorname d \\boldsymbol \\Lambda \\\\\n",
    "&=&\n",
    "    \\alpha \\times p\\left( \\mathbf x_{i+1} \\right) \\\\\n",
    "&=&\n",
    "    \\alpha \\frac {1} {\\pi^{\\frac {D} {2}}}\n",
    "    \\frac {\\Gamma _{D}\\left({\\frac {\\nu_1}{2}}\\right)} {\\Gamma _{D}\\left({\\frac {\\nu_0}{2}}\\right)}\n",
    "    \\frac {\\left|{\\mathbf {W}_1 }\\right|^{\\frac {\\nu_1} {2}}} {\\left|{\\mathbf {W}_0 }\\right|^{\\frac {\\nu_0} {2}}}\n",
    "    \\left(\\frac {\\beta_0} {\\beta_1}\\right)^{\\frac {D} {2}}\n",
    "\\end{eqnarray}\n",
    "$$\n",
    "\n",
    "ここで, \n",
    "\n",
    "$$\n",
    "{\\displaystyle \\Gamma _{D}\\left({\\frac {n}{2}}\\right)=\\pi ^{D(D-1)/4}\\prod _{j=1}^{D}\\Gamma \\left({\\frac {n-j+1}{2}}\\right).}\n",
    "$$\n",
    "\n",
    "なので,"
   ]
  },
  {
   "cell_type": "markdown",
   "metadata": {},
   "source": [
    "$$\n",
    "\\begin{eqnarray}\n",
    "\\frac\n",
    "    {\\Gamma_D\\left( \\frac {\\nu_1} {2} \\right)}\n",
    "    {\\Gamma_D\\left( \\frac {\\nu_0} {2} \\right)}\n",
    "&=&\n",
    "    \\frac\n",
    "    {\\prod^D_{j=1}\\Gamma \\left( \\frac {\\nu_1 - j + 1} {2}\\right)}\n",
    "    {\\prod^D_{j=1}\\Gamma \\left( \\frac {\\nu_0 - j + 1} {2}\\right)} \\\\\n",
    "&=&\n",
    "    \\frac\n",
    "    {\\prod^D_{j=1}\\Gamma \\left( \\frac {\\nu_0 - j + 2} {2}\\right)}\n",
    "    {\\prod^D_{j=1}\\Gamma \\left( \\frac {\\nu_0 - j + 1} {2}\\right)} \\\\\n",
    "&=&\n",
    "    \\frac\n",
    "    {\\Gamma \\left( \\frac {\\nu_0 +1} {2}\\right)}\n",
    "    {\\Gamma \\left( \\frac {\\nu_0 -D + 1} {2}\\right)} \\\\\n",
    "\\end{eqnarray}\n",
    "$$"
   ]
  },
  {
   "cell_type": "markdown",
   "metadata": {},
   "source": [
    "よって,\n",
    "\n",
    "$$\n",
    "\\begin{eqnarray}\n",
    "\\alpha \\int_\\theta F\\left( x_{i+1} \\mid \\theta \\right) \\mu \\left( d \\theta \\right)\n",
    "&=&\n",
    "    \\alpha \\frac {1} {\\pi^{\\frac {D} {2}}}\n",
    "    \\frac\n",
    "        {\\Gamma \\left( \\frac {\\nu_0 +1} {2}\\right)}\n",
    "        {\\Gamma \\left( \\frac {\\nu_0 -D + 1} {2}\\right)} \n",
    "    \\frac {\\left|{\\mathbf {W}_1 }\\right|^{\\frac {\\nu_1} {2}}} {\\left|{\\mathbf {W}_0 }\\right|^{\\frac {\\nu_0} {2}}}\n",
    "    \\left(\\frac {\\beta_0} {\\beta_1}\\right)^{\\frac {D} {2}}\n",
    "\\end{eqnarray}\n",
    "$$"
   ]
  },
  {
   "cell_type": "markdown",
   "metadata": {},
   "source": [
    "(16)の上の式を考える.\n",
    "\n",
    "$$\n",
    "\\begin{eqnarray}\n",
    "\\mu\\left( d\\theta \\right) \\prod_{j=1}^{i+1} F\\left( x_j \\mid \\theta \\right)^{\\rho_j(k)}\n",
    "&=&\n",
    "    \\prod_{j=1}^{i+1}\\mathcal N \\left( x_{j} \\mid \\boldsymbol \\mu_k, \\boldsymbol \\Lambda_k^{-1} \\right)^{\\;\\rho_j(k)}\n",
    "    \\mathcal N \\left(\\boldsymbol \\mu_{k} \\mid \\mathbf m_{0}, \\left(\\beta_{0} \\boldsymbol \\Lambda_{k} \\right)^{-1}\\right)\n",
    "    \\mathcal W\\left(\\boldsymbol \\Lambda_{k} \\mid \\mathbf W_{0}, \\nu_{0}\\right)\n",
    "\\end{eqnarray}\n",
    "$$"
   ]
  },
  {
   "cell_type": "markdown",
   "metadata": {},
   "source": [
    "多変量正規分布+事前分布(Normal-Wishart分布)の形だが, データの尤度の肩に$\\rho$が乗っている点が[以前解いたもの](http://kazufusa1484.hatenablog.com/entry/2018/07/27/121549)と異なっているが, \n",
    "$ \\sum_{j=1}^{i+1}\\rho_j\\left(k\\right) = r(k)と重み付け平均\\overline {\\mathbf x_k} = \\sum_{j=1}^{i+1} \\rho_j(k) \\textbf x_j  / r(k) $ を導入して, 以前の導出の$N$を$r(k)$に置き換えるとよい.\n",
    "\n",
    "$$\n",
    "\\begin{eqnarray}\n",
    "q^{\\ast}\\left(\\boldsymbol \\mu_{k}, \\boldsymbol \\Lambda_{k} \\right)\n",
    "&=&\n",
    "    \\mathcal N\\left(\n",
    "        \\boldsymbol \\mu_{k} \\mid \\mathbf m_k, \\left(\\beta_{k} \\boldsymbol \\Lambda_{k} \\right)^{-1}\\right)\n",
    "    \\mathcal W\\left(\\boldsymbol \\Lambda_{k} \\mid \\textbf W_{k}^{-1}, \\nu_{k} \\right) \\\\\n",
    "\\mathbf m_k &=& \\frac {r(k)\\overline {\\textbf x_{k}} + \\beta_0 \\mathbf m_0} {r(k) + \\beta_0} \\\\\n",
    "\\beta_k &=& r(k)+\\beta_0 \\\\\n",
    "\\textbf W_k^{-1} &=&\n",
    "    \\textbf W_0^{-1}\n",
    "    + \\frac {r(k) \\beta_0}{r(k)+\\beta_0}\n",
    "        \\left(\\overline {\\textbf x_{k}} - \\mathbf m_0\\right)\n",
    "        \\left(\\overline {\\textbf x_{k}} - \\mathbf m_0\\right)^{\\rm T}\n",
    "    + \\sum_{j=1}^{i+1} \\rho_j(k)\n",
    "        \\left(\\mathbf x_{j} - \\overline{ \\mathbf x_k}\\right)\n",
    "        \\left(\\mathbf x_{j} - \\overline{ \\mathbf x_k}\\right)^{\\rm T} \\\\\n",
    "\\nu_k &=& r(k) + \\nu_0\n",
    "\\end{eqnarray}\n",
    "$$"
   ]
  },
  {
   "cell_type": "markdown",
   "metadata": {},
   "source": [
    "また, (16)の下の式は以下となる.\n",
    "\n",
    "$$\n",
    "\\begin{eqnarray}\n",
    "q^{\\ast}\\left(\\boldsymbol \\mu_{k}, \\boldsymbol \\Lambda_{k} \\right)\n",
    "&=&\n",
    "    \\mathcal N\\left(\n",
    "        \\boldsymbol \\mu_{k} \\mid \\mathbf m_k, \\left(\\beta_{k} \\boldsymbol \\Lambda_{k} \\right)^{-1}\\right)\n",
    "    \\mathcal W\\left(\\boldsymbol \\Lambda_{k} \\mid \\textbf W_{k}^{-1}, \\nu_{k} \\right) \\\\\n",
    "\\mathbf m_k &=& \\frac {\\rho_{i+1}(k) \\textbf x_{i+1} + \\beta_0 \\mathbf m_0} {\\rho_{i+1}(k) + \\beta_0} \\\\\n",
    "\\beta_k &=& \\rho_{i+1}(k)+\\beta_0 \\\\\n",
    "\\textbf W_k^{-1} &=&\n",
    "    \\textbf W_0^{-1}\n",
    "    + \\frac {\\rho_{i+1}(k) \\beta_0}{\\rho_{i+1}(k)+\\beta_0}\n",
    "        \\left({\\textbf x_{i+1}} - \\mathbf m_0\\right)\n",
    "        \\left({\\textbf x_{i+1}} - \\mathbf m_0\\right)^{\\rm T}\\\\\n",
    "\\nu_k &=& \\rho_{i+1}(k) + \\nu_0\n",
    "\\end{eqnarray}\n",
    "$$"
   ]
  },
  {
   "cell_type": "markdown",
   "metadata": {},
   "source": [
    "以上、全部導出できた."
   ]
  },
  {
   "cell_type": "markdown",
   "metadata": {},
   "source": [
    "## 実装"
   ]
  },
  {
   "cell_type": "code",
   "execution_count": 1,
   "metadata": {},
   "outputs": [
    {
     "name": "stderr",
     "output_type": "stream",
     "text": [
      "/Users/kazufusa/.anyenv/envs/pyenv/versions/3.6.4/lib/python3.6/importlib/_bootstrap.py:219: RuntimeWarning: numpy.dtype size changed, may indicate binary incompatibility. Expected 96, got 88\n",
      "  return f(*args, **kwds)\n",
      "/Users/kazufusa/.anyenv/envs/pyenv/versions/3.6.4/lib/python3.6/importlib/_bootstrap.py:219: RuntimeWarning: numpy.dtype size changed, may indicate binary incompatibility. Expected 96, got 88\n",
      "  return f(*args, **kwds)\n"
     ]
    }
   ],
   "source": [
    "import numpy as np\n",
    "import scipy as sp\n",
    "from scipy import stats\n",
    "from scipy import special\n",
    "\n",
    "import pandas as pd\n",
    "pd.set_option('display.width', 200)\n",
    "import matplotlib.pyplot as plt\n",
    "import matplotlib\n",
    "plt.style.use('ggplot')\n",
    "colors = plt.rcParams['axes.prop_cycle'].by_key()['color']\n",
    "\n",
    "import os\n",
    "import subprocess\n",
    "import warnings\n",
    "warnings.filterwarnings('ignore')\n",
    "\n",
    "from IPython.html.widgets import FloatProgress\n",
    "from IPython.display import display"
   ]
  },
  {
   "cell_type": "code",
   "execution_count": 154,
   "metadata": {},
   "outputs": [
    {
     "data": {
      "image/png": "[encoded data removed]",
      "text/plain": [
       "<Figure size 432x288 with 1 Axes>"
      ]
     },
     "metadata": {},
     "output_type": "display_data"
    }
   ],
   "source": [
    "# データ\n",
    "np.random.seed(0)\n",
    "mean0 = np.array([0, 0])\n",
    "cov0 = np.array([[1,0],[0,1]])\n",
    "mean1 = np.array([10, 10])\n",
    "cov1 = np.array([[1,0],[0,1]])\n",
    "N = 1000\n",
    "a = 0.5\n",
    "X = pd.DataFrame(\n",
    "    np.r_[\n",
    "        sp.random.multivariate_normal(mean0, cov0, int(N*(1-a))),\n",
    "        sp.random.multivariate_normal(mean1, cov1, int(N*a))\n",
    "    ],\n",
    "    columns=['x', 'y']\n",
    ")\n",
    "ax = X.plot(kind='scatter', x='x', y='y')\n",
    "ax.set_aspect('equal')\n",
    "ax.set_title('data')\n",
    "plt.savefig('1.png', bbox_inches='tight', pad_inches=0)\n",
    "\n",
    "# シャッフルしてテストデータとする.\n",
    "np.random.seed(0)\n",
    "x = X.sample(frac=1).values.T\n",
    "D = 2\n",
    "\n",
    "# Dirichlet process base distribution\n",
    "beta_0 = 1\n",
    "m_0 = np.zeros((D, 1))\n",
    "# m_0 = x[:, 0].reshape(D, 1)\n",
    "W_0 = np.diag([1, 1])\n",
    "nu_0 = 1.1\n",
    "\n",
    "# Dirichlet process scaling parameter\n",
    "alpha = 1"
   ]
  },
  {
   "cell_type": "markdown",
   "metadata": {},
   "source": [
    "パラメータの初期化関数"
   ]
  },
  {
   "cell_type": "code",
   "execution_count": 149,
   "metadata": {},
   "outputs": [],
   "source": [
    "def init():\n",
    "    global mu_k, W_k, nu_k, beta_k, rho, K\n",
    "    maxK = 100\n",
    "    mu_k = np.zeros((maxK, D, 1))\n",
    "    W_k = np.zeros((maxK, D, D))\n",
    "    nu_k = np.zeros(maxK)\n",
    "    beta_k = np.zeros(maxK)\n",
    "    rho = np.zeros((N, maxK))\n",
    "\n",
    "    K = 1\n",
    "    rho[0, 0] = 1"
   ]
  },
  {
   "cell_type": "markdown",
   "metadata": {},
   "source": [
    "Student's t distribution の PDF"
   ]
  },
  {
   "cell_type": "code",
   "execution_count": 155,
   "metadata": {},
   "outputs": [],
   "source": [
    "# PDF of student's t distribution\n",
    "def t_pdf(x, m, Lambda, df):\n",
    "    D = len(m)\n",
    "    m = m.reshape(D, 1)\n",
    "    x = x.T\n",
    "\n",
    "    return np.diag(\n",
    "        np.exp(sp.special.loggamma(D/2. + df/2.) - sp.special.loggamma(df/2.)) *\n",
    "        np.power(np.linalg.det(Lambda), 1/2.) / \n",
    "        np.power(np.pi * df, D/2.) *\n",
    "        np.power(1 + (x-m).T@Lambda@(x-m)/df, -(D+df)/2.)\n",
    "    )"
   ]
  },
  {
   "cell_type": "markdown",
   "metadata": {},
   "source": [
    "パラメータの更新式"
   ]
  },
  {
   "cell_type": "code",
   "execution_count": 5,
   "metadata": {},
   "outputs": [],
   "source": [
    "# eq15( k le K)\n",
    "def eq15_1(w, D, x, mu_k, beta_k, nu_k, W_k):\n",
    "    return w * t_pdf(\n",
    "        x,\n",
    "        mu_k,\n",
    "        beta_k * (nu_k + 1 - D) * W_k / (1 + beta_k),\n",
    "        (nu_k + 1 - D)\n",
    "    )\n",
    "\n",
    "# eq15(k = K + 1)\n",
    "def eq15_2(alpha, D, x, m_0, beta_0, nu_0, W_0):\n",
    "    m_1 = (x + beta_0 * m_0) / (1 + beta_0)\n",
    "    beta_1 = 1 + beta_0\n",
    "    W_1_inv = np.linalg.inv(W_0) + beta_0 / (1 + beta_0) * (x - m_0)@(x-m_0).T\n",
    "    W_1 = np.linalg.inv(W_1_inv)\n",
    "    nu_1 = 1 + nu_0\n",
    "    \n",
    "    return alpha / np.power(np.pi, D/2.) \\\n",
    "        * sp.special.gamma((nu_0+1.)/2.) \\\n",
    "        / sp.special.gamma((nu_0+1.-D)/2.) \\\n",
    "        * np.power(np.linalg.det(W_1), nu_1/2.) \\\n",
    "        / np.power(np.linalg.det(W_0), nu_0/2.) \\\n",
    "        * np.power(beta_0/beta_1, D/2.)"
   ]
  },
  {
   "cell_type": "code",
   "execution_count": 6,
   "metadata": {},
   "outputs": [],
   "source": [
    "# eq.16(k .le. K)\n",
    "def eq16_1(x, rho, i, k, m_0, beta_0, nu_0, W_0):\n",
    "    r_k = rho[0:i+1, k].sum()\n",
    "\n",
    "    x_bar = x@rho[0:i+1, k:k+1] / r_k\n",
    "    S_k = np.sum([rho[j, k] * (x[:,j:j+1] - x_bar)@(x[:,j:j+1] - x_bar).T for j in range(i+1)], axis=0)\n",
    "    \n",
    "    m_k = (r_k * x_bar + beta_0 * m_0) / (r_k + beta_0)\n",
    "    beta_k = r_k + beta_0\n",
    "    W_k_inv = np.linalg.inv(W_0) \\\n",
    "        + r_k * beta_0 / (r_k + beta_0) * (x_bar - m_0)@(x_bar - m_0).T \\\n",
    "        + S_k\n",
    "    W_k = np.linalg.inv(W_k_inv)\n",
    "    nu_k = r_k + nu_0\n",
    "    \n",
    "    return m_k, beta_k, W_k, nu_k\n",
    "\n",
    "# eq.16(k = K + 1)\n",
    "def eq16_2(x, rho, i, k, m_0, beta_0, nu_0, W_0):\n",
    "    m_k = (rho[i, k] * x + beta_0 * m_0) / (rho[i, k] + beta_0)\n",
    "    beta_k = rho[i, k] + beta_0\n",
    "    W_k_inv = np.linalg.inv(W_0) \\\n",
    "        + rho[i, k] * beta_0 / (rho[i, k] + beta_0) * (x - m_0)@(x - m_0).T\n",
    "    W_k = np.linalg.inv(W_k_inv)\n",
    "    nu_k = rho[i, k] + nu_0\n",
    "    \n",
    "    return m_k, beta_k, W_k, nu_k"
   ]
  },
  {
   "cell_type": "markdown",
   "metadata": {},
   "source": [
    "merge関数も書いたが使わなかった."
   ]
  },
  {
   "cell_type": "code",
   "execution_count": 20,
   "metadata": {},
   "outputs": [],
   "source": [
    "def merge(eps=0.01):\n",
    "    for i in range(K-1):\n",
    "        for j in range(i+1, K):\n",
    "            diff = np.abs(rho[:, i] - rho[:, j]).sum() / N\n",
    "            if diff < eps:\n",
    "                rho[:, i] += rho[:, j]\n",
    "                rho[:, j] = 0"
   ]
  },
  {
   "cell_type": "markdown",
   "metadata": {},
   "source": [
    "では計算実施."
   ]
  },
  {
   "cell_type": "code",
   "execution_count": 158,
   "metadata": {
    "scrolled": false
   },
   "outputs": [
    {
     "data": {
      "application/vnd.jupyter.widget-view+json": {
       "model_id": "f95428489dce4f56b026f19c31fde2ec",
       "version_major": 2,
       "version_minor": 0
      },
      "text/plain": [
       "FloatProgress(value=1.0, max=999.0, min=1.0)"
      ]
     },
     "metadata": {},
     "output_type": "display_data"
    },
    {
     "name": "stdout",
     "output_type": "stream",
     "text": [
      "Component count: 25\n"
     ]
    },
    {
     "data": {
      "text/plain": [
       "(-4, 14)"
      ]
     },
     "execution_count": 158,
     "metadata": {},
     "output_type": "execute_result"
    },
    {
     "data": {
      "image/png": "[encoded data removed]",
      "text/plain": [
       "<Figure size 432x288 with 1 Axes>"
      ]
     },
     "metadata": {},
     "output_type": "display_data"
    }
   ],
   "source": [
    "init()\n",
    "i=0\n",
    "k=0\n",
    "_mu_k, _beta_k, _W_k, _nu_k = eq16_2(x[:,i:i+1], rho, i, k, m_0, beta_0, nu_0, W_0)\n",
    "\n",
    "mu_k[k] = _mu_k\n",
    "beta_k[k] = _beta_k\n",
    "W_k[k] = _W_k\n",
    "nu_k[k] = _nu_k\n",
    "\n",
    "fp = FloatProgress(min=1, max=N-1)\n",
    "display(fp)\n",
    "for i in np.arange(1, N):\n",
    "    for k in np.arange(K):\n",
    "        w = rho[0:i, k].sum()\n",
    "        if w == 0:\n",
    "            rho[i, k] = 0\n",
    "        else:\n",
    "            rho[i, k] = eq15_1(w, D, x[:,i:i+1].T, mu_k[k], beta_k[k], nu_k[k], W_k[k])\n",
    "    rho[i, K] = eq15_2(alpha, D, x[:,i:i+1], m_0, beta_0, nu_0, W_0)\n",
    "    rho[i, 0:K+1] = rho[i, 0:K+1] / rho[i, 0:K+1].sum()\n",
    "    \n",
    "    if rho[i, K] > 0.01:\n",
    "        for k in np.arange(K):\n",
    "            if rho[0:i, k].sum() == 0: continue\n",
    "            _mu_k, _beta_k, _W_k, _nu_k = eq16_1(x[:,0:i+1], rho, i, k, m_0, beta_0, nu_0, W_0)\n",
    "            mu_k[k] = _mu_k\n",
    "            beta_k[k] = _beta_k\n",
    "            W_k[k] = _W_k\n",
    "            nu_k[k] = _nu_k\n",
    "        \n",
    "        _mu_k, _beta_k, _W_k, _nu_k = eq16_2(x[:,i:i+1], rho, i, K, m_0, beta_0, nu_0, W_0)\n",
    "        mu_k[K] = _mu_k\n",
    "        beta_k[K] = _beta_k\n",
    "        W_k[K] = _W_k\n",
    "        nu_k[K] = _nu_k\n",
    "        K = K + 1\n",
    "    else:\n",
    "        rho[i, K] = 0\n",
    "        rho[i, 0:K] = rho[i, 0:K] / rho[i, 0:K].sum()\n",
    "        for k in np.arange(K):\n",
    "            if rho[0:i, k].sum() == 0: continue\n",
    "            _mu_k, _beta_k, _W_k, _nu_k = eq16_1(x[:,0:i+1], rho, i, k, m_0, beta_0, nu_0, W_0)\n",
    "            mu_k[k] = _mu_k\n",
    "            beta_k[k] = _beta_k\n",
    "            W_k[k] = _W_k\n",
    "            nu_k[k] = _nu_k\n",
    "    # merge(0.001)\n",
    "    fp.value = i"
   ]
  },
  {
   "cell_type": "code",
   "execution_count": 147,
   "metadata": {},
   "outputs": [
    {
     "name": "stdout",
     "output_type": "stream",
     "text": [
      "[0.53841985 0.46022291 0.00135723 0.         0.         0.\n",
      " 0.         0.         0.         0.         0.         0.\n",
      " 0.         0.         0.         0.         0.         0.\n",
      " 0.         0.         0.         0.         0.         0.\n",
      " 0.        ]\n"
     ]
    }
   ],
   "source": []
  },
  {
   "cell_type": "code",
   "execution_count": 213,
   "metadata": {},
   "outputs": [
    {
     "name": "stdout",
     "output_type": "stream",
     "text": [
      "Component count: 25\n",
      "Component weights: \n",
      "[0.53937356 0.0000303  0.45862318 0.00071761 0.00029765 0.00007885\n",
      " 0.00012975 0.00008032 0.00004238 0.00005487 0.00004612 0.00003017\n",
      " 0.00002602 0.00003653 0.00002051 0.00005822 0.00004662 0.00008584\n",
      " 0.0000174  0.00002027 0.00005958 0.00003011 0.00001542 0.00006522\n",
      " 0.00001349]\n",
      "mu_k[0]: [[9.280608353057659], [9.270336064605647]]\n",
      "mu_k[2]: [[0.13317886044658903], [0.14346155557160561]]\n"
     ]
    },
    {
     "data": {
      "image/png": "[encoded data removed]",
      "text/plain": [
       "<Figure size 432x288 with 1 Axes>"
      ]
     },
     "metadata": {},
     "output_type": "display_data"
    }
   ],
   "source": [
    "print(f'Component count: {K}')\n",
    "np.set_printoptions(suppress=True)\n",
    "print(f'Component weights: \\n{rho.sum(axis=0)[0:K]/N}')\n",
    "np.set_printoptions(suppress=False)\n",
    "print(f'mu_k[0]: {mu_k[0].tolist()}')\n",
    "print(f'mu_k[2]: {mu_k[1].tolist()}')\n",
    "\n",
    "ax = X.plot(kind='scatter', x='x', y='y', color='red', alpha=0.5, label='data')\n",
    "pd.DataFrame(\n",
    "    mu_k.reshape(100, 2)[0:K], columns=['x','y']\n",
    ").plot(kind='scatter', x='x', y='y', ax=ax, label='center of components').set_aspect('equal')\n",
    "ax.set_xlim(-4, 14)\n",
    "ax.set_ylim(-4, 14)\n",
    "ax.set_xticks(np.arange(-4, 16, 2));\n",
    "ax.set_yticks(np.arange(-4, 16, 2));"
   ]
  },
  {
   "cell_type": "markdown",
   "metadata": {},
   "source": [
    "コンポーネント数は25となったが実質的にコンポーネントは2つ, それ以外はweightが低い. \n",
    "2つのコンポーネントの中心はそれらしい. 右上のデータ群のコンポーネントの中心がすこしずれているか."
   ]
  },
  {
   "cell_type": "code",
   "execution_count": 203,
   "metadata": {},
   "outputs": [],
   "source": [
    "def plot(x=pd.DataFrame()):\n",
    "    delta = 0.5\n",
    "    xrange = np.array([-10, 15])\n",
    "    yrange = np.array([-10, 15])\n",
    "    gx = np.arange(*(xrange + delta/2), delta)\n",
    "    gy = np.arange(*(yrange + delta/2), delta)\n",
    "    gxx, gyy = np.meshgrid(gx, gy)\n",
    "    gxgy = np.c_[gxx.ravel(), gyy.ravel()]\n",
    "\n",
    "    zz = 0\n",
    "    for k in range(K):\n",
    "        w = rho[0:i, k].sum() / N\n",
    "        if w < 1e-3: continue\n",
    "        zz += w * t_pdf(\n",
    "            gxgy,\n",
    "            mu_k[k],\n",
    "            beta_k[k] * (nu_k[k] + 1 - D) * W_k[k] / (1 + beta_k[k]),\n",
    "            (nu_k[k] + 1 - D)\n",
    "        )\n",
    "\n",
    "    fig, ax = plt.subplots(ncols=1, figsize=(7, 7))\n",
    "    cs = ax.contour(gxx, gyy, zz.reshape(len(gx), len(gy)), levels=[0.001, 0.005, 0.01, 0.05], colors=colors)\n",
    "    plt.clabel(cs, inline=1, fontsize=15)\n",
    "    if not x.empty:\n",
    "        x.plot(kind='scatter', x='x', y='y', ax=ax, c=colors[0], alpha=0.5).set_aspect('equal')"
   ]
  },
  {
   "cell_type": "code",
   "execution_count": 204,
   "metadata": {},
   "outputs": [
    {
     "data": {
      "image/png": "[encoded data removed]",
      "text/plain": [
       "<Figure size 504x504 with 1 Axes>"
      ]
     },
     "metadata": {},
     "output_type": "display_data"
    }
   ],
   "source": [
    "plot(pd.DataFrame(x.T, columns=['x', 'y']))"
   ]
  },
  {
   "cell_type": "code",
   "execution_count": 143,
   "metadata": {},
   "outputs": [
    {
     "data": {
      "image/png": "[encoded data removed]",
      "text/plain": [
       "<Figure size 648x504 with 2 Axes>"
      ]
     },
     "metadata": {},
     "output_type": "display_data"
    }
   ],
   "source": [
    "P = pd.DataFrame(x[:, :].T, columns=['x', 'y'])\n",
    "P['group'] = rho.argmax(axis=1)\n",
    "fig, axes = plt.subplots(ncols=P['group'].nunique(), figsize=(9, 7))\n",
    "\n",
    "for i in range(P['group'].nunique()):\n",
    "    k = P['group'].unique()[i]\n",
    "    P[P['group']==k].plot(kind='scatter', x='x', y='y', c=colors[i], label=f'Gr.{i}', alpha=0.5, ax=axes[i])\n",
    "    axes[i].set_aspect('equal')\n",
    "    axes[i].set_xlim(-4, 14)\n",
    "    axes[i].set_ylim(-4, 14)\n",
    "# plt.savefig('3.png', bbox_inches='tight', pad_inches=0)"
   ]
  },
  {
   "cell_type": "code",
   "execution_count": 144,
   "metadata": {},
   "outputs": [
    {
     "name": "stdout",
     "output_type": "stream",
     "text": [
      "            x         y  group\n",
      "2   -0.470033 -0.216731      0\n",
      "6   -0.028182  0.428332      0\n",
      "7   -0.439190  0.181338      0\n",
      "8    0.605120  0.895556      0\n",
      "10  -0.799422  0.240788      0\n",
      "13   1.128594  0.496001      0\n",
      "15   1.867559  0.906045      0\n",
      "17  -0.764144 -1.437791      0\n",
      "18   1.532779  1.469359      0\n",
      "19  -0.098453 -0.663478      0\n",
      "20  -0.813146 -1.726283      0\n",
      "21   0.296733  0.829986      0\n",
      "22   0.676461 -0.382009      0\n",
      "23  -0.224259 -0.302250      0\n",
      "27  -0.024326 -0.738031      0\n",
      "29   0.978738  2.240893      0\n",
      "37  -0.507518 -1.051880      0\n",
      "39  -1.279689 -0.585431      0\n",
      "44   1.096347 -0.234216      0\n",
      "148  1.922942  1.480515      0\n",
      "           x         y  group\n",
      "26 -0.403177  1.222445      1\n",
      "34 -0.667713  1.681922      1\n",
      "40 -0.517519 -0.978830      1\n",
      "47 -0.692050  1.536377      1\n",
      "48  0.466166 -0.370242      1\n",
      "50  0.452489  0.097896      1\n",
      "51  0.543312  0.439043      1\n",
      "52  0.242118 -0.888720      1\n",
      "53  0.227393 -1.016739      1\n",
      "56 -0.384645 -0.443836      1\n",
      "57  0.213480 -1.208574      1\n",
      "59  0.820322  1.359949      1\n",
      "62  0.286344  0.608844      1\n",
      "63 -1.768538  0.355482      1\n",
      "64  0.330035  2.225944      1\n",
      "65 -0.353432 -1.616474      1\n",
      "66 -2.369587  0.864052      1\n",
      "68 -0.347451 -0.581268      1\n",
      "71 -0.930157 -0.178589      1\n",
      "73  2.696224 -0.073925      1\n"
     ]
    }
   ],
   "source": [
    "print(P[(P.group == 0) & (P.x < 5)].head(n=20))\n",
    "print(P[(P.group == 1) & (P.x < 5)].head(n=20))"
   ]
  },
  {
   "cell_type": "markdown",
   "metadata": {},
   "source": [
    "データに一度割り当てた $ \\rho $ が以降更新されないことは問題だと思う. データが増えて生成された新規コンポーネントに, それ以前のデータは寄与できない. これにより推定結果は添字の若いデータやその並び順に依存する.\n",
    "それでも十分に大量のデータがある場合にそれなりにうまく行くようだ.\n",
    "\n",
    "論文によれば各イテレーションにおいてprune(weightの小さいコンポーネントを削除) and merge(各データにおける負担率の分布が近いコンポーネントをmerge)するともっと良くなるらしい. mergeは実質 すべての$ \\rho $ を更新する手続きである."
   ]
  },
  {
   "cell_type": "markdown",
   "metadata": {},
   "source": [
    "## 1. Introduction\n",
    "\n",
    "1. Dirichlet process mixture models(DPMM)はよい\n",
    "    1. が,DPMMをMCMCで実現すると遅い. MCMCの手法は色々検討されているけど遅い. 大規模データに対して適用できない.\n",
    "2. 平均場近似を用いたパラメータ推定法であるVariational inferenceを使うと, MCMCより高いパフォーマンスが出る\n",
    "    1. 典型的なのはSBP(stick breaking process)を適当なコンポーネント数で打ち切る方法である(truncated-approximation).\n",
    "    2. 適当なコンポーネント数は十分大きい必要があるので, 速いは速いが計算上の無駄が多い\n",
    "3. 提案手法の特徴\n",
    "    1. Variational inferenceと動的なコンポーネント数推定\n",
    "    2. 逐次データに対応, online learning\n",
    "\n",
    "## 2. Related Work\n",
    "\n",
    "1. 効率的なBayesian nonparametric model の探求が流行っている. \n",
    "    1. Jain and Neal (2004) はsplit-merge で MCMCが局所解に停滞するのを避け高速化する手法を提案している.\n",
    "    2. Dahl (2005) は 上のsequentiallyな実装を提案している(意味はわからん)\n",
    "    3. この方向性の発展系としてHDP( Teh et al. (2007) )やBP-HMM( Hughes et al. (2012) )がある.\n",
    "2. Variational inference はMCMCよりも高速. 中でもStochastic Variational Inference がすごい\n",
    "    1. stochastic optimization(確率的最適化) と variational inference の合わせ技 Hoffman et al. (2012)\n",
    "    2. Wang et al. (2011) がnon-parametricに拡張, Teh et al.(2007) が online-learning可能なHDPを提案\n",
    "    3. Wang and Blei (2007)がtruncation-free variational inference を提案\n",
    "3. Bryant and Sudderth (2012) online variational inference algorithm for HDP using mini-batch\n",
    "    1. 本論文と似たような似たような問題意識\n",
    "    2. 違いとして, Bryant and Sudderth (2012)はtopic model に特化している. こちらは汎用的.\n",
    "    3. Bryant and Sudderth (2012)はランダムな初期値が必要. こちらは初期値不要\n",
    "4. Nott et al. (2013) はVSUGSを提案している.\n",
    "    1. 本論文に近いが, データの隠れ変数のみを推定している. 本論文は隠れ変数とコンポーネントのパラメタも推定している.\n",
    "    2. Nott et al. (2013)はtruncation level Tってのが必要. "
   ]
  }
 ],
 "metadata": {
  "kernelspec": {
   "display_name": "Python 3",
   "language": "python",
   "name": "python3"
  },
  "language_info": {
   "codemirror_mode": {
    "name": "ipython",
    "version": 3
   },
   "file_extension": ".py",
   "mimetype": "text/x-python",
   "name": "python",
   "nbconvert_exporter": "python",
   "pygments_lexer": "ipython3",
   "version": "3.6.4"
  }
 },
 "nbformat": 4,
 "nbformat_minor": 2
}
