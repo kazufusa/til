{
 "cells": [
  {
   "cell_type": "code",
   "execution_count": 2,
   "metadata": {
    "collapsed": true
   },
   "outputs": [],
   "source": [
    "from sympy import *\n",
    "from sympy.stats import *\n",
    "init_printing(use_unicode=True)\n",
    "\n",
    "from IPython.core.interactiveshell import InteractiveShell\n",
    "InteractiveShell.ast_node_interactivity = 'all'"
   ]
  },
  {
   "cell_type": "code",
   "execution_count": 4,
   "metadata": {
    "collapsed": true
   },
   "outputs": [],
   "source": [
    "y, mu, mu0 = symbols('y mu mu0', real=True)\n",
    "Y_vec = symbols('Y1:4', real=True)\n",
    "tau, lambda0, a0, b0 = symbols('tau lambda0 a0 b0', positive=True)"
   ]
  },
  {
   "cell_type": "code",
   "execution_count": 6,
   "metadata": {
    "collapsed": true
   },
   "outputs": [],
   "source": [
    "p_y = density(Normal('', mu, 1/sqrt(tau)))(y)\n",
    "p_mu = density(Normal('', mu0, 1/sqrt(lambda0*tau)))(mu)\n",
    "p_tau = density(Gamma('', a0, 1/b0))(tau)"
   ]
  },
  {
   "cell_type": "code",
   "execution_count": 10,
   "metadata": {},
   "outputs": [
    {
     "data": {
      "image/png": "[encoded data removed]",
      "text/latex": [
       "$$1$$"
      ],
      "text/plain": [
       "1"
      ]
     },
     "execution_count": 10,
     "metadata": {},
     "output_type": "execute_result"
    },
    {
     "data": {
      "image/png": "[encoded data removed]",
      "text/latex": [
       "$$\\frac{b_{0}^{a_{0}}}{b_{0}} b_{0}^{- a_{0} + 1}$$"
      ],
      "text/plain": [
       "  a₀   -a₀ + 1\n",
       "b₀  ⋅b₀       \n",
       "──────────────\n",
       "      b₀      "
      ]
     },
     "execution_count": 10,
     "metadata": {},
     "output_type": "execute_result"
    },
    {
     "data": {
      "image/png": "[encoded data removed]",
      "text/latex": [
       "$$1$$"
      ],
      "text/plain": [
       "1"
      ]
     },
     "execution_count": 10,
     "metadata": {},
     "output_type": "execute_result"
    }
   ],
   "source": [
    "integrate(p_mu, (mu, -oo, oo))\n",
    "integrate(p_tau, (tau, 0, oo))\n",
    "simplify(integrate(p_tau, (tau, 0, oo)))"
   ]
  },
  {
   "cell_type": "code",
   "execution_count": 9,
   "metadata": {},
   "outputs": [
    {
     "data": {
      "image/png": "[encoded data removed]",
      "text/latex": [
       "$$- \\frac{Y_{1}^{2} \\tau}{2} + Y_{1} \\mu \\tau - \\frac{Y_{2}^{2} \\tau}{2} + Y_{2} \\mu \\tau - \\frac{Y_{3}^{2} \\tau}{2} + Y_{3} \\mu \\tau + a_{0} \\log{\\left (b_{0} \\right )} + a_{0} \\log{\\left (\\tau \\right )} - b_{0} \\tau - \\frac{\\lambda_{0} \\tau}{2} \\mu^{2} + \\lambda_{0} \\mu \\mu_{0} \\tau - \\frac{\\lambda_{0} \\tau}{2} \\mu_{0}^{2} - \\frac{3 \\tau}{2} \\mu^{2} + \\log{\\left (a_{0} \\right )} + \\frac{1}{2} \\log{\\left (\\lambda_{0} \\right )} + \\log{\\left (\\tau \\right )} - \\log{\\left (\\Gamma{\\left(a_{0} + 1 \\right)} \\right )} - 2 \\log{\\left (\\pi \\right )} - 2 \\log{\\left (2 \\right )}$$"
      ],
      "text/plain": [
       "    2                2                2                                       \n",
       "  Y₁ ⋅τ            Y₂ ⋅τ            Y₃ ⋅τ                                     \n",
       "- ───── + Y₁⋅μ⋅τ - ───── + Y₂⋅μ⋅τ - ───── + Y₃⋅μ⋅τ + a₀⋅log(b₀) + a₀⋅log(τ) - \n",
       "    2                2                2                                       \n",
       "\n",
       "           2                      2        2                                  \n",
       "       λ₀⋅μ ⋅τ               λ₀⋅μ₀ ⋅τ   3⋅μ ⋅τ             log(λ₀)            \n",
       "b₀⋅τ - ─────── + λ₀⋅μ⋅μ₀⋅τ - ──────── - ────── + log(a₀) + ─────── + log(τ) - \n",
       "          2                     2         2                   2               \n",
       "\n",
       "                                    \n",
       "                                    \n",
       "log(Γ(a₀ + 1)) - 2⋅log(π) - 2⋅log(2)\n",
       "                                    "
      ]
     },
     "execution_count": 9,
     "metadata": {},
     "output_type": "execute_result"
    }
   ],
   "source": [
    "log_p = sum([log(p_y.subs(y, x)) for x in Y_vec]) + log(p_mu) + log(p_tau)\n",
    "log_p = simplify(log_p)\n",
    "log_p"
   ]
  },
  {
   "cell_type": "code",
   "execution_count": 15,
   "metadata": {},
   "outputs": [
    {
     "data": {
      "image/png": "[encoded data removed]",
      "text/latex": [
       "$$\\mu^{2} \\left(- \\frac{\\lambda_{0} \\tau}{2} - \\frac{3 \\tau}{2}\\right) + \\mu \\left(Y_{1} \\tau + Y_{2} \\tau + Y_{3} \\tau + \\lambda_{0} \\mu_{0} \\tau\\right)$$"
      ],
      "text/plain": [
       " 2 ⎛  λ₀⋅τ   3⋅τ⎞                                   \n",
       "μ ⋅⎜- ──── - ───⎟ + μ⋅(Y₁⋅τ + Y₂⋅τ + Y₃⋅τ + λ₀⋅μ₀⋅τ)\n",
       "   ⎝   2      2 ⎠                                   "
      ]
     },
     "execution_count": 15,
     "metadata": {},
     "output_type": "execute_result"
    }
   ],
   "source": [
    "log_p_for_mu = integrate(diff(log_p, mu), mu)\n",
    "log_p_for_mu = collect(log_p_for_mu, mu)\n",
    "log_p_for_mu"
   ]
  },
  {
   "cell_type": "code",
   "execution_count": 18,
   "metadata": {},
   "outputs": [
    {
     "data": {
      "image/png": "[encoded data removed]",
      "text/latex": [
       "$$\\tau \\left(- \\frac{Y_{1}^{2}}{2} + Y_{1} \\mu - \\frac{Y_{2}^{2}}{2} + Y_{2} \\mu - \\frac{Y_{3}^{2}}{2} + Y_{3} \\mu - b_{0} - \\frac{\\lambda_{0} \\mu^{2}}{2} + \\lambda_{0} \\mu \\mu_{0} - \\frac{\\lambda_{0} \\mu_{0}^{2}}{2} - \\frac{3 \\mu^{2}}{2}\\right) + \\left(a_{0} + 1\\right) \\log{\\left (\\tau \\right )}$$"
      ],
      "text/plain": [
       "  ⎛    2            2            2                   2                  2     \n",
       "  ⎜  Y₁           Y₂           Y₃                λ₀⋅μ              λ₀⋅μ₀    3⋅\n",
       "τ⋅⎜- ─── + Y₁⋅μ - ─── + Y₂⋅μ - ─── + Y₃⋅μ - b₀ - ───── + λ₀⋅μ⋅μ₀ - ────── - ──\n",
       "  ⎝   2            2            2                  2                 2       2\n",
       "\n",
       " 2⎞                  \n",
       "μ ⎟                  \n",
       "──⎟ + (a₀ + 1)⋅log(τ)\n",
       "  ⎠                  "
      ]
     },
     "execution_count": 18,
     "metadata": {},
     "output_type": "execute_result"
    }
   ],
   "source": [
    "log_p_for_tau = integrate(diff(log_p, tau), tau)\n",
    "log_p_for_tau = collect(log_p_for_tau, tau)\n",
    "log_p_for_tau"
   ]
  },
  {
   "cell_type": "code",
   "execution_count": 19,
   "metadata": {},
   "outputs": [
    {
     "data": {
      "image/png": "[encoded data removed]",
      "text/latex": [
       "$$\\frac{Y_{1} \\mu \\Gamma{\\left(a_{0} + 1 \\right)}}{b_{0} \\Gamma{\\left(a_{0} \\right)}} + \\frac{Y_{2} \\mu \\Gamma{\\left(a_{0} + 1 \\right)}}{b_{0} \\Gamma{\\left(a_{0} \\right)}} + \\frac{Y_{3} \\mu \\Gamma{\\left(a_{0} + 1 \\right)}}{b_{0} \\Gamma{\\left(a_{0} \\right)}} - \\frac{\\lambda_{0} \\mu^{2} \\Gamma{\\left(a_{0} + 1 \\right)}}{2 b_{0} \\Gamma{\\left(a_{0} \\right)}} + \\frac{\\lambda_{0} \\mu \\mu_{0}}{b_{0} \\Gamma{\\left(a_{0} \\right)}} \\Gamma{\\left(a_{0} + 1 \\right)} - \\frac{3 \\mu^{2} \\Gamma{\\left(a_{0} + 1 \\right)}}{2 b_{0} \\Gamma{\\left(a_{0} \\right)}}$$"
      ],
      "text/plain": [
       "                                                       2                      \n",
       "Y₁⋅μ⋅Γ(a₀ + 1)   Y₂⋅μ⋅Γ(a₀ + 1)   Y₃⋅μ⋅Γ(a₀ + 1)   λ₀⋅μ ⋅Γ(a₀ + 1)   λ₀⋅μ⋅μ₀⋅Γ\n",
       "────────────── + ────────────── + ────────────── - ─────────────── + ─────────\n",
       "   b₀⋅Γ(a₀)         b₀⋅Γ(a₀)         b₀⋅Γ(a₀)         2⋅b₀⋅Γ(a₀)          b₀⋅Γ\n",
       "\n",
       "              2          \n",
       "(a₀ + 1)   3⋅μ ⋅Γ(a₀ + 1)\n",
       "──────── - ──────────────\n",
       "(a₀)         2⋅b₀⋅Γ(a₀)  "
      ]
     },
     "execution_count": 19,
     "metadata": {},
     "output_type": "execute_result"
    },
    {
     "data": {
      "image/png": "[encoded data removed]",
      "text/latex": [
       "$$\\frac{a_{0} \\mu}{2 b_{0}} \\left(2 Y_{1} + 2 Y_{2} + 2 Y_{3} - \\lambda_{0} \\mu + 2 \\lambda_{0} \\mu_{0} - 3 \\mu\\right)$$"
      ],
      "text/plain": [
       "a₀⋅μ⋅(2⋅Y₁ + 2⋅Y₂ + 2⋅Y₃ - λ₀⋅μ + 2⋅λ₀⋅μ₀ - 3⋅μ)\n",
       "────────────────────────────────────────────────\n",
       "                      2⋅b₀                      "
      ]
     },
     "execution_count": 19,
     "metadata": {},
     "output_type": "execute_result"
    },
    {
     "data": {
      "image/png": "[encoded data removed]",
      "text/latex": [
       "$$\\mu^{2} \\left(- \\frac{a_{0} \\lambda_{0}}{2 b_{0}} - \\frac{3 a_{0}}{2 b_{0}}\\right) + \\mu \\left(\\frac{Y_{1} a_{0}}{b_{0}} + \\frac{Y_{2} a_{0}}{b_{0}} + \\frac{Y_{3} a_{0}}{b_{0}} + \\frac{a_{0} \\mu_{0}}{b_{0}} \\lambda_{0}\\right)$$"
      ],
      "text/plain": [
       " 2 ⎛  a₀⋅λ₀   3⋅a₀⎞     ⎛Y₁⋅a₀   Y₂⋅a₀   Y₃⋅a₀   a₀⋅λ₀⋅μ₀⎞\n",
       "μ ⋅⎜- ───── - ────⎟ + μ⋅⎜───── + ───── + ───── + ────────⎟\n",
       "   ⎝   2⋅b₀   2⋅b₀⎠     ⎝  b₀      b₀      b₀       b₀   ⎠"
      ]
     },
     "execution_count": 19,
     "metadata": {},
     "output_type": "execute_result"
    }
   ],
   "source": [
    "log_q1_mu = integrate(log_p_for_mu * p_tau, (tau, 0, oo))\n",
    "log_q1_mu\n",
    "log_q1_mu = simplify(log_q1_mu)\n",
    "log_q1_mu\n",
    "log_q1_mu = collect(expand(log_q1_mu), mu)\n",
    "log_q1_mu"
   ]
  },
  {
   "cell_type": "code",
   "execution_count": 20,
   "metadata": {},
   "outputs": [
    {
     "data": {
      "image/png": "[encoded data removed]",
      "text/latex": [
       "$$\\frac{\\sqrt{2} \\sqrt{\\pi} \\sqrt{b_{0}}}{\\sqrt{a_{0}} \\sqrt{\\lambda_{0} + 3}} e^{\\frac{a_{0} \\left(Y_{1} + Y_{2} + Y_{3} + \\lambda_{0} \\mu_{0}\\right)^{2}}{2 b_{0} \\left(\\lambda_{0} + 3\\right)}}$$"
      ],
      "text/plain": [
       "                                       2\n",
       "              a₀⋅(Y₁ + Y₂ + Y₃ + λ₀⋅μ₀) \n",
       "              ──────────────────────────\n",
       "        ____        2⋅b₀⋅(λ₀ + 3)       \n",
       "√2⋅√π⋅╲╱ b₀ ⋅ℯ                          \n",
       "────────────────────────────────────────\n",
       "             ____   ________            \n",
       "           ╲╱ a₀ ⋅╲╱ λ₀ + 3             "
      ]
     },
     "execution_count": 20,
     "metadata": {},
     "output_type": "execute_result"
    },
    {
     "data": {
      "image/png": "[encoded data removed]",
      "text/latex": [
       "$$\\frac{\\sqrt{2} \\sqrt{a_{0}} \\sqrt{\\lambda_{0} + 3}}{2 \\sqrt{\\pi} \\sqrt{b_{0}}} e^{- \\frac{a_{0} \\left(Y_{1} + Y_{2} + Y_{3} + \\lambda_{0} \\mu_{0}\\right)^{2}}{2 b_{0} \\left(\\lambda_{0} + 3\\right)}} e^{\\mu^{2} \\left(- \\frac{a_{0} \\lambda_{0}}{2 b_{0}} - \\frac{3 a_{0}}{2 b_{0}}\\right) + \\mu \\left(\\frac{Y_{1} a_{0}}{b_{0}} + \\frac{Y_{2} a_{0}}{b_{0}} + \\frac{Y_{3} a_{0}}{b_{0}} + \\frac{a_{0} \\mu_{0}}{b_{0}} \\lambda_{0}\\right)}$$"
      ],
      "text/plain": [
       "                                                2                             \n",
       "                      -a₀⋅(Y₁ + Y₂ + Y₃ + λ₀⋅μ₀)     2 ⎛  a₀⋅λ₀   3⋅a₀⎞     ⎛Y\n",
       "                      ────────────────────────────  μ ⋅⎜- ───── - ────⎟ + μ⋅⎜─\n",
       "     ____   ________         2⋅b₀⋅(λ₀ + 3)             ⎝   2⋅b₀   2⋅b₀⎠     ⎝ \n",
       "√2⋅╲╱ a₀ ⋅╲╱ λ₀ + 3 ⋅ℯ                            ⋅ℯ                          \n",
       "──────────────────────────────────────────────────────────────────────────────\n",
       "                                                        ____                  \n",
       "                                                 2⋅√π⋅╲╱ b₀                   \n",
       "\n",
       "                                \n",
       "₁⋅a₀   Y₂⋅a₀   Y₃⋅a₀   a₀⋅λ₀⋅μ₀⎞\n",
       "──── + ───── + ───── + ────────⎟\n",
       " b₀      b₀      b₀       b₀   ⎠\n",
       "                                \n",
       "────────────────────────────────\n",
       "                                \n",
       "                                "
      ]
     },
     "execution_count": 20,
     "metadata": {},
     "output_type": "execute_result"
    }
   ],
   "source": [
    "q1_mu = exp(log_q1_mu)\n",
    "const = simplify(integrate(q1_mu, (mu, -oo, oo)))\n",
    "const\n",
    "q1_mu = 1/const * exp(log_q1_mu)\n",
    "q1_mu"
   ]
  },
  {
   "cell_type": "code",
   "execution_count": 21,
   "metadata": {},
   "outputs": [
    {
     "data": {
      "image/png": "[encoded data removed]",
      "text/latex": [
       "$$- \\frac{Y_{1}^{2} \\tau}{2} + Y_{1} \\mu_{0} \\tau - \\frac{Y_{2}^{2} \\tau}{2} + Y_{2} \\mu_{0} \\tau - \\frac{Y_{3}^{2} \\tau}{2} + Y_{3} \\mu_{0} \\tau + a_{0} \\log{\\left (\\tau \\right )} - b_{0} \\tau - \\frac{3 \\tau}{2} \\mu_{0}^{2} + \\log{\\left (\\tau \\right )} - \\frac{1}{2} - \\frac{3}{2 \\lambda_{0}}$$"
      ],
      "text/plain": [
       "    2                 2                 2                                     \n",
       "  Y₁ ⋅τ             Y₂ ⋅τ             Y₃ ⋅τ                                3⋅μ\n",
       "- ───── + Y₁⋅μ₀⋅τ - ───── + Y₂⋅μ₀⋅τ - ───── + Y₃⋅μ₀⋅τ + a₀⋅log(τ) - b₀⋅τ - ───\n",
       "    2                 2                 2                                     \n",
       "\n",
       " 2                      \n",
       "₀ ⋅τ            1    3  \n",
       "──── + log(τ) - ─ - ────\n",
       "2               2   2⋅λ₀"
      ]
     },
     "execution_count": 21,
     "metadata": {},
     "output_type": "execute_result"
    },
    {
     "data": {
      "image/png": "[encoded data removed]",
      "text/latex": [
       "$$\\frac{\\tau}{2} \\left(- Y_{1}^{2} + 2 Y_{1} \\mu_{0} - Y_{2}^{2} + 2 Y_{2} \\mu_{0} - Y_{3}^{2} + 2 Y_{3} \\mu_{0} - 2 b_{0} - 3 \\mu_{0}^{2}\\right) + \\left(a_{0} + 1\\right) \\log{\\left (\\tau \\right )}$$"
      ],
      "text/plain": [
       "  ⎛    2               2               2                        2⎞            \n",
       "τ⋅⎝- Y₁  + 2⋅Y₁⋅μ₀ - Y₂  + 2⋅Y₂⋅μ₀ - Y₃  + 2⋅Y₃⋅μ₀ - 2⋅b₀ - 3⋅μ₀ ⎠            \n",
       "────────────────────────────────────────────────────────────────── + (a₀ + 1)⋅\n",
       "                                2                                             \n",
       "\n",
       "      \n",
       "      \n",
       "log(τ)\n",
       "      "
      ]
     },
     "execution_count": 21,
     "metadata": {},
     "output_type": "execute_result"
    },
    {
     "data": {
      "image/png": "[encoded data removed]",
      "text/latex": [
       "$$\\tau \\left(- \\frac{Y_{1}^{2}}{2} + Y_{1} \\mu_{0} - \\frac{Y_{2}^{2}}{2} + Y_{2} \\mu_{0} - \\frac{Y_{3}^{2}}{2} + Y_{3} \\mu_{0} - b_{0} - \\frac{3 \\mu_{0}^{2}}{2}\\right) + \\left(a_{0} + 1\\right) \\log{\\left (\\tau \\right )}$$"
      ],
      "text/plain": [
       "  ⎛    2             2             2                    2⎞                  \n",
       "  ⎜  Y₁            Y₂            Y₃                 3⋅μ₀ ⎟                  \n",
       "τ⋅⎜- ─── + Y₁⋅μ₀ - ─── + Y₂⋅μ₀ - ─── + Y₃⋅μ₀ - b₀ - ─────⎟ + (a₀ + 1)⋅log(τ)\n",
       "  ⎝   2             2             2                   2  ⎠                  "
      ]
     },
     "execution_count": 21,
     "metadata": {},
     "output_type": "execute_result"
    }
   ],
   "source": [
    "log_q1_tau = integrate(log_p_for_tau * p_mu, (mu, -oo, oo))\n",
    "log_q1_tau\n",
    "log_q1_tau = integrate(diff(log_q1_tau, tau), tau)\n",
    "log_q1_tau\n",
    "log_q1_tau = collect(log_q1_tau, tau)\n",
    "log_q1_tau"
   ]
  },
  {
   "cell_type": "code",
   "execution_count": 23,
   "metadata": {},
   "outputs": [
    {
     "data": {
      "image/png": "[encoded data removed]",
      "text/latex": [
       "$$\\tau^{a_{0} + 1} e^{\\tau \\left(- \\frac{Y_{1}^{2}}{2} + Y_{1} \\mu_{0} - \\frac{Y_{2}^{2}}{2} + Y_{2} \\mu_{0} - \\frac{Y_{3}^{2}}{2} + Y_{3} \\mu_{0} - b_{0} - \\frac{3 \\mu_{0}^{2}}{2}\\right)}$$"
      ],
      "text/plain": [
       "           ⎛    2             2             2                    2⎞\n",
       "           ⎜  Y₁            Y₂            Y₃                 3⋅μ₀ ⎟\n",
       "         τ⋅⎜- ─── + Y₁⋅μ₀ - ─── + Y₂⋅μ₀ - ─── + Y₃⋅μ₀ - b₀ - ─────⎟\n",
       " a₀ + 1    ⎝   2             2             2                   2  ⎠\n",
       "τ      ⋅ℯ                                                          "
      ]
     },
     "execution_count": 23,
     "metadata": {},
     "output_type": "execute_result"
    }
   ],
   "source": [
    "q1_tau = logcombine(exp(log_q1_tau))\n",
    "q1_tau\n",
    "# const = integrate(q1_tau, (tau, 0, oo))\n",
    "# const\n",
    "# q1_tau = 1/const * q1_tau\n",
    "# q1_tau"
   ]
  },
  {
   "cell_type": "code",
   "execution_count": 24,
   "metadata": {},
   "outputs": [
    {
     "data": {
      "image/png": "[encoded data removed]",
      "text/latex": [
       "$$- \\frac{Y_{1}^{2}}{2} + Y_{1} \\mu_{0} - \\frac{Y_{2}^{2}}{2} + Y_{2} \\mu_{0} - \\frac{Y_{3}^{2}}{2} + Y_{3} \\mu_{0} - b_{0} - \\frac{3 \\mu_{0}^{2}}{2}$$"
      ],
      "text/plain": [
       "    2             2             2                    2\n",
       "  Y₁            Y₂            Y₃                 3⋅μ₀ \n",
       "- ─── + Y₁⋅μ₀ - ─── + Y₂⋅μ₀ - ─── + Y₃⋅μ₀ - b₀ - ─────\n",
       "   2             2             2                   2  "
      ]
     },
     "execution_count": 24,
     "metadata": {},
     "output_type": "execute_result"
    },
    {
     "data": {
      "image/png": "[encoded data removed]",
      "text/latex": [
       "$$\\mu_{0}$$"
      ],
      "text/plain": [
       "μ₀"
      ]
     },
     "execution_count": 24,
     "metadata": {},
     "output_type": "execute_result"
    },
    {
     "data": {
      "image/png": "[encoded data removed]",
      "text/latex": [
       "$$- b_{0}$$"
      ],
      "text/plain": [
       "-b₀"
      ]
     },
     "execution_count": 24,
     "metadata": {},
     "output_type": "execute_result"
    }
   ],
   "source": [
    "coef = collect(log_q1_tau, tau).coeff(tau)\n",
    "coef\n",
    "sol = solve(diff(coef, Y_vec[0]), Y_vec[0])[0]\n",
    "sol #=> mu0\n",
    "replacements = [(var, sol) for var in Y_vec]\n",
    "coef.subs(replacements) #=> -b0"
   ]
  },
  {
   "cell_type": "code",
   "execution_count": 25,
   "metadata": {},
   "outputs": [
    {
     "data": {
      "image/png": "[encoded data removed]",
      "text/latex": [
       "$$\\left(\\frac{Y_{1}^{2}}{2} - Y_{1} \\mu_{0} + \\frac{Y_{2}^{2}}{2} - Y_{2} \\mu_{0} + \\frac{Y_{3}^{2}}{2} - Y_{3} \\mu_{0} + b_{0} + \\frac{3 \\mu_{0}^{2}}{2}\\right)^{- a_{0} - 2} \\Gamma{\\left(a_{0} + 2 \\right)}$$"
      ],
      "text/plain": [
       "                                                      -a₀ - 2          \n",
       "⎛  2             2             2                    2⎞                 \n",
       "⎜Y₁            Y₂            Y₃                 3⋅μ₀ ⎟                 \n",
       "⎜─── - Y₁⋅μ₀ + ─── - Y₂⋅μ₀ + ─── - Y₃⋅μ₀ + b₀ + ─────⎟       ⋅Γ(a₀ + 2)\n",
       "⎝ 2             2             2                   2  ⎠                 "
      ]
     },
     "execution_count": 25,
     "metadata": {},
     "output_type": "execute_result"
    },
    {
     "data": {
      "image/png": "[encoded data removed]",
      "text/latex": [
       "$$\\frac{\\tau^{a_{0} + 1}}{\\Gamma{\\left(a_{0} + 2 \\right)}} \\left(\\frac{Y_{1}^{2}}{2} - Y_{1} \\mu_{0} + \\frac{Y_{2}^{2}}{2} - Y_{2} \\mu_{0} + \\frac{Y_{3}^{2}}{2} - Y_{3} \\mu_{0} + b_{0} + \\frac{3 \\mu_{0}^{2}}{2}\\right)^{a_{0} + 2} e^{\\tau \\left(- \\frac{Y_{1}^{2}}{2} + Y_{1} \\mu_{0} - \\frac{Y_{2}^{2}}{2} + Y_{2} \\mu_{0} - \\frac{Y_{3}^{2}}{2} + Y_{3} \\mu_{0} - b_{0} - \\frac{3 \\mu_{0}^{2}}{2}\\right)}$$"
      ],
      "text/plain": [
       "                                                                        ⎛    2\n",
       "                                                              a₀ + 2    ⎜  Y₁ \n",
       "        ⎛  2             2             2                    2⎞        τ⋅⎜- ───\n",
       " a₀ + 1 ⎜Y₁            Y₂            Y₃                 3⋅μ₀ ⎟          ⎝   2 \n",
       "τ      ⋅⎜─── - Y₁⋅μ₀ + ─── - Y₂⋅μ₀ + ─── - Y₃⋅μ₀ + b₀ + ─────⎟      ⋅ℯ        \n",
       "        ⎝ 2             2             2                   2  ⎠                \n",
       "──────────────────────────────────────────────────────────────────────────────\n",
       "                                                           Γ(a₀ + 2)          \n",
       "\n",
       "             2             2                    2⎞\n",
       "           Y₂            Y₃                 3⋅μ₀ ⎟\n",
       " + Y₁⋅μ₀ - ─── + Y₂⋅μ₀ - ─── + Y₃⋅μ₀ - b₀ - ─────⎟\n",
       "            2             2                   2  ⎠\n",
       "                                                  \n",
       "                                                  \n",
       "──────────────────────────────────────────────────\n",
       "                                                  "
      ]
     },
     "execution_count": 25,
     "metadata": {},
     "output_type": "execute_result"
    }
   ],
   "source": [
    "xi = symbols('xi', positive=True)\n",
    "const = simplify(integrate(tau**(a0+1)*exp(-xi*tau), (tau, 0, oo)))\n",
    "const = const.subs(xi, -coef)\n",
    "const\n",
    "q1_tau = 1/const * q1_tau\n",
    "q1_tau"
   ]
  }
 ],
 "metadata": {
  "kernelspec": {
   "display_name": "Python 3",
   "language": "python",
   "name": "python3"
  },
  "language_info": {
   "codemirror_mode": {
    "name": "ipython",
    "version": 3
   },
   "file_extension": ".py",
   "mimetype": "text/x-python",
   "name": "python",
   "nbconvert_exporter": "python",
   "pygments_lexer": "ipython3",
   "version": "3.6.0"
  }
 },
 "nbformat": 4,
 "nbformat_minor": 2
}
