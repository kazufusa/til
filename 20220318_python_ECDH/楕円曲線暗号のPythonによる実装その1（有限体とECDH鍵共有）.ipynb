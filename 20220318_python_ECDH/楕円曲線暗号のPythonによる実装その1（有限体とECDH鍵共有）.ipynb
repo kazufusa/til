{
 "cells": [
  {
   "cell_type": "code",
   "execution_count": 1,
   "id": "325bc944-f20a-4905-94e6-e284cf8e7ee2",
   "metadata": {},
   "outputs": [
    {
     "name": "stdout",
     "output_type": "stream",
     "text": [
      "a = 6050\n",
      "b = 7686\n",
      "A = 43688\n",
      "B = 35135\n",
      "s1 = 37147\n",
      "s2 = 37147\n",
      "s1 == s2? True\n"
     ]
    }
   ],
   "source": [
    "import secrets\n",
    "p = 65537\n",
    "g = 3\n",
    "a = secrets.randbelow(p)\n",
    "b = secrets.randbelow(p)\n",
    "print(\"a =\", a)\n",
    "print(\"b =\", b)\n",
    "A = pow(g, a, p)\n",
    "B = pow(g, b, p)\n",
    "print(\"A =\", A)\n",
    "print(\"B =\", B)\n",
    "s1 = pow(B, a, p)\n",
    "s2 = pow(A, b, p)\n",
    "print(\"s1 =\", s1)\n",
    "print(\"s2 =\", s2)\n",
    "print(\"s1 == s2?\", s1 == s2)"
   ]
  },
  {
   "cell_type": "code",
   "execution_count": null,
   "id": "97c849fc-6ed7-4d6b-b262-624e79395a25",
   "metadata": {},
   "outputs": [],
   "source": []
  }
 ],
 "metadata": {
  "kernelspec": {
   "display_name": "Python 3 (ipykernel)",
   "language": "python",
   "name": "python3"
  },
  "language_info": {
   "codemirror_mode": {
    "name": "ipython",
    "version": 3
   },
   "file_extension": ".py",
   "mimetype": "text/x-python",
   "name": "python",
   "nbconvert_exporter": "python",
   "pygments_lexer": "ipython3",
   "version": "3.9.10"
  }
 },
 "nbformat": 4,
 "nbformat_minor": 5
}
