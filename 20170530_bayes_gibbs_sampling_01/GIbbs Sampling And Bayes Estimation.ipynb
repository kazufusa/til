{
 "cells": [
  {
   "cell_type": "markdown",
   "metadata": {},
   "source": [
    "## Pythonic setup"
   ]
  },
  {
   "cell_type": "code",
   "execution_count": 14,
   "metadata": {},
   "outputs": [],
   "source": [
    "import numpy as np\n",
    "\n",
    "% matplotlib inline\n",
    "from seaborn import plt\n",
    "plt.rcParams['figure.figsize'] = (10, 5)"
   ]
  },
  {
   "cell_type": "markdown",
   "metadata": {},
   "source": [
    "## data\n",
    "\n",
    "100 points generated from a mixture distribution of two normal distributions with R.\n",
    "\n",
    "\n",
    "```R\n",
    "N      <- 100\n",
    "a_true <- 0.4\n",
    "mean1  <- 0\n",
    "mean2  <- 3\n",
    "sd1    <- 1\n",
    "sd2    <- 1\n",
    "Y      <- c(rnorm((1-a_true)*N, mean1, sd1), rnorm(a_true*N, mean2, sd2))\n",
    "data   <- list(N=N, Y=Y)\n",
    "\n",
    "write.table(Y, file=\"points.csv\", sep=\",\", row.names=F, col.names=F)\n",
    "```\n",
    "\n",
    "## model (model 2, single normal distribution)\n",
    "\n",
    "We have point data yi,i=1,…,N. We wish to find the posterior distributions of the coefficients mu(the mean) and s(the standard deviation). The model can be written as\n",
    "\n",
    "$$y_i \\sim \\mathcal{N}(\\mu, \\sigma^2)$$\n",
    "\n",
    "The likelihood for this model may be written as the product over N iid observations\n",
    "\n",
    "$$L(y_1, \\ldots, y_N | \\mu, \\sigma) = \\prod_{i = 1}^N \\mathcal{N}(\\mu, \\sigma^2)$$\n",
    "\n",
    "We place priors on mu and s.\n",
    "\n",
    "$$\\mu \\sim uniform(-\\infty, \\infty) $$\n",
    "$$\\sigma \\sim uniform(0, \\infty) $$\n",
    "\n",
    "and then $$ p(\\mu)=constant$$ $$p(\\sigma) = constant $$\n",
    "\n",
    "### Update for mu\n",
    "\n",
    "We are interested in finding\n",
    "\n",
    "\\begin{eqnarray}\n",
    "p(\\mu | \\sigma, Y) &=& \\frac {p(\\mu, \\sigma, Y)} {p(\\sigma, Y)} \\\\\n",
    "&\\propto& p(Y | \\mu, \\sigma) p(\\mu) p(\\sigma) \\\\\n",
    "&\\propto& p(Y | \\mu, \\sigma) \\\\\n",
    "\\end{eqnarray}\n",
    "\n",
    "Note that $p(Y | \\mu, \\sigma)$ is just the likelihood from above. \n",
    "\n",
    "If a variable x follows a normal distribution with mean $\\mu$ and variance $\\sigma^2$ then $ lp(x)$ (the log-dependence on x) is\n",
    "\n",
    "$$ lp(x) \\propto - \\frac{1} {2\\sigma^2} (x-\\mu)^2 \\propto - \\frac{1} {2\\sigma^2}x^2 +  \\frac{\\mu} {\\sigma^2} x $$\n",
    "\n",
    "So if we can force the log-posterior conditional density into a quadratic form then the coefficient of $x$ will be $ \\frac{\\mu} {\\sigma^2}$ and the coefficient of $ x^2 $ will be $ - \\frac{1} {2\\sigma^2} $.\n",
    "\n",
    "Hence $ lp(\\mu) $ is \n",
    "\n",
    "\\begin{eqnarray}\n",
    "lp(\\mu) &\\propto& -  \\frac {1} {2\\sigma^2} \\sum_{i=1}^N \\left(y_i- \\mu \\right)^2 \\\\\n",
    "&=&  -  \\frac {1} {2\\sigma^2} \\sum_{i=1}^N \\left(y_i^2 - 2y_i\\mu + \\mu^2 \\right) \\\\\n",
    "&\\propto&  -  \\frac {N} {2\\sigma^2} \\mu^2 + \\left(\\frac{1} {\\sigma^2} \\sum_{i=1}^N y_i\\right)\\mu \\\\\n",
    "\\end{eqnarray}\n",
    "\n",
    "This expression is quadratic in $\\mu$, meaning the conditional sampling density for $\\mu$ will also be normal. The coefficient of $ \\mu$ is $ \\frac{1} {\\sigma^2} \\sum_{i=1}^N y_i $ while the coefficient of $ \\mu^2 $ is $ -  \\frac {N} {2\\sigma^2}$. This implies the conditional sampling distribution of $ \\mu$ is \n",
    "\n",
    "$$ \\mu | \\sigma, Y \\sim \\mathcal{N}\\left( \\frac{1} {N} \\sum_{i=1}^N (y_i), \\frac {\\sigma^2} {N} \\right)$$\n",
    "\n"
   ]
  },
  {
   "cell_type": "code",
   "execution_count": 16,
   "metadata": {
    "collapsed": true
   },
   "outputs": [],
   "source": [
    "def sample_mu(y, s):\n",
    "    N = len(y)\n",
    "    mean = np.sum(y) / N\n",
    "    variance = s * s / N\n",
    "    return np.random.normal(mean, np.sqrt(variance))"
   ]
  },
  {
   "cell_type": "markdown",
   "metadata": {},
   "source": [
    "## Update for s\n",
    "\n",
    "\n",
    "We are interested in finding\n",
    "\n",
    "$$ p(\\sigma | \\mu, Y) \\propto p(Y | \\mu, \\sigma) $$\n",
    "\n",
    "\n",
    "\n"
   ]
  },
  {
   "cell_type": "code",
   "execution_count": null,
   "metadata": {
    "collapsed": true
   },
   "outputs": [],
   "source": []
  },
  {
   "cell_type": "code",
   "execution_count": null,
   "metadata": {
    "collapsed": true
   },
   "outputs": [],
   "source": []
  },
  {
   "cell_type": "code",
   "execution_count": null,
   "metadata": {
    "collapsed": true
   },
   "outputs": [],
   "source": []
  },
  {
   "cell_type": "code",
   "execution_count": 10,
   "metadata": {},
   "outputs": [
    {
     "name": "stdout",
     "output_type": "stream",
     "text": [
      "model 2a\n",
      "       mean      se_mean        sd      2.5%      25%      50%      75%    97.5%    n_eff     Rhat\n",
      "mu 1.307905 0.0009655421 0.1756840 0.9634475 1.189366 1.308708 1.427303 1.652775 33107.17 1.000021\n",
      "s  1.752572 0.0007169266 0.1265588 1.5272902 1.663740 1.744615 1.832487 2.024040 31162.72 1.000007\n",
      "\n",
      "model 2b\n",
      "       mean     se_mean        sd      2.5%      25%      50%      75%    97.5%    n_eff     Rhat\n",
      "mu 1.310476 0.002452783 0.4077607 0.5089039 1.041285 1.310512 1.577748 2.117387 27637.11 1.000143\n",
      "s  1.878565 0.001913403 0.3144175 1.3825179 1.656800 1.839398 2.058361 2.596761 27002.27 1.000107\n",
      "\n",
      "           WAIC     WBIC\n",
      "model2 1.980418 201.2776\n",
      "\n"
     ]
    }
   ],
   "source": [
    "from subprocess import check_output\n",
    "\n",
    "print(check_output([\"Rscript\", \"run.r\"]).decode(\"utf8\"))"
   ]
  }
 ],
 "metadata": {
  "kernelspec": {
   "display_name": "Python 3",
   "language": "python",
   "name": "python3"
  },
  "language_info": {
   "codemirror_mode": {
    "name": "ipython",
    "version": 3
   },
   "file_extension": ".py",
   "mimetype": "text/x-python",
   "name": "python",
   "nbconvert_exporter": "python",
   "pygments_lexer": "ipython3",
   "version": "3.6.0"
  }
 },
 "nbformat": 4,
 "nbformat_minor": 2
}
