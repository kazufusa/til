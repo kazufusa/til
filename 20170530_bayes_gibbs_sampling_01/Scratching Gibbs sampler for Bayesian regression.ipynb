{
 "cells": [
  {
   "cell_type": "markdown",
   "metadata": {},
   "source": [
    "# Scratching Gibbs sampler for Bayesian regression"
   ]
  },
  {
   "cell_type": "markdown",
   "metadata": {},
   "source": [
    "## Data description\n",
    "\n",
    "100 points(yi,i=1,…,N) generated from a mixture distribution of two normal distributions with R.\n",
    "\n",
    "\n",
    "```R\n",
    "N      <- 100\n",
    "a_true <- 0.4\n",
    "mean1  <- 0\n",
    "mean2  <- 3\n",
    "sd1    <- 1\n",
    "sd2    <- 1\n",
    "Y      <- c(rnorm((1-a_true)*N, mean1, sd1), rnorm(a_true*N, mean2, sd2))\n",
    "data   <- list(N=N, Y=Y)\n",
    "\n",
    "write.table(Y, file=\"points.csv\", sep=\",\", row.names=F, col.names=F)\n",
    "```\n",
    "\n",
    "## Model (single normal distribution)\n",
    "\n",
    "Here we wish to find the posterior distributions of the coefficients mu(the mean) and s(the standard deviation) of a single normal distribution. The model can be written as\n",
    "\n",
    "$$y_i \\sim \\mathcal{N}(\\mu, \\sigma^2)$$\n",
    "\n",
    "The likelihood for this model may be written as the product over N iid observations\n",
    "\n",
    "$$L(y_1, \\ldots, y_N | \\mu, \\sigma) = \\prod_{i = 1}^N \\mathcal{N}(\\mu, \\sigma^2)$$\n",
    "\n",
    "We place priors on mu and s.\n",
    "\n",
    "$$\\mu \\sim uniform(-\\infty, \\infty) $$\n",
    "\n",
    "$$\\sigma \\sim uniform(0, \\infty) $$\n",
    "\n",
    "and then $$ p(\\mu)=constant$$ $$p(\\sigma) = constant $$"
   ]
  },
  {
   "cell_type": "markdown",
   "metadata": {},
   "source": [
    "## Pythonic setup"
   ]
  },
  {
   "cell_type": "code",
   "execution_count": 1,
   "metadata": {
    "collapsed": true
   },
   "outputs": [],
   "source": [
    "import numpy as np\n",
    "np.random.seed(0)\n",
    "\n",
    "import scipy as sp\n",
    "\n",
    "import pandas as pd\n",
    "pd.set_option('display.width', 200)\n",
    "\n",
    "% matplotlib inline\n",
    "from seaborn import plt\n",
    "plt.rcParams['figure.figsize'] = (10, 5)"
   ]
  },
  {
   "cell_type": "markdown",
   "metadata": {},
   "source": [
    "## The basis of Gibbs sampling\n",
    "\n",
    "[Gibbs sampling](https://en.wikipedia.org/wiki/Gibbs_sampling) works as follows: suppose we have N parameters $ \\theta_j, j=1,...,n $, and data X, and we want to find the posterior distribution of $ p(\\theta_j | x) $. To do this in a Gibbs sampling regime we need to work out the conditional distributions $ p(\\theta_j|\\theta_1, ...\\theta_{j-1}, \\theta_{j+1}, ..., \\theta_n, x) $ for all $\\theta_j $.\n",
    "\n",
    "1. Begin with some initial value $ \\theta_j^{(i)}$.\n",
    "2. Sample $ \\theta_j^{(i+1)} \\sim p(\\theta_j|\\theta_1^{(i+1)},... \\theta_{j-1}^{(i+1)},\\theta_{j+1}^{(i)}, ..., \\theta_n^{(i)}, x) $ for all j.\n",
    "3. Repeat the above step.\n",
    "\n",
    "\n",
    "In step 2, for example, sample $ \\theta_1^{(i+1)} \\sim p(\\theta_j|\\theta_2^{(i)}, ..., \\theta_n^{(i)}, x) $ for $j=1 $, and sample $ \\theta_2^{(i+1)} \\sim p(\\theta_j|\\theta_1^{(i+1)}, \\theta_3^{(i)}, ..., \\theta_n^{(i)}, x) $ for $j=2$.\n",
    "\n",
    "## Deriving Gibbs sampler\n",
    "\n",
    "### Update for mu\n",
    "\n",
    "I am interested in finding\n",
    "\n",
    "\\begin{eqnarray}\n",
    "p(\\mu | \\sigma, Y) &=& \\frac {p(\\mu, \\sigma, Y)} {p(\\sigma, Y)} \\\\\n",
    "&\\propto& p(Y | \\mu, \\sigma) p(\\mu) p(\\sigma) \\\\\n",
    "&\\propto& p(Y | \\mu, \\sigma) \\\\\n",
    "\\end{eqnarray}\n",
    "\n",
    "Note that $p(Y | \\mu, \\sigma)$ is just the likelihood of the posterior from above. \n",
    "\n",
    "If a variable x follows a normal distribution with mean $\\mu$ and variance $\\sigma^2$ then $ lp(x)$ (the log-dependence on x) is\n",
    "\n",
    "$$ lp(x) \\propto - \\frac{1} {2\\sigma^2} (x-\\mu)^2 \\propto - \\frac{1} {2\\sigma^2}x^2 +  \\frac{\\mu} {\\sigma^2} x $$\n",
    "\n",
    "So if we can force the log-posterior conditional density into a quadratic form then the coefficient of $x$ will be $ \\frac{\\mu} {\\sigma^2}$ and the coefficient of $ x^2 $ will be $ - \\frac{1} {2\\sigma^2} $.\n",
    "\n",
    "Hence $ lp(\\mu) $ is \n",
    "\n",
    "\\begin{eqnarray}\n",
    "lp(\\mu) &\\propto& -  \\frac {1} {2\\sigma^2} \\sum_{i=1}^N \\left(y_i- \\mu \\right)^2 \\\\\n",
    "&=&  -  \\frac {1} {2\\sigma^2} \\sum_{i=1}^N \\left(y_i^2 - 2y_i\\mu + \\mu^2 \\right) \\\\\n",
    "&\\propto&  -  \\frac {N} {2\\sigma^2} \\mu^2 + \\left(\\frac{1} {\\sigma^2} \\sum_{i=1}^N y_i\\right)\\mu \\\\\n",
    "\\end{eqnarray}\n",
    "\n",
    "This expression is quadratic in $\\mu$, meaning the conditional sampling density for $\\mu$ will also be normal. The coefficient of $ \\mu$ is $ \\frac{1} {\\sigma^2} \\sum_{i=1}^N y_i $ while the coefficient of $ \\mu^2 $ is $ -  \\frac {N} {2\\sigma^2}$. This implies the conditional sampling distribution of $ \\mu$ is \n",
    "\n",
    "$$ \\mu | \\sigma, Y \\sim \\mathcal{N}\\left( \\frac{1} {N} \\sum_{i=1}^N (y_i), \\frac {\\sigma^2} {N} \\right)$$\n",
    "\n",
    "I turn into a python function:"
   ]
  },
  {
   "cell_type": "code",
   "execution_count": 2,
   "metadata": {
    "collapsed": true
   },
   "outputs": [],
   "source": [
    "def sample_mu(y, N, s):\n",
    "    mean = np.sum(y) / N\n",
    "    variance = s * s / N\n",
    "    return np.random.normal(mean, np.sqrt(variance))"
   ]
  },
  {
   "cell_type": "markdown",
   "metadata": {},
   "source": [
    "### Update for s\n",
    "\n",
    "\n",
    "The probability of $ p(\\sigma | \\mu, Y) $ is\n",
    "\n",
    "$$ p(\\sigma | \\mu, Y) \\propto p(Y | \\mu, \\sigma) $$\n",
    "\n",
    "and similarly to $ lp(\\mu) $, the dependence of the conditional log-posterior $ lp(\\sigma) $ is given by\n",
    "\n",
    "\\begin{eqnarray}\n",
    "lp(\\sigma) &=& Nlog\\left( \\frac {1} {\\sqrt{2\\pi\\sigma^2}}\\right) -  \\frac {1} {2\\sigma^2} \\sum_{i=1}^N \\left(y_i- \\mu \\right)^2 \\\\\n",
    "&\\propto& -Nlog\\sigma -  \\frac {1} {2\\sigma^2} \\sum_{i=1}^N \\left(y_i- \\mu \\right)^2 \\\\\n",
    "\\end{eqnarray}\n",
    "\n",
    "Here we introduce the Gamma distribution, parametrised by $ \\alpha$ and $\\beta$. Up to the normalising constant the probability of an observation x under a Gamma density is given by $ p(x; \\alpha, \\beta) \\propto \\beta^\\alpha x^{\\alpha-1}e^{-\\beta x} $ ([Gamma distribution:wikipedia](https://en.wikipedia.org/wiki/Gamma_distribution)), therefore the log-dependency of any terms invloving x is given by\n",
    "\n",
    "$$ lp(x; \\alpha, \\beta) \\propto (\\alpha - 1)logx - \\beta x $$\n",
    "\n",
    "Now we change the $ \\sigma $ to $\\tau = 1/\\sigma^2$ (the precision of distribution), and $ lp(\\tau) $ is\n",
    "\n",
    "$$ lp(\\tau) \\propto \\frac{N} {2} log\\tau -  \\frac {\\tau} {2} \\sum_{i=1}^N \\left(y_i- \\mu \\right)^2 $$\n",
    "\n",
    "which has a coefficient of $ \\tau $ of $ -  \\frac {\\sum_{i=1}^N \\left(y_i- \\mu \\right)^2} {2}$ and a coefficient of $log\\tau$ of $ \\frac {N} { 2} $. If you look at the equation of the log-density of the Gamma distribution above, this implies the $ \\tau $ as a conditional samling density of \n",
    "\n",
    "$$ \\tau | \\mu, Y \\sim Gamma \\left(\\frac{N} {2}+1, \\frac {\\sum_{i=1}^N \\left(y_i- \\mu \\right)^2} {2}  \\right) $$\n",
    "\n",
    "I can now code this into python. np.random.gamma uses the shape and scale parameterisation of a Gamma distribution, where the shape $k = \\alpha$ but the scale $\\theta=1/\\beta $, hence we need to invert our expression for $\\beta$ before sampling:"
   ]
  },
  {
   "cell_type": "code",
   "execution_count": 3,
   "metadata": {
    "collapsed": true
   },
   "outputs": [],
   "source": [
    "def sample_s(y, N, mu):\n",
    "    alpha = N / 2 + 1\n",
    "    residuals = y - mu\n",
    "    beta = np.sum(residuals * residuals) / 2\n",
    "    tau = np.random.gamma(alpha, 1 / beta)\n",
    "    return 1 / np.sqrt(tau)"
   ]
  },
  {
   "cell_type": "markdown",
   "metadata": {
    "collapsed": true
   },
   "source": [
    "## Writing the Gibbs sampler\n",
    "\n",
    "Now we ready to write the Gibbs sampler. Apart from the data we need to supply initial parameter estimates."
   ]
  },
  {
   "cell_type": "code",
   "execution_count": 4,
   "metadata": {},
   "outputs": [
    {
     "name": "stdout",
     "output_type": "stream",
     "text": [
      "{'mu': 9.762700785464943, 's': 71.51893663724195}\n"
     ]
    }
   ],
   "source": [
    "init = {\"mu\": np.random.uniform(-100, 100), \"s\": np.random.uniform(0, 100)}\n",
    "print(init)"
   ]
  },
  {
   "cell_type": "code",
   "execution_count": 5,
   "metadata": {
    "collapsed": true
   },
   "outputs": [],
   "source": [
    "def gibbs(y, iters, init):\n",
    "    mu = init[\"mu\"]\n",
    "    s = init[\"s\"]\n",
    "    N = len(y)\n",
    "    \n",
    "    trace = np.zeros((iters, 2)) ## trace to store values of mu, s\n",
    "    log_likelihoods = np.zeros((iters, N))\n",
    "    \n",
    "    for i in range(iters):\n",
    "        mu = sample_mu(y, N, s)\n",
    "        s = sample_s(y, N, mu)\n",
    "        trace[i, :] = np.array((mu, s))\n",
    "        \n",
    "        norm = sp.stats.norm(mu, s)\n",
    "        log_likelihoods[i, :] = np.array([np.log(norm.pdf(x)) for x in y])\n",
    "    \n",
    "    trace = pd.DataFrame(trace)\n",
    "    trace.columns = ['mu', 's']\n",
    "    \n",
    "    log_likelihoods = pd.DataFrame(log_likelihoods)\n",
    "    \n",
    "    return trace, log_likelihoods"
   ]
  },
  {
   "cell_type": "code",
   "execution_count": 6,
   "metadata": {
    "collapsed": true
   },
   "outputs": [],
   "source": [
    "iters = 1000\n",
    "y = np.array([float(x) for x in open(\"points.csv\", \"r\").read().strip().split(\"\\n\")])\n",
    "trace, log_likelihoods = gibbs(y, iters, init)"
   ]
  },
  {
   "cell_type": "code",
   "execution_count": 7,
   "metadata": {},
   "outputs": [
    {
     "data": {
      "text/plain": [
       "<matplotlib.text.Text at 0x7f51a7d79e80>"
      ]
     },
     "execution_count": 7,
     "metadata": {},
     "output_type": "execute_result"
    },
    {
     "data": {
      "image/png": "[encoded data removed]",
      "text/plain": [
       "<matplotlib.figure.Figure at 0x7f51dc232320>"
      ]
     },
     "metadata": {},
     "output_type": "display_data"
    }
   ],
   "source": [
    "traceplot = trace.plot()\n",
    "traceplot.set_xlabel(\"Iteration\")\n",
    "traceplot.set_ylabel(\"Parameter value\")"
   ]
  },
  {
   "cell_type": "code",
   "execution_count": 8,
   "metadata": {},
   "outputs": [
    {
     "data": {
      "image/png": "[encoded data removed]",
      "text/plain": [
       "<matplotlib.figure.Figure at 0x7f51a78d5d68>"
      ]
     },
     "metadata": {},
     "output_type": "display_data"
    }
   ],
   "source": [
    "trace_burnt = trace[int(len(trace)/2):]\n",
    "hist_plot = trace_burnt.hist(bins = 30, layout = (1,3))"
   ]
  },
  {
   "cell_type": "markdown",
   "metadata": {},
   "source": [
    "I code the WAIC and WBIC functions."
   ]
  },
  {
   "cell_type": "code",
   "execution_count": 9,
   "metadata": {
    "collapsed": true
   },
   "outputs": [],
   "source": [
    "def waic(log_likelihoods):\n",
    "    training_error = -np.log(np.exp(log_likelihoods).mean(axis=0)).mean()\n",
    "    functional_variance_div_N = (np.power(log_likelihoods, 2).mean(axis=0) -\n",
    "                                 np.power(log_likelihoods.mean(axis=0),2)).mean()\n",
    "    return training_error + functional_variance_div_N\n",
    "\n",
    "def wbic(log_likelihoods):\n",
    "    return -log_likelihoods.sum(axis=1).mean()\n"
   ]
  },
  {
   "cell_type": "markdown",
   "metadata": {},
   "source": [
    "I can report the descriptive statistics of mu and s, and WAIC/WBIC of current model(single normal distribution)."
   ]
  },
  {
   "cell_type": "code",
   "execution_count": 10,
   "metadata": {},
   "outputs": [
    {
     "name": "stdout",
     "output_type": "stream",
     "text": [
      "    count      mean       std       min       25%       50%       75%       max\n",
      "mu  500.0  1.314384  0.165117  0.853459  1.200782  1.316549  1.424733  1.754463\n",
      "s   500.0  1.733935  0.116493  1.454162  1.655527  1.731396  1.808994  2.147940\n",
      "waic: 1.98232361435\n",
      "wbic: 197.277414498\n"
     ]
    }
   ],
   "source": [
    "print(trace_burnt.describe().T)\n",
    "print(\"waic:\", waic(log_likelihoods))\n",
    "print(\"wbic:\", wbic(log_likelihoods))"
   ]
  },
  {
   "cell_type": "markdown",
   "metadata": {},
   "source": [
    "## Compare to Rstan\n",
    "\n",
    "Finally we run the regression and WAIC/WBIC calculation with R and stan. The result and code are above. The result is similar to that of my scratched Gibbs sampling."
   ]
  },
  {
   "cell_type": "code",
   "execution_count": 11,
   "metadata": {},
   "outputs": [
    {
     "name": "stdout",
     "output_type": "stream",
     "text": [
      "# results of the single normal distribution model with Rstan\n",
      "       mean      se_mean        sd      2.5%      25%      50%      75%    97.5%    n_eff     Rhat\n",
      "mu 1.307905 0.0009655421 0.1756840 0.9634475 1.189366 1.308708 1.427303 1.652775 33107.17 1.000021\n",
      "s  1.752572 0.0007169266 0.1265588 1.5272902 1.663740 1.744615 1.832487 2.024040 31162.72 1.000007\n",
      "\n",
      "                              WAIC     WBIC\n",
      "single normal dist. model 1.980418 197.2299\n",
      "\n"
     ]
    }
   ],
   "source": [
    "from subprocess import check_output\n",
    "\n",
    "print(check_output([\"Rscript\", \"run.r\"]).decode(\"utf8\"))"
   ]
  },
  {
   "cell_type": "code",
   "execution_count": 12,
   "metadata": {},
   "outputs": [
    {
     "name": "stdout",
     "output_type": "stream",
     "text": [
      " 1 options(width=200)\n",
      " 2 set.seed(1)\n",
      " 3 \n",
      " 4 N      <- 100\n",
      " 5 a_true <- 0.4\n",
      " 6 mean1  <- 0\n",
      " 7 mean2  <- 3\n",
      " 8 sd1    <- 1\n",
      " 9 sd2    <- 1\n",
      "10 Y      <- c(rnorm((1-a_true)*N, mean1, sd1), rnorm(a_true*N, mean2, sd2))\n",
      "11 data   <- list(N=N, Y=Y)\n",
      "12 \n",
      "13 write.table(Y, file=\"points.csv\", sep=\",\", row.names=F, col.names=F)\n",
      "14 \n",
      "15 model2 <- \"\n",
      "16 data {\n",
      "17   int<lower=1> N;\n",
      "18   vector[N] Y;\n",
      "19 }\n",
      "20 \n",
      "21 parameters {\n",
      "22   real mu;\n",
      "23   real<lower=0> s;\n",
      "24 }\n",
      "25 \n",
      "26 model {\n",
      "27   Y ~ normal(mu, s);\n",
      "28 }\n",
      "29 \n",
      "30 generated quantities {\n",
      "31   vector[N] log_likelihood;\n",
      "32   real y_pred;\n",
      "33   for(n in 1:N)\n",
      "34     log_likelihood[n] = normal_lpdf(Y[n] | mu, s);\n",
      "35   y_pred = normal_rng(mu, s);\n",
      "36 }\n",
      "37 \"\n",
      "38 \n",
      "39 sink(file=\"/dev/null\")\n",
      "40 suppressMessages({\n",
      "41   library(rstan)\n",
      "42   fit2 <- stan(model_code=model2, data=data, iter=11000, warmup=1000, seed=123)\n",
      "43 })\n",
      "44 sink()\n",
      "45 cat(\"# results of the single normal distribution model with Rstan\\n\")\n",
      "46 print(summary(fit2)$summary[c(\"mu\", \"s\"), ])\n",
      "47 \n",
      "48 waic <- function(log_likelihood) {\n",
      "49   training_error <- - mean(log(colMeans(exp(log_likelihood))))\n",
      "50   functional_variance_div_N <- mean(colMeans(log_likelihood^2) - colMeans(log_likelihood)^2)\n",
      "51   waic <- training_error + functional_variance_div_N\n",
      "52   return(waic)\n",
      "53 }\n",
      "54 \n",
      "55 wbic <- function(log_likelihood){\n",
      "56   wbic <- - mean(rowSums(log_likelihood))\n",
      "57   return(wbic)\n",
      "58 }\n",
      "59 \n",
      "60 ret <- matrix(0, 1, 2)\n",
      "61 colnames(ret) <- c('WAIC', 'WBIC')\n",
      "62 rownames(ret) <- c('single normal dist. model')\n",
      "63 \n",
      "64 ret[1,1] <- waic(extract(fit2)$log_likelihood)\n",
      "65 ret[1,2] <- wbic(extract(fit2)$log_likelihood)\n",
      "66 cat(\"\\n\")\n",
      "67 ret\n"
     ]
    }
   ],
   "source": [
    "for n, i in enumerate(open(\"run.r\", \"r\"), 1):\n",
    "    print(\"{:2d} {}\".format(n, i), end=\"\")"
   ]
  },
  {
   "cell_type": "markdown",
   "metadata": {},
   "source": [
    "## references\n",
    "\n",
    "- http://kieranrcampbell.github.io/gibbs-sampling-bayesian-linear-regression/\n",
    "- http://statmodeling.hatenablog.com/entry/calc-waic-wbic"
   ]
  }
 ],
 "metadata": {
  "kernelspec": {
   "display_name": "Python 3",
   "language": "python",
   "name": "python3"
  },
  "language_info": {
   "codemirror_mode": {
    "name": "ipython",
    "version": 3
   },
   "file_extension": ".py",
   "mimetype": "text/x-python",
   "name": "python",
   "nbconvert_exporter": "python",
   "pygments_lexer": "ipython3",
   "version": "3.6.0"
  }
 },
 "nbformat": 4,
 "nbformat_minor": 2
}
