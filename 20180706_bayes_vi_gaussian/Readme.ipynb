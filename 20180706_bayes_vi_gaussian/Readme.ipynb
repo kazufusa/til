{
 "cells": [
  {
   "cell_type": "markdown",
   "metadata": {},
   "source": [
    "# 1変数ガウス分布の推定式の導出\n",
    "\n",
    "1. http://statmodeling.hatenablog.com/entry/variational-bayesian-inference-1\n",
    "2. http://statmodeling.hatenablog.com/entry/variational-bayesian-inference-with-sympy\n",
    "\n",
    "上の記事を読んだ。variational inferenceという手法があって, これを使うとMCMCサンプリングをせずに事後分布を推定できるのだそうだ. これはとても素晴らしいことだと思う.\n",
    "参考文献としてPattern Recognizing and Machine Learningの10章を読むといいらしいが高額な書籍で手が出せない. 幸いにして日本語のレビュー記事やスライド資料がたくさんあるので, 別に本がなくても何とかなる."
   ]
  },
  {
   "cell_type": "markdown",
   "metadata": {},
   "source": [
    "variational inferenceはパラメータの事後分布$p(\\boldsymbol Z_{i} | \\boldsymbol X)$を以下で示される$q^{\\ast}(\\boldsymbol Z_{i})$で近似する. 証明は難しいので省略. 上の記事の1. に書いてある.\n",
    "\n",
    "$$\n",
    "        {\\rm ln}\\, q_j^{\\ast}(\\boldsymbol Z_j) =  \\mathbb{E}_{i\\neq j} [{\\rm ln}\\, p(\\boldsymbol X, \\boldsymbol Z)] + {\\rm const}\n",
    "$$\n",
    "\n",
    "$ \\boldsymbol X = \\{\\boldsymbol x_1, ..., \\boldsymbol x_N \\}$, $ \\boldsymbol Z = \\{\\boldsymbol z_1, ..., \\boldsymbol z_M \\}$はそれぞれ測定データと分布のパラメータである."
   ]
  },
  {
   "cell_type": "markdown",
   "metadata": {},
   "source": [
    "今回はvariational inferenceで1変数ガウス分布のパラメータ推定を行う.\n",
    "\n",
    "まずは何はなくとも尤度関数である.\n",
    "\n",
    "\n",
    "$$\n",
    "\\begin{eqnarray}\n",
    "p(\\boldsymbol X \\mid \\mu, \\tau) &=& \\prod_{i=1}^N \\left(\n",
    "    \\left( \\frac {\\tau} {2\\pi} \\right)^{ \\frac {1} {2} }\n",
    "    exp \\left( - \\frac {\\tau} {2} \\left( x_i - \\mu \\right)^2 \\right)\n",
    "\\right)\\\\\n",
    "&=&  \\left( \\frac {\\tau} {2\\pi} \\right)^{ \\frac {N} {2} }\n",
    "     \\prod_{i=1}^N exp \\left( - \\frac {\\tau} {2} \\left( x_i - \\mu \\right)^2 \\right)\n",
    "\\end{eqnarray}\n",
    "$$\n",
    "\n",
    "続いて平均$\\mu$とprecision/精度$\\tau$の事前分布である. $\\mu_0, \\lambda_0, a_0, b_0$は事前分布のパラメータである. precisionは分散の逆数なのだが, これを使うのは共役事前分布がガンマ分布になってくれるからだと思う. 分散を使うと逆ガンマ分布になるので, これが嫌なのだろう.\n",
    "\n",
    "$$\n",
    "\\begin{eqnarray}\n",
    "p\\left(\\mu \\mid \\tau \\right) &=& \\mathcal {N} \\left(\\mu \\mid \\mu_0, \\left(\\lambda_0\\tau\\right)^{-1} \\right)\n",
    "\\\\\n",
    "p\\left(\\tau\\right) &=& {\\rm Gamma} \\left(\\tau \\mid a_0, b_0 \\right)\\\\\n",
    "\\end{eqnarray}\n",
    "$$"
   ]
  },
  {
   "cell_type": "markdown",
   "metadata": {},
   "source": [
    "(1), (2), (3), (4)から$ {\\rm ln} \\, q_{\\mu}^{\\ast}(\\mu)$を求める. 対数を取ることで掛け算が足し算になるので, $\\mu$に関係ない項を次々にconstにまとめることができる. 共役事前分布を使っているので, 過去の例からして$\\mu$についてはガウス分布, $\\tau$についてはガンマ分布になるのだろうと予想できる. 手計算による規格化が不要なのでconstは未来永劫に無視できる.\n",
    "\n",
    "$$\n",
    "\\begin{eqnarray}\n",
    "{\\rm ln} \\, q_{\\mu}^{\\ast}(\\mu) &=& \\mathbb{E}_{\\tau} \\lbrack{\\rm ln}\\, p(\\boldsymbol X, \\mu, \\tau)\\rbrack \\\\\n",
    "&=& \\mathbb{E}_{\\tau} \\lbrack{\\rm ln} \\left(\n",
    "    p(\\boldsymbol X \\mid \\mu, \\tau)\n",
    "    p\\left(\\mu \\mid \\tau \\right)\n",
    "    p\\left(\\tau\\right)\n",
    "\\right)\\rbrack \\\\\n",
    "&=&  \\mathbb{E}_{\\tau} \\left\\lbrack\n",
    "    {\\rm ln} \\left( p\\left(\\boldsymbol X \\mid \\mu, \\tau\\right) \\right) +\n",
    "    {\\rm ln} \\left( p\\left(\\mu \\mid \\tau \\right)\n",
    "\\right)\\right\\rbrack + {\\rm const} \\\\\n",
    "&=&  \\mathbb{E}_{\\tau} \\left\\lbrack\n",
    "    \\sum_{i=1}^N  \\left( - \\frac {\\tau} {2} \\left( x_i - \\mu \\right)^2 \\right) +\n",
    "    \\left( - \\frac {\\lambda_0\\tau} {2} \\left( \\mu - \\mu_0 \\right)^2 \\right)\n",
    "\\right\\rbrack + {\\rm const} \\\\\n",
    "&=&  - \\frac{\\mathbb{E} \\lbrack\\tau\\rbrack} {2}\n",
    "\\left(\n",
    "    \\sum_{i=1}^N \\left( x_i - \\mu \\right)^2 +\n",
    "    \\lambda_{0} \\left( \\mu - \\mu_0 \\right)^2\n",
    "\\right)  + {\\rm const} \\\\\n",
    "\\end{eqnarray}\n",
    "$$"
   ]
  },
  {
   "cell_type": "markdown",
   "metadata": {},
   "source": [
    "$ {\\rm ln} \\, q_{\\mu}^{\\ast}(\\mu)$ が$\\mu$の二次式なので, $ q_{\\mu}^{\\ast}(\\mu)$ はガウス分布 $ \\mathcal {N} \\left(\\mu \\mid \\mu_N, \\lambda_{N}^{-1} \\right) $となる. 各パラメータは$ {\\rm ln} \\, q_{\\mu}^{\\ast}(\\mu)$の$\\mu$の各係数から下のように得られる.\n",
    "\n",
    "$$ \n",
    "2次の係数: - \\frac{\\mathbb{E} \\lbrack\\tau\\rbrack} {2} \\left( \\lambda_{0} + N \\right) = - \\frac {\\lambda_{N}} {2} \\\\\n",
    "1次の係数: \\mathbb{E} \\lbrack\\tau\\rbrack\\left( \\lambda_{0}\\mu_0 + N \\bar{x} \\right) = \\lambda_{N}\\mu_{N}\n",
    "$$\n",
    "\n",
    "$$\n",
    "\\begin{eqnarray}\n",
    "\\lambda_{N} &=& \\mathbb{E} \\lbrack\\tau\\rbrack \\left( \\lambda_{0} + N \\right)  \\\\\n",
    "\\mu_{N} &=& \\frac {  \\lambda_{0}\\mu_0 + N \\bar{x} } { \\lambda_{0} + N}\n",
    "\\end{eqnarray}\n",
    "$$"
   ]
  },
  {
   "cell_type": "markdown",
   "metadata": {},
   "source": [
    "続いて$ {\\rm ln} \\, q_{\\tau}^{\\ast}(\\tau)$を求める. 以下のように$\\tau$の１次と対数となる.\n",
    "\n",
    "\n",
    "$$\n",
    "\\begin{eqnarray}\n",
    "{\\rm ln} \\, q_{\\tau}^{\\ast}(\\tau) &=& \\mathbb{E}_{\\mu} \\lbrack{\\rm ln}\\, p(\\boldsymbol X, \\mu, \\tau)\\rbrack \\\\\n",
    "&=& \\mathbb{E}_{\\mu} \\lbrack{\\rm ln} \\left(\n",
    "    p(\\boldsymbol X \\mid \\mu, \\tau)\n",
    "    p\\left(\\mu \\mid \\tau \\right)\n",
    "    p\\left(\\tau\\right)\n",
    "\\right)\\rbrack \\\\\n",
    "&=& \\mathbb{E}_{\\mu} \\lbrack\n",
    "    {\\rm ln} \\left( p\\left(\\boldsymbol X \\mid \\mu, \\tau\\right)\\right) + \n",
    "    {\\rm ln} \\left( p\\left(\\mu \\mid \\tau \\right)\\right) + \n",
    "    {\\rm ln} \\left( p\\left(\\tau\\right) \\right)\n",
    "\\rbrack \\\\\n",
    "&=& \\mathbb{E}_{\\mu} \\lbrack\n",
    "    \\left(\\frac {N} {2} {\\rm ln} \\,\\tau - \\frac {\\tau} {2} \\sum_{i=1}^N \\left(x_{i}- \\mu \\right)^2\\right) +\n",
    "    \\left(\\frac {1} {2} {\\rm ln} \\,\\tau - \\frac {\\lambda_{0}\\tau} {2} \\left(\\mu- \\mu_{0} \\right)^2\\right) +\n",
    "    \\left(\\left(\\alpha_{0}−1\\right){\\rm ln} \\,\\tau − \\beta_{0} \\tau\\right)\n",
    "\\rbrack + {\\rm const} \\\\\n",
    "&=&\n",
    "    \\left(\\frac {N-1} {2} + \\alpha_{0} \\right){\\rm ln} \\,\\tau +\n",
    "    \\mathbb{E}_{\\mu} \\left\\lbrack\n",
    "        - \\frac {1} {2} \\sum_{i=1}^N \\left(x_{i}- \\mu \\right)^2\n",
    "        - \\frac {\\lambda_{0}} {2} \\left(\\mu- \\mu_{0} \\right)^2\n",
    "        − \\beta_{0}\n",
    "    \\right\\rbrack \\tau + {\\rm const} \\\\\n",
    "&=&\n",
    "    \\left(\\frac {N-1} {2} + \\alpha_{0} \\right){\\rm ln} \\,\\tau\n",
    "    -\\left(\n",
    "        \\frac {1} {2} \\mathbb{E}_{\\mu} \\left \\lbrack\n",
    "            \\sum_{i=1}^N \\left(x_{i}- \\mu \\right)^2 +\n",
    "            \\lambda_{0} \\left(\\mu- \\mu_{0} \\right)^2\n",
    "        \\right\\rbrack + \\beta_{0} \\right) \\tau + {\\rm const} \\\\\n",
    "&=&\n",
    "    \\left(\\frac {N-1} {2} + \\alpha_{0} \\right){\\rm ln} \\,\\tau\n",
    "    -\\left(\n",
    "        \\frac {1} {2} \\mathbb{E}_{\\mu} \\left\\lbrack\n",
    "            \\sum_{i=1}^N \\left( x_{i}^{2} - 2 x_{i}\\mu + \\mu^{2} \\right) +\n",
    "            \\lambda_{0} \\left(\\mu^{2} - 2\\mu_{0}\\mu + \\mu_{0}^{2} \\right)\n",
    "        \\right\\rbrack + \\beta_{0} \\right) \\tau + {\\rm const} \\\\\n",
    "&=&\n",
    "    \\left(\\frac {N-1} {2} + \\alpha_{0} \\right){\\rm ln} \\,\\tau\n",
    "    -\\left(\n",
    "        \\frac {N + \\lambda_{0}} {2} \\mathbb{E} \\lbrack\\mu^{2} \\rbrack\n",
    "        - \\left(N\\bar{x} + \\lambda_{0}\\mu_{0}\\right) \\mathbb{E} \\lbrack\\mu \\rbrack\n",
    "        + \\frac {N\\bar{x^{2}} + \\lambda_{0} \\mu_{0}^{2}} {2} + \\beta_{0} \\right) \\tau + {\\rm const} \\\\\n",
    "&=&\n",
    "    \\left(\\frac {N-1} {2} + \\alpha_{0} \\right){\\rm ln} \\,\\tau\n",
    "    -\\left(\n",
    "        \\frac {N + \\lambda_{0}} {2} \\left( \\mathbb{E} \\lbrack\\mu \\rbrack^2 + \\frac{1} {\\lambda_{N}} \\right)\n",
    "        - \\left(N\\bar{x} + \\lambda_{0}\\mu_{0}\\right) \\mathbb{E} \\lbrack\\mu \\rbrack\n",
    "        + \\frac {N\\bar{x^{2}} + \\lambda_{0} \\mu_{0}^{2}} {2} + \\beta_{0} \\right) \\tau + {\\rm const} \\\\\n",
    "&=&\n",
    "    \\left(\\frac {N-1} {2} + \\alpha_{0} \\right){\\rm ln} \\,\\tau\n",
    "    -\\left(\n",
    "        \\frac {N + \\lambda_{0}} {2} \\mathbb{E} \\lbrack\\mu \\rbrack^2\n",
    "        - \\left(N\\bar{x} + \\lambda_{0}\\mu_{0}\\right) \\mathbb{E} \\lbrack\\mu \\rbrack\n",
    "        + \\frac {N + \\lambda_{0}} {2\\lambda_{N}}\n",
    "        + \\frac {N\\bar{x^{2}} + \\lambda_{0} \\mu_{0}^{2}} {2} + \\beta_{0} \\right) \\tau + {\\rm const} \\\\\n",
    "\\end{eqnarray}\n",
    "$$"
   ]
  },
  {
   "cell_type": "markdown",
   "metadata": {},
   "source": [
    "これはガンマ分布( $ {\\rm ln } \\, q^{\\ast}\\left(\\tau \\mid \\alpha_{N}, \\beta_{N} \\right)=(\\alpha_{N}−1) {\\rm ln} \\, \\tau−\\beta_{N} \\tau + {\\rm const}$ )であり, パラメータ $\\alpha_{N}, \\beta_{N} $は以下となる.\n",
    "\n",
    "$$\n",
    "\\begin{eqnarray}\n",
    "\\alpha_{N} &=&\n",
    "    \\left(\\frac {N+1} {2} + \\alpha_{0} \\right)\\\\\n",
    "\\beta_{N} &=& \\frac {N + \\lambda_{0}} {2} \\mathbb{E} \\lbrack\\mu \\rbrack^2\n",
    "        - \\left(N\\bar{x} + \\lambda_{0}\\mu_{0}\\right) \\mathbb{E} \\lbrack\\mu \\rbrack\n",
    "        + \\frac {N + \\lambda_{0}} {2\\lambda_{N}}\n",
    "        + \\frac {N\\bar{x^{2}} + \\lambda_{0} \\mu_{0}^{2}} {2} + \\beta_{0} \\\\\n",
    "\\end{eqnarray}\n",
    "$$\n",
    "\n",
    "できた."
   ]
  },
  {
   "cell_type": "markdown",
   "metadata": {},
   "source": [
    "## とりあえず実験\n",
    "\n",
    "$q^{*}(\\mu)$と$q^{*}(\\tau)$のいずれもお互いの期待値を含んでいる. こういう場合は連立方程式として解くか, 適当な初期値を与えて$\\mathbb{E}\\lbrack\\mu\\rbrack$と$\\mathbb{E}\\lbrack\\tau\\rbrack$を順繰りに算出するのを適当な回数こなす方法があるという. 数値的に解く場合は, 収束することは証明されているらしい.\n",
    "\n",
    "実際に実験してみる. まず準備"
   ]
  },
  {
   "cell_type": "code",
   "execution_count": 1,
   "metadata": {},
   "outputs": [],
   "source": [
    "%matplotlib inline\n",
    "import numpy as np\n",
    "import scipy as sp\n",
    "from scipy import stats\n",
    "\n",
    "import pandas as pd\n",
    "pd.set_option('display.width', 200)\n",
    "import matplotlib.pyplot as plt\n",
    "plt.style.use('ggplot')\n",
    "\n",
    "import base64\n",
    "from itertools import chain\n",
    "import tempfile\n",
    "import os\n",
    "import subprocess\n",
    "import warnings\n",
    "warnings.filterwarnings('ignore')\n",
    "\n",
    "import sympy\n",
    "import sympy.stats"
   ]
  },
  {
   "cell_type": "markdown",
   "metadata": {},
   "source": [
    "事後分布のパラメータを更新する関数を用意する."
   ]
  },
  {
   "cell_type": "code",
   "execution_count": 2,
   "metadata": {},
   "outputs": [],
   "source": [
    "def update_mu(N, meanX, meanX2, mu0, lambda0, a0, b0, muN, lambdaN, aN, bN):\n",
    "    lambdaN = aN / bN * (lambda0 + N)\n",
    "    muN = (lambda0 * mu0 + N * meanX) / (lambda0 + N)\n",
    "    return lambdaN, muN\n",
    "\n",
    "def update_tau(N, meanX, meanX2, mu0, lambda0, a0, b0, muN, lambdaN, aN, bN):\n",
    "    aN = (N + 1) / 2 + a0\n",
    "    bN = b0 + (N + lambda0) / 2 * muN * muN \\\n",
    "        - (N * meanX + lambda0 * mu0) * muN \\\n",
    "        + (N + lambda0) / (2 * lambdaN) + (N * meanX2 + lambda0 * mu0 * mu0) / 2\n",
    "    return aN, float(bN)"
   ]
  },
  {
   "cell_type": "markdown",
   "metadata": {},
   "source": [
    "とりあえず[StanModeling](http://statmodeling.hatenablog.com/entry/variational-bayesian-inference-with-sympy)と同じ条件で$q_{\\mu}^{\\ast}(\\mu), q_{\\tau}^{\\ast}(\\tau) $を推定してみる. $\\mu_{N}$の初期値を3, $\\lambda_{N}$の初期値を10として, パラメータを10回更新する."
   ]
  },
  {
   "cell_type": "code",
   "execution_count": 3,
   "metadata": {},
   "outputs": [
    {
     "name": "stdout",
     "output_type": "stream",
     "text": [
      "0.8500000000000001 1.0958904109589043 3.0 10.95\n",
      "0.8500000000000001 3.603603603603604 3.0 3.3299999999999996\n",
      "0.8500000000000001 5.825242718446603 3.0 2.0599999999999996\n",
      "0.8500000000000001 6.492335437330929 3.0 1.8483333333333332\n",
      "0.8500000000000001 6.618660946836219 3.0 1.8130555555555554\n",
      "0.8500000000000001 6.640194697066736 3.0 1.8071759259259257\n",
      "0.8500000000000001 6.643797285578193 3.0 1.8061959876543208\n",
      "0.8500000000000001 6.644398097084033 3.0 1.8060326646090534\n",
      "0.8500000000000001 6.644498242899829 3.0 1.8060054441015088\n",
      "0.8500000000000001 6.644514934162626 3.0 1.8060009073502514\n"
     ]
    }
   ],
   "source": [
    "X = pd.DataFrame([1.1, 1.0, 1.3])\n",
    "mu0 = 0\n",
    "lambda0 = 1\n",
    "a0 = 1\n",
    "b0 = 1\n",
    "N = X.size\n",
    "meanX = float(X.mean())\n",
    "meanX2 = float((X*X).mean())\n",
    "\n",
    "muN = 3\n",
    "lambdaN = 10\n",
    "aN = None\n",
    "bN = None\n",
    "\n",
    "for i in range(10):\n",
    "    aN, bN = update_tau(N, meanX, meanX2, mu0, lambda0, a0, b0, muN, lambdaN, aN, bN)\n",
    "    lambdaN, muN = update_mu(N, meanX, meanX2,  mu0, lambda0, a0, b0, muN, lambdaN, aN, bN)\n",
    "    print(muN, lambdaN, aN, bN)"
   ]
  },
  {
   "cell_type": "markdown",
   "metadata": {},
   "source": [
    "収束したらしい. 可視化してみると[StanModeling](http://statmodeling.hatenablog.com/entry/variational-bayesian-inference-with-sympy)と同じ結果が得られたらしいことが確認できた."
   ]
  },
  {
   "cell_type": "code",
   "execution_count": 4,
   "metadata": {},
   "outputs": [
    {
     "data": {
      "image/png": "[encoded data removed]",
      "text/plain": [
       "<Figure size 432x288 with 1 Axes>"
      ]
     },
     "metadata": {},
     "output_type": "display_data"
    }
   ],
   "source": [
    "delta = 0.05\n",
    "x = np.arange(-1.0, 3.0, delta)\n",
    "y = np.arange(0.0, 6.0, delta)\n",
    "X, Y = np.meshgrid(x, y)\n",
    "\n",
    "q_mu = lambda x: sp.stats.norm.pdf(x, muN, np.sqrt(1/lambdaN))\n",
    "q_tau = lambda x: sp.stats.gamma.pdf(x, a=aN, scale=1/bN)\n",
    "f = lambda x,y: q_mu(x) * q_tau(y)\n",
    "Z = f(X, Y)\n",
    "\n",
    "cs = plt.contour(X, Y, Z)\n",
    "plt.clabel(cs, inline=1, fontsize=10)\n",
    "plt.xlabel(r'$\\mu$')\n",
    "plt.ylabel(r'$\\tau$')\n",
    "plt.savefig(\"vi1_01.png\")"
   ]
  },
  {
   "cell_type": "markdown",
   "metadata": {},
   "source": [
    "## データ数を増やして実験\n",
    "\n",
    "適当な1変数正規分布から50点サンプリングして$ \\boldsymbol X $を用意する.　ここから分布のパラメータを推定し, 事後予測分布を作成して$ \\boldsymbol X $のヒストグラム, 事前分布と比較した. 追記:予測分布はサンプリングした."
   ]
  },
  {
   "cell_type": "code",
   "execution_count": 5,
   "metadata": {},
   "outputs": [
    {
     "data": {
      "image/png": "[encoded data removed]",
      "text/plain": [
       "<Figure size 432x288 with 1 Axes>"
      ]
     },
     "metadata": {},
     "output_type": "display_data"
    }
   ],
   "source": [
    "# data\n",
    "np.random.seed(0)\n",
    "X = pd.DataFrame(np.random.normal(1, 1, 50), columns=['sample'])\n",
    "N = X.size\n",
    "meanX = float(X.mean())\n",
    "meanX2 = float((X*X).mean())\n",
    "\n",
    "# prior distribution\n",
    "mu0 = 0\n",
    "lambda0 = 1\n",
    "a0 = 1\n",
    "b0 = 1\n",
    "\n",
    "# initial values\n",
    "muN = 3\n",
    "lambdaN = 10\n",
    "aN = None\n",
    "bN = None\n",
    "\n",
    "# estimate parameters\n",
    "for i in range(10):\n",
    "    aN, bN = update_tau(N, meanX, meanX2, mu0, lambda0, a0, b0, muN, lambdaN, aN, bN)\n",
    "    lambdaN, muN = update_mu(N, meanX, meanX2,  mu0, lambda0, a0, b0, muN, lambdaN, aN, bN)\n",
    "\n",
    "# prior distribution\n",
    "mu = np.random.normal(mu0, np.sqrt(1/lambda0), 2000)\n",
    "tau = np.random.gamma(a0, 1/b0, 2000)\n",
    "priorX = pd.DataFrame(np.random.normal(mu, np.sqrt(1/tau)), columns=['prior dist.'])\n",
    "\n",
    "# estimate posterior predicitive distribution\n",
    "mu = np.random.normal(muN, np.sqrt(1/lambdaN), 2000)\n",
    "tau = np.random.gamma(aN, 1/bN, 2000)\n",
    "postX = pd.DataFrame(np.random.normal(mu, np.sqrt(1/tau)), columns=['posterior\\npredictive dist.'])\n",
    "\n",
    "# plot\n",
    "ax = X.plot.hist(normed=True, bins=15)\n",
    "priorX.plot.kde(ax=ax)\n",
    "postX.plot.kde(ax=ax)\n",
    "ax.set_xlim(-10, 10)\n",
    "ax.set_xlabel('x')\n",
    "ax.set_ylabel(r'Density')\n",
    "plt.savefig(\"vi1_02.png\");"
   ]
  },
  {
   "cell_type": "markdown",
   "metadata": {},
   "source": [
    "それらしいように見える.\n",
    "\n",
    "１変数の１ガウス分布の推定ができたので, 次は多変数か混合分布についてやってみたい."
   ]
  },
  {
   "cell_type": "markdown",
   "metadata": {},
   "source": [
    "## 追記: 予測分布が解けない\n",
    "\n",
    "上では予測分布をサンプリングしたが試しに解けるかやってみた."
   ]
  },
  {
   "cell_type": "markdown",
   "metadata": {},
   "source": [
    "予測分布は次の積分となる. にわかには解けない.\n",
    "\n",
    "$$\n",
    "\\begin{eqnarray}\n",
    "p (\\hat x \\mid \\boldsymbol X)\n",
    "&=& \\int \\int\n",
    "    \\mathcal N(\\hat x \\mid \\mu, \\tau^{-1})\n",
    "    \\mathcal N(\\mu \\mid \\mu_{N}, \\lambda_{N}^{-1})\n",
    "    {\\rm Gamma} (\\tau \\mid \\alpha_{N}, \\beta_{N})\n",
    "    {\\rm d}\\mu {\\rm d}\\tau \\\\\n",
    "&=& \\int \\left( \\int\n",
    "        \\mathcal N(\\hat x \\mid \\mu, \\tau^{-1})\n",
    "        \\mathcal N(\\mu \\mid \\mu_{N}, \\lambda_{N}^{-1})\n",
    "        {\\rm d}\\mu \n",
    "    \\right)\n",
    "    {\\rm Gamma} (\\tau \\mid \\alpha_{N}, \\beta_{N})\n",
    "    {\\rm d}\\tau \\\\\n",
    "&=& \\int \\left( \\int\n",
    "        \\frac {\\tau \\lambda_{N}} {2\\pi}\n",
    "        {\\rm exp}\\left(\n",
    "            \\underbrace {\n",
    "                - \\frac {1} {2} \\left( \\tau \\left( \\hat x - \\mu \\right)^{2}\n",
    "                + \\lambda_{N} \\left( \\mu - \\mu_{N} \\right)^{2} \\right)\n",
    "            }_{=: A}\n",
    "        \\right)\n",
    "    {\\rm d}\\mu \n",
    "    \\right)\n",
    "    {\\rm Gamma} (\\tau \\mid \\alpha_{N}, \\beta_{N})\n",
    "    {\\rm d}\\tau \\\\\n",
    "\\end{eqnarray}\n",
    "$$"
   ]
  },
  {
   "cell_type": "markdown",
   "metadata": {},
   "source": [
    "とりあえず$A$を解く.\n",
    "\n",
    "$$\n",
    "\\begin{eqnarray}\n",
    "A &=& - \\frac {1} {2} \\left(\n",
    "    \\tau \\left( \\hat x - \\mu \\right)^{2}\n",
    "    + \\lambda_{N} \\left( \\mu - \\mu_{N} \\right)^{2}\n",
    "\\right) \\\\\n",
    "&=& - \\frac {1} {2} \\left(\n",
    "    \\tau \\hat x^2 - 2\\tau \\hat x \\mu + \\tau \\mu^2 + \\lambda_N \\mu^2 - 2\\lambda_N\\mu\\mu_N + \\lambda_N\\mu_N^2\n",
    "\\right)\\\\\n",
    "&=& - \\frac {1} {2} \\left(\n",
    "    \\left(\\tau + \\lambda_N\\right)\\mu^2 -2\\left(\\tau \\hat x + \\lambda_N\\mu_N\\right)\\mu + \\tau \\hat x^2 + \\lambda_N \\mu_N^2\n",
    "\\right)\\\\\n",
    "&=& - \\frac {1} {2} \\left(\n",
    "    \\left(\\tau + \\lambda_N\\right)\\left( \\mu - \\frac {\\tau \\hat x + \\lambda_N\\mu_N } {\\tau + \\lambda_N} \\right)^2\n",
    "    - \\frac {\\left(\\tau \\hat x + \\lambda_N\\mu_N\\right)^2 } {\\tau + \\lambda_N} + \\tau \\hat x^2 + \\lambda_N \\mu_N^2\n",
    "\\right)\\\\\n",
    "&=& - \\frac {1} {2} \\left(\n",
    "    \\left(\\tau + \\lambda_N\\right)\\left( \\mu - \\frac {\\tau \\hat x + \\lambda_N\\mu_N } {\\tau + \\lambda_N} \\right)^2\n",
    "    + \\frac {1} {\\tau + \\lambda_N} \\left(\n",
    "        -\\tau^2\\hat x^2 - 2\\tau \\hat x \\lambda_N \\mu_N - \\lambda_N^2\\mu_N^2\n",
    "        + \\left(\\tau + \\lambda_N\\right)\\tau \\hat x^2\n",
    "        + \\left(\\tau + \\lambda_N\\right)\\lambda \\mu_N^2\n",
    "    \\right)\n",
    "\\right)\\\\\n",
    "&=& - \\frac {1} {2} \\left(\n",
    "    \\left(\\tau + \\lambda_N\\right)\\left( \\mu - \\frac {\\tau \\hat x + \\lambda_N\\mu_N } {\\tau + \\lambda_N} \\right)^2\n",
    "    + \\frac {1} {\\tau + \\lambda_N} \\left(\n",
    "        - 2\\tau \\hat x \\lambda_N \\mu_N\n",
    "        + \\lambda_N\\tau \\hat x^2\n",
    "        + \\tau\\lambda_N \\mu_N^2\n",
    "    \\right)\n",
    "\\right)\\\\\n",
    "&=& - \\frac {1} {2} \\left(\n",
    "    \\left(\\tau + \\lambda_N\\right)\\left( \\mu - \\frac {\\tau \\hat x + \\lambda_N\\mu_N } {\\tau + \\lambda_N} \\right)^2\n",
    "    + \\frac {\\tau \\lambda_N} {\\tau + \\lambda_N} \\left(\\hat x - \\mu_N\\right)^2\n",
    "\\right)\\\\\n",
    "\\end{eqnarray}\n",
    "$$\n"
   ]
  },
  {
   "cell_type": "markdown",
   "metadata": {},
   "source": [
    "$A$を戻す.\n",
    "\n",
    "$$\n",
    "\\begin{eqnarray}\n",
    "p (\\hat x \\mid \\boldsymbol X)\n",
    "&=& \\int \\left( \\int\n",
    "        \\frac {\\tau \\lambda_{N}} {2\\pi}\n",
    "        {\\rm exp}\\left(\n",
    "            - \\frac {1} {2} \\left(\n",
    "                \\left(\\tau + \\lambda_N\\right)\\left( \\mu - \\frac {\\tau \\hat x + \\lambda_N\\mu_N } {\\tau + \\lambda_N} \\right)^2\n",
    "                + \\frac {\\tau \\lambda_N} {\\tau + \\lambda_N} \\left(\\hat x - \\mu_N\\right)^2\n",
    "            \\right)\n",
    "        \\right)\n",
    "    {\\rm d}\\mu \n",
    "    \\right)\n",
    "    {\\rm Gamma} (\\tau \\mid \\alpha_{N}, \\beta_{N})\n",
    "    {\\rm d}\\tau \\\\\n",
    "&=& \\int \\left( \\int\n",
    "        \\frac {\\tau + \\lambda_{N}} {{\\left(2\\pi\\right)^{\\frac {1} {2}}}}\n",
    "        {\\rm exp} \\left(\n",
    "        - \\frac {\\tau + \\lambda_N} {2}\n",
    "            \\left( \\mu - \\frac {\\tau \\hat x + \\lambda_N\\mu_N } {\\tau + \\lambda_N} \\right)^2\n",
    "        \\right)\n",
    "        \\frac {\\frac {\\tau \\lambda_N} {\\tau + \\lambda_{N}}} {{\\left(2\\pi\\right)^{\\frac {1} {2}}}}\n",
    "        {\\rm exp} \\left(\n",
    "        - \\frac {\\frac {\\tau \\lambda_N} {\\tau + \\lambda_N}} {2}\n",
    "            \\left(\\hat x - \\mu_N\\right)^2\n",
    "        \\right)\n",
    "    {\\rm d}\\mu \n",
    "    \\right)\n",
    "    {\\rm Gamma} (\\tau \\mid \\alpha_{N}, \\beta_{N}) \\\\\n",
    "&=& \\int \\left( \\int\n",
    "    \\mathcal N\\left(\\mu \\;\\middle|\\;\n",
    "        \\frac {\\tau \\hat x + \\lambda_N\\mu_N } {\\tau + \\lambda_N}, \n",
    "        \\left( \\tau + \\lambda_N\\right)^{-1}\n",
    "        \\right)\n",
    "    \\mathcal N\\left(\\hat x \\;\\middle|\\;\n",
    "        \\mu_N, \n",
    "        \\left( \\frac {\\tau \\lambda_N} {\\tau + \\lambda_N} \\right)^{-1}\n",
    "        \\right)\n",
    "    {\\rm d}\\mu \n",
    "    \\right)\n",
    "    {\\rm Gamma} (\\tau \\mid \\alpha_{N}, \\beta_{N})\n",
    "    {\\rm d}\\tau \\\\\n",
    "&=& \\int\n",
    "    \\mathcal N\\left(\\hat x \\;\\middle|\\;\n",
    "        \\mu_N, \n",
    "        \\left( \\frac {\\tau \\lambda_N} {\\tau + \\lambda_N} \\right)^{-1}\n",
    "        \\right)\n",
    "    {\\rm Gamma} (\\tau \\mid \\alpha_{N}, \\beta_{N})\n",
    "    {\\rm d}\\tau \\\\\n",
    "\\end{eqnarray}\n",
    "$$\n"
   ]
  },
  {
   "cell_type": "markdown",
   "metadata": {},
   "source": [
    "ここで詰まった. これ以上解くことはとてもむずかしいように思われる. といって数値計算で積分を解く方法は知らない. これ以上は無理.\n",
    "\n",
    "思うに予測分布がNormal-Gamma分布の積分になってくれるといいのではないか. それなら公式で解ける. 今回は事前分布に問題があって予測分布がNormal-Gamma分布のなりそこないの積分になってしまったのではないか, と想像する. ホントかどうかはわからないが.\n",
    "\n",
    "おわり."
   ]
  }
 ],
 "metadata": {
  "kernelspec": {
   "display_name": "Python 3",
   "language": "python",
   "name": "python3"
  },
  "language_info": {
   "codemirror_mode": {
    "name": "ipython",
    "version": 3
   },
   "file_extension": ".py",
   "mimetype": "text/x-python",
   "name": "python",
   "nbconvert_exporter": "python",
   "pygments_lexer": "ipython3",
   "version": "3.6.5"
  }
 },
 "nbformat": 4,
 "nbformat_minor": 2
}
