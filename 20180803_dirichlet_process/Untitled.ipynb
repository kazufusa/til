{
 "cells": [
  {
   "cell_type": "code",
   "execution_count": 45,
   "metadata": {},
   "outputs": [],
   "source": [
    "%matplotlib inline\n",
    "import matplotlib.pyplot as plt\n",
    "from edward.models import DirichletProcess, Normal\n",
    "import numpy as np\n",
    "import tensorflow as tf\n",
    "\n",
    "def plot_dirichlet_process(alpha):\n",
    "  with tf.Session() as sess:\n",
    "    dp = DirichletProcess(alpha, Normal(0.0, 1.0))\n",
    "    samples = sess.run(dp.sample(1000))\n",
    "    plt.hist(samples, bins=100, range=(-3.0, 3.0))\n",
    "    plt.title(\"DP({0}, N(0, 1))\".format(alpha))\n",
    "    plt.show()\n",
    "    return samples"
   ]
  },
  {
   "cell_type": "code",
   "execution_count": 8,
   "metadata": {},
   "outputs": [],
   "source": [
    "a = Normal(0.0, 1.0)"
   ]
  },
  {
   "cell_type": "code",
   "execution_count": 20,
   "metadata": {},
   "outputs": [
    {
     "data": {
      "text/plain": [
       "(array([ 0.,  1.,  0.,  0.,  0.,  0.,  1.,  1.,  3.,  0.,  0.,  3.,  1.,\n",
       "         0.,  1.,  4.,  3.,  3.,  2.,  2.,  6.,  5.,  9.,  8.,  5., 12.,\n",
       "         9., 10., 13., 10., 15., 14.,  9., 11., 15., 20., 17., 27., 19.,\n",
       "        16., 23., 26., 27., 18., 23., 19., 20., 23., 27., 20., 22., 24.,\n",
       "        25., 27., 30., 29., 26., 21., 18., 20., 25., 13., 18., 15., 17.,\n",
       "        17., 15., 13., 11., 11.,  6., 11.,  8.,  8., 10.,  6.,  8.,  5.,\n",
       "         2.,  4.,  2.,  3.,  2.,  5.,  3.,  1.,  3.,  1.,  1.,  2.,  0.,\n",
       "         2.,  4.,  1.,  1.,  0.,  0.,  0.,  0.,  1.]),\n",
       " array([-3.  , -2.94, -2.88, -2.82, -2.76, -2.7 , -2.64, -2.58, -2.52,\n",
       "        -2.46, -2.4 , -2.34, -2.28, -2.22, -2.16, -2.1 , -2.04, -1.98,\n",
       "        -1.92, -1.86, -1.8 , -1.74, -1.68, -1.62, -1.56, -1.5 , -1.44,\n",
       "        -1.38, -1.32, -1.26, -1.2 , -1.14, -1.08, -1.02, -0.96, -0.9 ,\n",
       "        -0.84, -0.78, -0.72, -0.66, -0.6 , -0.54, -0.48, -0.42, -0.36,\n",
       "        -0.3 , -0.24, -0.18, -0.12, -0.06,  0.  ,  0.06,  0.12,  0.18,\n",
       "         0.24,  0.3 ,  0.36,  0.42,  0.48,  0.54,  0.6 ,  0.66,  0.72,\n",
       "         0.78,  0.84,  0.9 ,  0.96,  1.02,  1.08,  1.14,  1.2 ,  1.26,\n",
       "         1.32,  1.38,  1.44,  1.5 ,  1.56,  1.62,  1.68,  1.74,  1.8 ,\n",
       "         1.86,  1.92,  1.98,  2.04,  2.1 ,  2.16,  2.22,  2.28,  2.34,\n",
       "         2.4 ,  2.46,  2.52,  2.58,  2.64,  2.7 ,  2.76,  2.82,  2.88,\n",
       "         2.94,  3.  ]),\n",
       " <a list of 100 Patch objects>)"
      ]
     },
     "execution_count": 20,
     "metadata": {},
     "output_type": "execute_result"
    },
    {
     "data": {
      "image/png": "[encoded data removed]",
      "text/plain": [
       "<Figure size 432x288 with 1 Axes>"
      ]
     },
     "metadata": {},
     "output_type": "display_data"
    }
   ],
   "source": [
    "k = 0\n",
    "with tf.Session() as sess:\n",
    "    k = sess.run(a.sample(1000))\n",
    "plt.hist(k, bins=100, range=(-3.0, 3.0))"
   ]
  },
  {
   "cell_type": "code",
   "execution_count": 54,
   "metadata": {
    "scrolled": false
   },
   "outputs": [
    {
     "data": {
      "image/png": "[encoded data removed]",
      "text/plain": [
       "<Figure size 432x288 with 1 Axes>"
      ]
     },
     "metadata": {},
     "output_type": "display_data"
    },
    {
     "data": {
      "text/plain": [
       "(array([-2.97775960e+00, -2.70349240e+00, -2.61891317e+00, -1.96282923e+00,\n",
       "        -1.86458468e+00, -1.86247456e+00, -1.84259880e+00, -1.68241107e+00,\n",
       "        -1.67465901e+00, -1.65508437e+00, -1.55168927e+00, -1.51943254e+00,\n",
       "        -1.51746655e+00, -1.45065987e+00, -1.38155758e+00, -1.36088669e+00,\n",
       "        -1.33706212e+00, -1.30314100e+00, -1.23790455e+00, -1.23551536e+00,\n",
       "        -1.21004224e+00, -1.16138566e+00, -1.13685310e+00, -1.13248515e+00,\n",
       "        -1.11873853e+00, -1.11192214e+00, -1.10514510e+00, -1.04768670e+00,\n",
       "        -1.00693178e+00, -9.94337738e-01, -9.78823841e-01, -9.38649058e-01,\n",
       "        -9.35725451e-01, -9.17407572e-01, -9.00115967e-01, -8.79710019e-01,\n",
       "        -8.67971480e-01, -8.63671243e-01, -8.57834280e-01, -8.53516579e-01,\n",
       "        -8.50448847e-01, -8.46027255e-01, -8.37567866e-01, -8.22102308e-01,\n",
       "        -8.21816325e-01, -8.01366150e-01, -7.77930737e-01, -7.55056322e-01,\n",
       "        -7.32396960e-01, -7.31876910e-01, -7.21236706e-01, -7.16883719e-01,\n",
       "        -7.10028589e-01, -7.06801116e-01, -6.72882259e-01, -6.71532750e-01,\n",
       "        -6.66164398e-01, -6.62960351e-01, -6.54418707e-01, -6.50012553e-01,\n",
       "        -6.28180087e-01, -6.22352540e-01, -6.16627574e-01, -6.08973086e-01,\n",
       "        -6.08667612e-01, -5.80453396e-01, -5.80406487e-01, -5.53970635e-01,\n",
       "        -5.51853061e-01, -5.43795586e-01, -5.28105438e-01, -5.25023401e-01,\n",
       "        -5.17716885e-01, -5.04540920e-01, -5.01428008e-01, -4.80966777e-01,\n",
       "        -4.69381571e-01, -4.69246447e-01, -4.66272593e-01, -4.56027418e-01,\n",
       "        -4.47959065e-01, -4.42461073e-01, -4.01347280e-01, -3.99735481e-01,\n",
       "        -3.99033606e-01, -3.85644585e-01, -3.77900988e-01, -3.70630085e-01,\n",
       "        -3.68295014e-01, -3.65314573e-01, -3.63754570e-01, -3.55805397e-01,\n",
       "        -3.55719090e-01, -3.54101986e-01, -3.50964218e-01, -3.45477462e-01,\n",
       "        -3.35120291e-01, -3.27824384e-01, -3.07429612e-01, -2.89337933e-01,\n",
       "        -2.85919935e-01, -2.83214599e-01, -2.71995634e-01, -2.71387964e-01,\n",
       "        -2.68404484e-01, -2.56066471e-01, -2.25553408e-01, -2.13555694e-01,\n",
       "        -2.12692842e-01, -1.85260132e-01, -1.76484838e-01, -1.75001130e-01,\n",
       "        -1.67147666e-01, -1.53635219e-01, -1.40256137e-01, -1.35696426e-01,\n",
       "        -1.20799437e-01, -1.12482235e-01, -1.07974268e-01, -6.10355847e-02,\n",
       "        -4.96609509e-02, -4.95548248e-02, -4.54307944e-02, -4.13833894e-02,\n",
       "        -3.23178470e-02, -2.84275766e-02, -2.33781599e-02, -5.80597576e-03,\n",
       "        -2.46294495e-03,  6.38805702e-03,  6.87991036e-03,  7.70857185e-03,\n",
       "         3.14705782e-02,  3.43161039e-02,  3.84191498e-02,  7.46701509e-02,\n",
       "         9.06270593e-02,  1.03054844e-01,  1.18194424e-01,  1.23908117e-01,\n",
       "         1.78304359e-01,  1.78430334e-01,  1.79743201e-01,  1.90468088e-01,\n",
       "         1.91155195e-01,  1.97335422e-01,  2.06919476e-01,  2.15558931e-01,\n",
       "         2.28737801e-01,  2.37047017e-01,  2.39734799e-01,  2.77641773e-01,\n",
       "         2.87558168e-01,  3.04093897e-01,  3.05389136e-01,  3.08516741e-01,\n",
       "         3.09248805e-01,  3.28999192e-01,  3.31798613e-01,  3.41206402e-01,\n",
       "         3.70189309e-01,  3.82081360e-01,  4.03855234e-01,  4.16049778e-01,\n",
       "         4.20929283e-01,  4.23529774e-01,  4.31782097e-01,  4.38680083e-01,\n",
       "         4.41904843e-01,  4.43719327e-01,  4.52458858e-01,  4.77878541e-01,\n",
       "         4.79084313e-01,  4.89028662e-01,  4.98301536e-01,  4.98588443e-01,\n",
       "         5.02098382e-01,  5.04189849e-01,  5.15618324e-01,  5.30782640e-01,\n",
       "         5.34421623e-01,  5.45651436e-01,  5.51375210e-01,  5.52917480e-01,\n",
       "         5.54601967e-01,  5.57046592e-01,  5.76226056e-01,  5.87545753e-01,\n",
       "         6.12838447e-01,  6.17743611e-01,  6.28965378e-01,  6.84077203e-01,\n",
       "         6.90226257e-01,  6.93370044e-01,  6.97811425e-01,  7.01308250e-01,\n",
       "         7.02584505e-01,  7.06293225e-01,  7.25407243e-01,  7.61185944e-01,\n",
       "         7.69881666e-01,  7.93105602e-01,  8.09572041e-01,  8.14639866e-01,\n",
       "         8.15903306e-01,  8.22463334e-01,  8.50237906e-01,  8.59265566e-01,\n",
       "         8.64997506e-01,  9.26781833e-01,  9.45909500e-01,  9.57917571e-01,\n",
       "         9.79316771e-01,  9.86045301e-01,  9.90718305e-01,  9.94955122e-01,\n",
       "         9.96472478e-01,  9.97667134e-01,  1.00245345e+00,  1.00803316e+00,\n",
       "         1.03611946e+00,  1.04473627e+00,  1.06243408e+00,  1.07498765e+00,\n",
       "         1.07934308e+00,  1.10368919e+00,  1.11868608e+00,  1.14014626e+00,\n",
       "         1.14112091e+00,  1.23838544e+00,  1.25107491e+00,  1.25359333e+00,\n",
       "         1.31189883e+00,  1.34014642e+00,  1.36797988e+00,  1.37202287e+00,\n",
       "         1.53651226e+00,  1.62535584e+00,  1.63451302e+00,  1.70699596e+00,\n",
       "         1.72461486e+00,  1.80624962e+00,  1.82991278e+00,  1.83703172e+00,\n",
       "         1.87170267e+00,  1.91615403e+00,  1.95131409e+00,  2.13762164e+00,\n",
       "         2.33932924e+00,  2.33970976e+00,  2.36934566e+00,  2.37312651e+00,\n",
       "         2.42886186e+00,  2.58065438e+00,  2.62308908e+00], dtype=float32),\n",
       " array([ 1,  5,  1,  2,  3, 15,  2,  1,  2,  2,  1,  4,  2,  1,  5,  2,  1,\n",
       "         4,  1,  1, 10, 19,  1,  5,  1,  9,  4,  7,  2,  2,  2,  8,  1, 11,\n",
       "         6,  1,  4,  5,  4,  3,  1,  1,  2, 11,  5,  4,  1,  1,  3,  1,  1,\n",
       "         1,  2,  1,  9,  1,  2,  1,  7,  1,  7,  6,  1,  2,  3,  5,  1,  8,\n",
       "         7,  2, 11,  1,  2,  2,  5,  2,  1,  1,  1,  4,  1,  2,  1,  2,  1,\n",
       "         1,  1,  3,  1,  1,  2,  9, 25,  1,  6,  1,  2,  1,  2, 15,  1,  3,\n",
       "         1, 12,  3,  1,  2,  1,  3,  2,  9,  5,  4,  1,  4,  1,  4,  3,  1,\n",
       "        13,  2,  1,  2,  1,  1, 35,  4,  4,  1,  1,  1,  1,  1,  3,  7,  4,\n",
       "         1,  2,  3,  5,  1,  9, 22,  3,  4,  2,  2,  1,  1,  9,  6,  1,  7,\n",
       "         1,  1,  1,  1, 11,  1,  1,  2,  4,  6, 17,  1,  3,  2,  1,  1,  3,\n",
       "         1,  1, 12,  3,  3,  1,  9,  5,  1,  1,  1,  4, 28,  3,  3,  1,  3,\n",
       "         1,  1,  2,  5,  5,  2,  1,  2,  4,  3,  3,  1,  6,  2,  7,  1,  1,\n",
       "         1,  2,  1, 15,  6, 23,  1,  1,  1,  3,  6,  5,  3,  6, 22,  1,  4,\n",
       "         1,  2,  1, 15,  2,  2,  5,  2,  2,  2,  2,  9,  1,  4,  1,  7,  3,\n",
       "        12,  1,  4,  2,  2,  7,  1, 11,  2,  1,  1,  4,  3,  4,  1,  1,  8]))"
      ]
     },
     "execution_count": 54,
     "metadata": {},
     "output_type": "execute_result"
    },
    {
     "data": {
      "image/png": "[encoded data removed]",
      "text/plain": [
       "<Figure size 432x288 with 1 Axes>"
      ]
     },
     "metadata": {},
     "output_type": "display_data"
    }
   ],
   "source": [
    "samples = plot_dirichlet_process(100.)\n",
    "plt.plot(sorted(samples))\n",
    "np.unique(samples, return_counts=True)"
   ]
  }
 ],
 "metadata": {
  "kernelspec": {
   "display_name": "Python 3",
   "language": "python",
   "name": "python3"
  },
  "language_info": {
   "codemirror_mode": {
    "name": "ipython",
    "version": 3
   },
   "file_extension": ".py",
   "mimetype": "text/x-python",
   "name": "python",
   "nbconvert_exporter": "python",
   "pygments_lexer": "ipython3",
   "version": "3.6.6"
  }
 },
 "nbformat": 4,
 "nbformat_minor": 2
}
