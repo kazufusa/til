{
 "cells": [
  {
   "cell_type": "markdown",
   "metadata": {},
   "source": [
    "# 多変量正規分布の階層ベイズモデル\n",
    "\n",
    "まず, 多変量正規分布がこちら.\n",
    "\n",
    "$$\n",
    "\\begin{eqnarray}\n",
    "\\mathcal N \\left(\\textbf x \\mid \\boldsymbol \\mu, \\boldsymbol \\Lambda^{-1} \\right)\n",
    "&=&\n",
    "    \\frac {\\left| \\boldsymbol \\Lambda \\right|^\\frac {1} {2}} {(2\\pi)^{\\frac{D}{2}}}\n",
    "    {\\rm exp }\\left(\n",
    "        - \\frac {1} {2}\n",
    "        \\left(\\textbf x - \\boldsymbol \\mu\\right)^{\\rm T}\n",
    "        \\Lambda\n",
    "        \\left(\\textbf x - \\boldsymbol \\mu\\right)\n",
    "    \\right)\n",
    "\\end{eqnarray}\n",
    "$$\n",
    "\n",
    "続いて, Wishart分布. 多変量正規分布の精度行列の共役事前分布.\n",
    "\n",
    "$$\n",
    "\\begin{eqnarray}\n",
    "\\mathcal W \\left(\\boldsymbol \\Lambda \\mid \\textbf W^{-1}, \\nu \\right)\n",
    "&=&\n",
    "{\\frac {\\left|\\boldsymbol \\Lambda  \\right|^{\\frac {\\nu-D-1}{2}}{\\rm exp} \\left(\n",
    "    \\frac\n",
    "    {-\\operatorname {tr} (\\mathbf {W} ^{-1}{\\boldsymbol \\Lambda })} {2}\\right)}\n",
    "    {2^{\\frac {\\nu D}{2}}\\left|{\\mathbf {W} }\\right|^{\\frac {\\nu} {2}}\\Gamma _{D}\\left({\\frac {\\nu}{2}}\\right)}} \\\\\n",
    "\\Gamma_{D}\\left( \\frac {\\nu} {2} \\right)\n",
    "&=&\n",
    "    \\pi ^{D(D-1)/4}\\prod _{j=1}^{D}\\Gamma \\left({\\frac {\\nu}{2}}-{\\frac {j-1}{2}}\\right)\n",
    "\\end{eqnarray}\n",
    "$$\n",
    "\n",
    "\n",
    "次にGamma分布.\n",
    "\n",
    "$$\n",
    "\\operatorname {Gamma} \\left(x \\mid \\alpha, \\beta \\right) = {\\frac {\\beta ^{\\alpha }}{\\Gamma (\\alpha )}}x^{\\alpha -1}e^{-\\beta x}\n",
    "$$\n",
    "\n",
    "また, 多変量正規分布の平均ベクトルの共役事前分布は多変量正規分布である."
   ]
  },
  {
   "cell_type": "markdown",
   "metadata": {},
   "source": [
    "さて, 多変量正規分布+Normal-Wishart分布(事前分布)の事後分布を[以前](http://kazufusa1484.hatenablog.com/entry/2018/07/27/121549)しらべた. これを拡張して, 事前分布の各パラメータに階層事前分布を与えることを考える. 例えば $ \\mathbf W_0 $ に事前分布(Wishart分布)を設定する.\n",
    "\n",
    "$$\n",
    "\\begin{eqnarray}\n",
    "p\\left(\\boldsymbol \\mu, \\boldsymbol \\Lambda \\mid \\textbf x \\right)\n",
    "&=&\n",
    "    \\prod_{i=1}^N \\mathcal N \\left(\\textbf x_i \\mid \\boldsymbol \\mu, \\boldsymbol \\Lambda^{-1} \\right)\n",
    "    \\mathcal N \\left(\\boldsymbol \\mu \\mid \\boldsymbol \\mu_0, \\left(\\lambda_0 \\boldsymbol \\Lambda\\right)^{-1} \\right)\n",
    "    \\mathcal W \\left(\\boldsymbol \\Lambda \\mid \\textbf W_0^{-1}, \\nu_0 \\right)\n",
    "    \\mathcal W \\left(\\textbf W_0 \\mid \\textbf W_1^{-1}, \\nu_1 \\right)\n",
    "\\end{eqnarray}\n",
    "$$"
   ]
  },
  {
   "cell_type": "markdown",
   "metadata": {},
   "source": [
    "\n",
    "$$\n",
    "\\begin{eqnarray}\n",
    "\\mathcal W \\left(\\boldsymbol \\Lambda \\mid \\textbf W_0^{-1}, \\nu_0 \\right)\n",
    "\\mathcal W \\left(\\textbf W_0 \\mid \\textbf W_1^{-1}, \\nu_1 \\right)\n",
    "&=&\n",
    "    {\\frac {\\left|\\boldsymbol \\Lambda  \\right|^{\\frac {\\nu_0-D-1}{2}}{\\rm exp} \\left(\n",
    "    \\frac\n",
    "        {-\\operatorname {tr} (\\mathbf {W}_0 ^{-1}{\\boldsymbol \\Lambda })} {2}\\right)}\n",
    "        {2^{\\frac {\\nu_0 D}{2}}\\left|{\\mathbf {W}_0 }\\right|^{\\frac {\\nu_0} {2}}\\Gamma _{D}\\left({\\frac {\\nu_0}{2}}\\right)}}\n",
    "    {\\frac {\\left|\\mathbf {W}_0  \\right|^{\\frac {\\nu_1-D-1}{2}}{\\rm exp} \\left(\n",
    "    \\frac\n",
    "        {-\\operatorname {tr} (\\mathbf {W}_1 ^{-1}{\\mathbf W_0 })} {2}\\right)}\n",
    "        {2^{\\frac {\\nu_1 D}{2}}\\left|{\\mathbf {W}_1 }\\right|^{\\frac {\\nu_1} {2}}\\Gamma _{D}\\left({\\frac {\\nu_1}{2}}\\right)}}\n",
    "\\end{eqnarray}\n",
    "$$"
   ]
  }
 ],
 "metadata": {
  "kernelspec": {
   "display_name": "Python 3",
   "language": "python",
   "name": "python3"
  },
  "language_info": {
   "codemirror_mode": {
    "name": "ipython",
    "version": 3
   },
   "file_extension": ".py",
   "mimetype": "text/x-python",
   "name": "python",
   "nbconvert_exporter": "python",
   "pygments_lexer": "ipython3",
   "version": "3.6.4"
  }
 },
 "nbformat": 4,
 "nbformat_minor": 2
}
